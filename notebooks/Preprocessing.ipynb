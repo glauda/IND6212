{
 "cells": [
  {
   "cell_type": "markdown",
   "metadata": {},
   "source": [
    "# Import packages and data "
   ]
  },
  {
   "cell_type": "code",
   "execution_count": 1,
   "metadata": {},
   "outputs": [],
   "source": [
    "# Packages for data manipulation\n",
    "import numpy as np\n",
    "import pandas as pd"
   ]
  },
  {
   "cell_type": "code",
   "execution_count": 2,
   "metadata": {},
   "outputs": [],
   "source": [
    "# Packages for dataviz\n",
    "import plotly.express as px\n",
    "import plotly.tools as tls\n",
    "import cufflinks as cf"
   ]
  },
  {
   "cell_type": "code",
   "execution_count": 3,
   "metadata": {},
   "outputs": [
    {
     "data": {
      "text/html": [
       "        <script type=\"text/javascript\">\n",
       "        window.PlotlyConfig = {MathJaxConfig: 'local'};\n",
       "        if (window.MathJax) {MathJax.Hub.Config({SVG: {font: \"STIX-Web\"}});}\n",
       "        if (typeof require !== 'undefined') {\n",
       "        require.undef(\"plotly\");\n",
       "        requirejs.config({\n",
       "            paths: {\n",
       "                'plotly': ['https://cdn.plot.ly/plotly-latest.min']\n",
       "            }\n",
       "        });\n",
       "        require(['plotly'], function(Plotly) {\n",
       "            window._Plotly = Plotly;\n",
       "        });\n",
       "        }\n",
       "        </script>\n",
       "        "
      ]
     },
     "metadata": {},
     "output_type": "display_data"
    }
   ],
   "source": [
    "# configuration for plotly\n",
    "template = \"plotly_dark\"\n",
    "\n",
    "# offline configuration of cufflinks\n",
    "cf.go_offline()"
   ]
  },
  {
   "cell_type": "code",
   "execution_count": 4,
   "metadata": {},
   "outputs": [],
   "source": [
    "# Load the data\n",
    "data = pd.read_csv('../data/raw.csv')"
   ]
  },
  {
   "cell_type": "markdown",
   "metadata": {},
   "source": [
    "## Pieces of documentation about the variables\n",
    "* https://rstudio-pubs-static.s3.amazonaws.com/365075_ec9ebe4da4cc465ba9beaef25cda6bad.html\n",
    "* https://www.kaggle.com/dgomonov/new-york-city-airbnb-open-data"
   ]
  },
  {
   "cell_type": "markdown",
   "metadata": {},
   "source": [
    "# Quick look at the dataset"
   ]
  },
  {
   "cell_type": "code",
   "execution_count": 5,
   "metadata": {},
   "outputs": [
    {
     "data": {
      "text/html": [
       "<div>\n",
       "<style scoped>\n",
       "    .dataframe tbody tr th:only-of-type {\n",
       "        vertical-align: middle;\n",
       "    }\n",
       "\n",
       "    .dataframe tbody tr th {\n",
       "        vertical-align: top;\n",
       "    }\n",
       "\n",
       "    .dataframe thead th {\n",
       "        text-align: right;\n",
       "    }\n",
       "</style>\n",
       "<table border=\"1\" class=\"dataframe\">\n",
       "  <thead>\n",
       "    <tr style=\"text-align: right;\">\n",
       "      <th></th>\n",
       "      <th>id</th>\n",
       "      <th>listing_url</th>\n",
       "      <th>scrape_id</th>\n",
       "      <th>last_scraped</th>\n",
       "      <th>name</th>\n",
       "      <th>summary</th>\n",
       "      <th>space</th>\n",
       "      <th>description</th>\n",
       "      <th>experiences_offered</th>\n",
       "      <th>neighborhood_overview</th>\n",
       "      <th>...</th>\n",
       "      <th>instant_bookable</th>\n",
       "      <th>is_business_travel_ready</th>\n",
       "      <th>cancellation_policy</th>\n",
       "      <th>require_guest_profile_picture</th>\n",
       "      <th>require_guest_phone_verification</th>\n",
       "      <th>calculated_host_listings_count</th>\n",
       "      <th>calculated_host_listings_count_entire_homes</th>\n",
       "      <th>calculated_host_listings_count_private_rooms</th>\n",
       "      <th>calculated_host_listings_count_shared_rooms</th>\n",
       "      <th>reviews_per_month</th>\n",
       "    </tr>\n",
       "  </thead>\n",
       "  <tbody>\n",
       "    <tr>\n",
       "      <th>0</th>\n",
       "      <td>958</td>\n",
       "      <td>https://www.airbnb.com/rooms/958</td>\n",
       "      <td>2.019100e+13</td>\n",
       "      <td>10/14/19</td>\n",
       "      <td>Bright, Modern Garden Unit - 1BR/1B</td>\n",
       "      <td>New update: the house next door is under const...</td>\n",
       "      <td>Newly remodeled, modern, and bright garden uni...</td>\n",
       "      <td>New update: the house next door is under const...</td>\n",
       "      <td>none</td>\n",
       "      <td>*Quiet cul de sac in friendly neighborhood *St...</td>\n",
       "      <td>...</td>\n",
       "      <td>f</td>\n",
       "      <td>f</td>\n",
       "      <td>moderate</td>\n",
       "      <td>f</td>\n",
       "      <td>f</td>\n",
       "      <td>1</td>\n",
       "      <td>1</td>\n",
       "      <td>0</td>\n",
       "      <td>0</td>\n",
       "      <td>1.74</td>\n",
       "    </tr>\n",
       "    <tr>\n",
       "      <th>1</th>\n",
       "      <td>3850</td>\n",
       "      <td>https://www.airbnb.com/rooms/3850</td>\n",
       "      <td>2.019100e+13</td>\n",
       "      <td>10/14/19</td>\n",
       "      <td>Charming room for two</td>\n",
       "      <td>Your own private room plus access to a shared ...</td>\n",
       "      <td>This room can fit two people. Nobody else will...</td>\n",
       "      <td>Your own private room plus access to a shared ...</td>\n",
       "      <td>none</td>\n",
       "      <td>This is a quiet, safe neighborhood on a substa...</td>\n",
       "      <td>...</td>\n",
       "      <td>f</td>\n",
       "      <td>f</td>\n",
       "      <td>strict_14_with_grace_period</td>\n",
       "      <td>f</td>\n",
       "      <td>f</td>\n",
       "      <td>3</td>\n",
       "      <td>0</td>\n",
       "      <td>3</td>\n",
       "      <td>0</td>\n",
       "      <td>1.28</td>\n",
       "    </tr>\n",
       "    <tr>\n",
       "      <th>2</th>\n",
       "      <td>5858</td>\n",
       "      <td>https://www.airbnb.com/rooms/5858</td>\n",
       "      <td>2.019100e+13</td>\n",
       "      <td>10/14/19</td>\n",
       "      <td>Creative Sanctuary</td>\n",
       "      <td>NaN</td>\n",
       "      <td>We live in a large Victorian house on a quiet ...</td>\n",
       "      <td>We live in a large Victorian house on a quiet ...</td>\n",
       "      <td>none</td>\n",
       "      <td>I love how our neighborhood feels quiet but is...</td>\n",
       "      <td>...</td>\n",
       "      <td>f</td>\n",
       "      <td>f</td>\n",
       "      <td>strict_14_with_grace_period</td>\n",
       "      <td>f</td>\n",
       "      <td>f</td>\n",
       "      <td>1</td>\n",
       "      <td>1</td>\n",
       "      <td>0</td>\n",
       "      <td>0</td>\n",
       "      <td>0.87</td>\n",
       "    </tr>\n",
       "    <tr>\n",
       "      <th>3</th>\n",
       "      <td>7918</td>\n",
       "      <td>https://www.airbnb.com/rooms/7918</td>\n",
       "      <td>2.019100e+13</td>\n",
       "      <td>10/14/19</td>\n",
       "      <td>A Friendly Room - UCSF/USF - San Francisco</td>\n",
       "      <td>Nice and good public transportation.  7 minute...</td>\n",
       "      <td>Settle down, S.F. resident, student, hospital,...</td>\n",
       "      <td>Nice and good public transportation.  7 minute...</td>\n",
       "      <td>none</td>\n",
       "      <td>Shopping old town, restaurants, McDonald, Whol...</td>\n",
       "      <td>...</td>\n",
       "      <td>f</td>\n",
       "      <td>f</td>\n",
       "      <td>strict_14_with_grace_period</td>\n",
       "      <td>f</td>\n",
       "      <td>f</td>\n",
       "      <td>9</td>\n",
       "      <td>0</td>\n",
       "      <td>9</td>\n",
       "      <td>0</td>\n",
       "      <td>0.15</td>\n",
       "    </tr>\n",
       "    <tr>\n",
       "      <th>4</th>\n",
       "      <td>8142</td>\n",
       "      <td>https://www.airbnb.com/rooms/8142</td>\n",
       "      <td>2.019100e+13</td>\n",
       "      <td>10/14/19</td>\n",
       "      <td>Friendly Room Apt. Style -UCSF/USF - San Franc...</td>\n",
       "      <td>Nice and good public transportation.  7 minute...</td>\n",
       "      <td>Settle down, S.F. resident, student, hospital,...</td>\n",
       "      <td>Nice and good public transportation.  7 minute...</td>\n",
       "      <td>none</td>\n",
       "      <td>NaN</td>\n",
       "      <td>...</td>\n",
       "      <td>f</td>\n",
       "      <td>f</td>\n",
       "      <td>strict_14_with_grace_period</td>\n",
       "      <td>f</td>\n",
       "      <td>f</td>\n",
       "      <td>9</td>\n",
       "      <td>0</td>\n",
       "      <td>9</td>\n",
       "      <td>0</td>\n",
       "      <td>0.13</td>\n",
       "    </tr>\n",
       "  </tbody>\n",
       "</table>\n",
       "<p>5 rows × 106 columns</p>\n",
       "</div>"
      ],
      "text/plain": [
       "     id                        listing_url     scrape_id last_scraped  \\\n",
       "0   958   https://www.airbnb.com/rooms/958  2.019100e+13     10/14/19   \n",
       "1  3850  https://www.airbnb.com/rooms/3850  2.019100e+13     10/14/19   \n",
       "2  5858  https://www.airbnb.com/rooms/5858  2.019100e+13     10/14/19   \n",
       "3  7918  https://www.airbnb.com/rooms/7918  2.019100e+13     10/14/19   \n",
       "4  8142  https://www.airbnb.com/rooms/8142  2.019100e+13     10/14/19   \n",
       "\n",
       "                                                name  \\\n",
       "0                Bright, Modern Garden Unit - 1BR/1B   \n",
       "1                              Charming room for two   \n",
       "2                                 Creative Sanctuary   \n",
       "3         A Friendly Room - UCSF/USF - San Francisco   \n",
       "4  Friendly Room Apt. Style -UCSF/USF - San Franc...   \n",
       "\n",
       "                                             summary  \\\n",
       "0  New update: the house next door is under const...   \n",
       "1  Your own private room plus access to a shared ...   \n",
       "2                                                NaN   \n",
       "3  Nice and good public transportation.  7 minute...   \n",
       "4  Nice and good public transportation.  7 minute...   \n",
       "\n",
       "                                               space  \\\n",
       "0  Newly remodeled, modern, and bright garden uni...   \n",
       "1  This room can fit two people. Nobody else will...   \n",
       "2  We live in a large Victorian house on a quiet ...   \n",
       "3  Settle down, S.F. resident, student, hospital,...   \n",
       "4  Settle down, S.F. resident, student, hospital,...   \n",
       "\n",
       "                                         description experiences_offered  \\\n",
       "0  New update: the house next door is under const...                none   \n",
       "1  Your own private room plus access to a shared ...                none   \n",
       "2  We live in a large Victorian house on a quiet ...                none   \n",
       "3  Nice and good public transportation.  7 minute...                none   \n",
       "4  Nice and good public transportation.  7 minute...                none   \n",
       "\n",
       "                               neighborhood_overview  ... instant_bookable  \\\n",
       "0  *Quiet cul de sac in friendly neighborhood *St...  ...                f   \n",
       "1  This is a quiet, safe neighborhood on a substa...  ...                f   \n",
       "2  I love how our neighborhood feels quiet but is...  ...                f   \n",
       "3  Shopping old town, restaurants, McDonald, Whol...  ...                f   \n",
       "4                                                NaN  ...                f   \n",
       "\n",
       "  is_business_travel_ready          cancellation_policy  \\\n",
       "0                        f                     moderate   \n",
       "1                        f  strict_14_with_grace_period   \n",
       "2                        f  strict_14_with_grace_period   \n",
       "3                        f  strict_14_with_grace_period   \n",
       "4                        f  strict_14_with_grace_period   \n",
       "\n",
       "  require_guest_profile_picture require_guest_phone_verification  \\\n",
       "0                             f                                f   \n",
       "1                             f                                f   \n",
       "2                             f                                f   \n",
       "3                             f                                f   \n",
       "4                             f                                f   \n",
       "\n",
       "   calculated_host_listings_count  \\\n",
       "0                               1   \n",
       "1                               3   \n",
       "2                               1   \n",
       "3                               9   \n",
       "4                               9   \n",
       "\n",
       "   calculated_host_listings_count_entire_homes  \\\n",
       "0                                            1   \n",
       "1                                            0   \n",
       "2                                            1   \n",
       "3                                            0   \n",
       "4                                            0   \n",
       "\n",
       "  calculated_host_listings_count_private_rooms  \\\n",
       "0                                            0   \n",
       "1                                            3   \n",
       "2                                            0   \n",
       "3                                            9   \n",
       "4                                            9   \n",
       "\n",
       "   calculated_host_listings_count_shared_rooms  reviews_per_month  \n",
       "0                                            0               1.74  \n",
       "1                                            0               1.28  \n",
       "2                                            0               0.87  \n",
       "3                                            0               0.15  \n",
       "4                                            0               0.13  \n",
       "\n",
       "[5 rows x 106 columns]"
      ]
     },
     "execution_count": 5,
     "metadata": {},
     "output_type": "execute_result"
    }
   ],
   "source": [
    "data.head()"
   ]
  },
  {
   "cell_type": "code",
   "execution_count": 6,
   "metadata": {},
   "outputs": [
    {
     "data": {
      "text/plain": [
       "Index(['id', 'listing_url', 'scrape_id', 'last_scraped', 'name', 'summary',\n",
       "       'space', 'description', 'experiences_offered', 'neighborhood_overview',\n",
       "       ...\n",
       "       'instant_bookable', 'is_business_travel_ready', 'cancellation_policy',\n",
       "       'require_guest_profile_picture', 'require_guest_phone_verification',\n",
       "       'calculated_host_listings_count',\n",
       "       'calculated_host_listings_count_entire_homes',\n",
       "       'calculated_host_listings_count_private_rooms',\n",
       "       'calculated_host_listings_count_shared_rooms', 'reviews_per_month'],\n",
       "      dtype='object', length=106)"
      ]
     },
     "execution_count": 6,
     "metadata": {},
     "output_type": "execute_result"
    }
   ],
   "source": [
    "#data.columns\n",
    "data.columns"
   ]
  },
  {
   "cell_type": "code",
   "execution_count": 7,
   "metadata": {},
   "outputs": [
    {
     "data": {
      "text/plain": [
       "object     62\n",
       "float64    24\n",
       "int64      20\n",
       "dtype: int64"
      ]
     },
     "execution_count": 7,
     "metadata": {},
     "output_type": "execute_result"
    }
   ],
   "source": [
    "#data type\n",
    "data.dtypes.value_counts()"
   ]
  },
  {
   "cell_type": "markdown",
   "metadata": {},
   "source": [
    "To simplify this notebook, the cleanning of the variables is organized as followed:\n",
    "* Quantitative\n",
    "* Categorical \n",
    "* Boolean\n",
    "* Text\n",
    "* To drop\n",
    "* I don't know yet"
   ]
  },
  {
   "cell_type": "code",
   "execution_count": 8,
   "metadata": {},
   "outputs": [],
   "source": [
    "# Outlier detection\n",
    "#col_to_drop = []\n",
    "row_to_drop = []"
   ]
  },
  {
   "cell_type": "code",
   "execution_count": 9,
   "metadata": {},
   "outputs": [],
   "source": [
    "# control objects\n",
    "var_quant = []\n",
    "var_cat = []\n",
    "var_bool = []\n",
    "var_text = []\n",
    "var_date = []\n",
    "var_to_drop = []\n",
    "var_TODO = []\n",
    "var_cible = []"
   ]
  },
  {
   "cell_type": "markdown",
   "metadata": {},
   "source": [
    "# Y variable"
   ]
  },
  {
   "cell_type": "code",
   "execution_count": 10,
   "metadata": {},
   "outputs": [],
   "source": [
    "var_cible.append(\"review_scores_rating\")"
   ]
  },
  {
   "cell_type": "markdown",
   "metadata": {},
   "source": [
    "On suppose qu'on ne dispose pas des autres *rating* pour expliquer Y"
   ]
  },
  {
   "cell_type": "code",
   "execution_count": 11,
   "metadata": {},
   "outputs": [],
   "source": [
    "var_to_drop.extend( ['review_scores_checkin', 'review_scores_cleanliness', 'review_scores_communication',\n",
    "                     'review_scores_location', 'review_scores_accuracy', 'review_scores_value', 'reviews_per_month'] )"
   ]
  },
  {
   "cell_type": "markdown",
   "metadata": {},
   "source": [
    "# Variables with no cleanning needed"
   ]
  },
  {
   "cell_type": "markdown",
   "metadata": {},
   "source": [
    "There is no early remarks regarding theses variables. Nothing special came out when looking at them."
   ]
  },
  {
   "cell_type": "code",
   "execution_count": 12,
   "metadata": {},
   "outputs": [],
   "source": [
    "var_quant.extend([\"accommodates\", \"guests_included\"])"
   ]
  },
  {
   "cell_type": "code",
   "execution_count": 13,
   "metadata": {},
   "outputs": [],
   "source": [
    "var_text.extend(['name', 'summary', 'space', 'description', 'neighborhood_overview', 'notes',\n",
    "                'transit', 'access', 'interaction', 'house_rules', 'host_about', 'zipcode'])"
   ]
  },
  {
   "cell_type": "markdown",
   "metadata": {},
   "source": [
    "# Variables to drop"
   ]
  },
  {
   "cell_type": "markdown",
   "metadata": {},
   "source": [
    "## *id*"
   ]
  },
  {
   "cell_type": "code",
   "execution_count": 14,
   "metadata": {},
   "outputs": [
    {
     "data": {
      "text/plain": [
       "8111"
      ]
     },
     "execution_count": 14,
     "metadata": {},
     "output_type": "execute_result"
    }
   ],
   "source": [
    "data['id'].nunique()"
   ]
  },
  {
   "cell_type": "code",
   "execution_count": 15,
   "metadata": {},
   "outputs": [],
   "source": [
    "var_to_drop.append('id')"
   ]
  },
  {
   "cell_type": "markdown",
   "metadata": {},
   "source": [
    "## Empty columns"
   ]
  },
  {
   "cell_type": "markdown",
   "metadata": {},
   "source": [
    "All this columns are filled with NAN so they are removed"
   ]
  },
  {
   "cell_type": "code",
   "execution_count": 16,
   "metadata": {},
   "outputs": [],
   "source": [
    "empty_l = [\"thumbnail_url\", \"medium_url\", \"xl_picture_url\",\n",
    "                    \"host_acceptance_rate\", \"neighbourhood_group_cleansed\"]"
   ]
  },
  {
   "cell_type": "code",
   "execution_count": 17,
   "metadata": {},
   "outputs": [],
   "source": [
    "def print_empty(data, l):\n",
    "    for col in l:\n",
    "        print(data[col].isna().sum())\n",
    "        print(\"\")"
   ]
  },
  {
   "cell_type": "code",
   "execution_count": 18,
   "metadata": {},
   "outputs": [],
   "source": [
    "#print_empty(data, empty_l)"
   ]
  },
  {
   "cell_type": "code",
   "execution_count": 19,
   "metadata": {},
   "outputs": [],
   "source": [
    "var_to_drop.extend(empty_l)"
   ]
  },
  {
   "cell_type": "code",
   "execution_count": 20,
   "metadata": {},
   "outputs": [],
   "source": [
    "#print((data['experiences_offered'] == \"none\").sum())"
   ]
  },
  {
   "cell_type": "code",
   "execution_count": 21,
   "metadata": {},
   "outputs": [],
   "source": [
    "var_to_drop.append('experiences_offered')"
   ]
  },
  {
   "cell_type": "markdown",
   "metadata": {},
   "source": [
    "## Variables with one value"
   ]
  },
  {
   "cell_type": "markdown",
   "metadata": {},
   "source": [
    "The variable is a constant so this won't be usefull."
   ]
  },
  {
   "cell_type": "code",
   "execution_count": 22,
   "metadata": {},
   "outputs": [],
   "source": [
    "one_l = ['state', 'country_code', 'country', 'has_availability',\n",
    "            'jurisdiction_names','is_business_travel_ready', 'street']"
   ]
  },
  {
   "cell_type": "code",
   "execution_count": 23,
   "metadata": {
    "scrolled": true
   },
   "outputs": [],
   "source": [
    "def print_unique(data, l):\n",
    "    for col in l:\n",
    "        print(data[col].value_counts())\n",
    "        print(\"\")"
   ]
  },
  {
   "cell_type": "code",
   "execution_count": 24,
   "metadata": {},
   "outputs": [],
   "source": [
    "#print_unique(data, one_l)"
   ]
  },
  {
   "cell_type": "code",
   "execution_count": 25,
   "metadata": {},
   "outputs": [],
   "source": [
    "var_to_drop.extend(one_l)"
   ]
  },
  {
   "cell_type": "markdown",
   "metadata": {},
   "source": [
    "## Useless variables"
   ]
  },
  {
   "cell_type": "markdown",
   "metadata": {},
   "source": [
    "*scrape_id*, *calendar_last_scraped* and *last_scraped* are not usefull in this study. We are not interested in the data scrapping."
   ]
  },
  {
   "cell_type": "code",
   "execution_count": 26,
   "metadata": {},
   "outputs": [],
   "source": [
    "var_to_drop.extend([\"scrape_id\", \"last_scraped\", \"calendar_last_scraped\"])"
   ]
  },
  {
   "cell_type": "markdown",
   "metadata": {},
   "source": [
    "The content of theses variables seems unclear and unecessary\n",
    "* *minimum_minimum_nights*\n",
    "* *maximum_minimum_nights*\n",
    "* *minimum_maximum_nights*\n",
    "* *maximum_maximum_nights*  "
   ]
  },
  {
   "cell_type": "code",
   "execution_count": 27,
   "metadata": {},
   "outputs": [],
   "source": [
    "var_to_drop.extend(['minimum_minimum_nights', 'maximum_minimum_nights', \n",
    "                    'minimum_maximum_nights', 'maximum_maximum_nights'])"
   ]
  },
  {
   "cell_type": "markdown",
   "metadata": {},
   "source": [
    "Dans cette étude, nous allons aussi supprimer les variables contenant seulement des *url*."
   ]
  },
  {
   "cell_type": "code",
   "execution_count": 28,
   "metadata": {},
   "outputs": [],
   "source": [
    "var_to_drop.extend(['listing_url', 'picture_url', 'host_url',\n",
    "                    'host_thumbnail_url', 'host_picture_url'])"
   ]
  },
  {
   "cell_type": "code",
   "execution_count": 29,
   "metadata": {},
   "outputs": [],
   "source": [
    "var_to_drop.extend(['host_name'])"
   ]
  },
  {
   "cell_type": "markdown",
   "metadata": {},
   "source": [
    "# Variables that need to be cast corectly"
   ]
  },
  {
   "cell_type": "markdown",
   "metadata": {},
   "source": [
    "## Simple cast"
   ]
  },
  {
   "cell_type": "code",
   "execution_count": 30,
   "metadata": {},
   "outputs": [],
   "source": [
    "float_to_int = [\"minimum_nights_avg_ntm\", \"maximum_nights_avg_ntm\"]\n",
    "\n",
    "for col in float_to_int:\n",
    "    data[col] = data[col].astype('int64')\n",
    "    \n",
    "var_quant.extend(float_to_int)"
   ]
  },
  {
   "cell_type": "markdown",
   "metadata": {},
   "source": [
    "We cannot cast these values to int because of the NAN. It must remain floats."
   ]
  },
  {
   "cell_type": "code",
   "execution_count": 31,
   "metadata": {},
   "outputs": [],
   "source": [
    "var_quant.extend([\"bathrooms\", \"bedrooms\", \"beds\"])"
   ]
  },
  {
   "cell_type": "markdown",
   "metadata": {},
   "source": [
    "## cast with missing values"
   ]
  },
  {
   "cell_type": "code",
   "execution_count": 32,
   "metadata": {},
   "outputs": [
    {
     "name": "stdout",
     "output_type": "stream",
     "text": [
      "Nombre de valeurs ayant une superficie : 124\n",
      "Cela représente 1.5525228496306498% de nos données\n"
     ]
    }
   ],
   "source": [
    "tot = data[\"square_feet\"].shape\n",
    "nb = data[\"square_feet\"].isna().sum()\n",
    "\n",
    "print(\"Nombre de valeurs ayant une superficie : \"\n",
    "      + str((tot - nb)[0]) )\n",
    "\n",
    "print(\"Cela représente \" + str(( (100*(tot - nb))/nb )[0]) + \"% de nos données\")"
   ]
  },
  {
   "cell_type": "markdown",
   "metadata": {},
   "source": [
    "Il va falloir réflechir à comment traiter ces valeurs manquantes (dans le notebook suivant)"
   ]
  },
  {
   "cell_type": "code",
   "execution_count": 33,
   "metadata": {},
   "outputs": [],
   "source": [
    "var_quant.append(\"square_feet\")"
   ]
  },
  {
   "cell_type": "markdown",
   "metadata": {},
   "source": [
    "## cast price to int"
   ]
  },
  {
   "cell_type": "markdown",
   "metadata": {},
   "source": [
    "On convertit le prix en entier."
   ]
  },
  {
   "cell_type": "code",
   "execution_count": 34,
   "metadata": {},
   "outputs": [],
   "source": [
    "price_to_int = ['price', 'extra_people', 'security_deposit', 'cleaning_fee']"
   ]
  },
  {
   "cell_type": "code",
   "execution_count": 35,
   "metadata": {},
   "outputs": [],
   "source": [
    "def money_to_int(x):\n",
    "    if x != x:        # test si x == NAN\n",
    "        return x\n",
    "    else:\n",
    "        return int( x[1 : (len(x)-4) ].replace(',', '') )"
   ]
  },
  {
   "cell_type": "code",
   "execution_count": 36,
   "metadata": {},
   "outputs": [],
   "source": [
    "for col in price_to_int:\n",
    "    data[col] = data[col].map( lambda x: money_to_int(x) )"
   ]
  },
  {
   "cell_type": "code",
   "execution_count": 37,
   "metadata": {},
   "outputs": [],
   "source": [
    "var_quant.extend(price_to_int)"
   ]
  },
  {
   "cell_type": "code",
   "execution_count": 38,
   "metadata": {},
   "outputs": [],
   "source": [
    "def per_to_float(x):\n",
    "    if x != x:        # test si x == NAN\n",
    "        return x\n",
    "    else:\n",
    "        return  x[0 : -1 ]"
   ]
  },
  {
   "cell_type": "code",
   "execution_count": 39,
   "metadata": {},
   "outputs": [],
   "source": [
    "data['host_response_rate'] = data['host_response_rate'].map( lambda x: per_to_float(x) )"
   ]
  },
  {
   "cell_type": "code",
   "execution_count": 40,
   "metadata": {},
   "outputs": [],
   "source": [
    "var_quant.append('host_response_rate')"
   ]
  },
  {
   "cell_type": "markdown",
   "metadata": {},
   "source": [
    "Est ce qu'on garde les autres prix? Je suis d'avis de les enlever"
   ]
  },
  {
   "cell_type": "code",
   "execution_count": 41,
   "metadata": {},
   "outputs": [],
   "source": [
    "var_TODO.extend(['monthly_price', 'weekly_price'])"
   ]
  },
  {
   "cell_type": "markdown",
   "metadata": {},
   "source": [
    "## dates"
   ]
  },
  {
   "cell_type": "code",
   "execution_count": 42,
   "metadata": {},
   "outputs": [],
   "source": [
    "var_date.extend(['first_review', 'last_review', 'host_since'])"
   ]
  },
  {
   "cell_type": "code",
   "execution_count": 43,
   "metadata": {},
   "outputs": [],
   "source": [
    "for col in var_date:\n",
    "    data[col] = data[col].astype('datetime64[ns]')"
   ]
  },
  {
   "cell_type": "markdown",
   "metadata": {},
   "source": [
    "# Categorical variables"
   ]
  },
  {
   "cell_type": "code",
   "execution_count": 44,
   "metadata": {},
   "outputs": [
    {
     "data": {
      "text/plain": [
       "San Francisco                  8059\n",
       "Daly City                        34\n",
       "San Francisco                     3\n",
       "San Jose                          1\n",
       "旧金山                               1\n",
       "San Francisco, Hayes Valley       1\n",
       "Noe Valley - San Francisco        1\n",
       "Brisbane                          1\n",
       "Name: city, dtype: int64"
      ]
     },
     "execution_count": 44,
     "metadata": {},
     "output_type": "execute_result"
    }
   ],
   "source": [
    "data['city'].value_counts()"
   ]
  },
  {
   "cell_type": "code",
   "execution_count": 45,
   "metadata": {},
   "outputs": [
    {
     "data": {
      "text/plain": [
       "San Francisco, CA                  8050\n",
       "Daly City, CA                        34\n",
       "CA                                    9\n",
       "San Francisco                         6\n",
       "San Francisco, Ca                     3\n",
       "San Francisco , CA                    3\n",
       "Noe Valley - San Francisco, CA        1\n",
       "旧金山, CA                               1\n",
       "San Jose, CA                          1\n",
       "Brisbane, CA                          1\n",
       "San Francisco, Hayes Valley, CA       1\n",
       "US,                                   1\n",
       "Name: smart_location, dtype: int64"
      ]
     },
     "execution_count": 45,
     "metadata": {},
     "output_type": "execute_result"
    }
   ],
   "source": [
    "data['smart_location'].value_counts()"
   ]
  },
  {
   "cell_type": "code",
   "execution_count": 46,
   "metadata": {},
   "outputs": [],
   "source": [
    "var_cat.append('city')\n",
    "var_to_drop.append(\"smart_location\")"
   ]
  },
  {
   "cell_type": "markdown",
   "metadata": {},
   "source": [
    "Est ce qu'on a vraiment besoin des 2 variables ?  \n",
    "On peut garder la variable *city* pour l'instant. On peut éventuellement retirer la ligne écrite en chinois."
   ]
  },
  {
   "cell_type": "code",
   "execution_count": 47,
   "metadata": {},
   "outputs": [],
   "source": [
    "cast_to_cat = ['property_type', 'room_type', 'bed_type', 'cancellation_policy']"
   ]
  },
  {
   "cell_type": "code",
   "execution_count": 48,
   "metadata": {},
   "outputs": [],
   "source": [
    "def print_cat(data, l):\n",
    "    for col in l:\n",
    "        print(data[col].value_counts())\n",
    "        print(\"\")"
   ]
  },
  {
   "cell_type": "code",
   "execution_count": 49,
   "metadata": {},
   "outputs": [],
   "source": [
    "#print_cat(data, cast_to_cat)"
   ]
  },
  {
   "cell_type": "code",
   "execution_count": 50,
   "metadata": {},
   "outputs": [],
   "source": [
    "var_cat.extend(cast_to_cat)"
   ]
  },
  {
   "cell_type": "markdown",
   "metadata": {},
   "source": [
    "Il faudrait réduire le nombre de catégories de *property_type*."
   ]
  },
  {
   "cell_type": "markdown",
   "metadata": {},
   "source": [
    "# Boolean variables"
   ]
  },
  {
   "cell_type": "code",
   "execution_count": 51,
   "metadata": {},
   "outputs": [],
   "source": [
    "var_bool = ['is_location_exact', 'requires_license', 'instant_bookable',\n",
    "                'require_guest_profile_picture', 'require_guest_phone_verification',\n",
    "                'host_is_superhost', 'host_has_profile_pic', 'host_identity_verified']"
   ]
  },
  {
   "cell_type": "code",
   "execution_count": 52,
   "metadata": {},
   "outputs": [],
   "source": [
    "def print_bool(data, l):\n",
    "    for col in l:\n",
    "        print(data[col].value_counts())\n",
    "        print(\"\")"
   ]
  },
  {
   "cell_type": "code",
   "execution_count": 53,
   "metadata": {},
   "outputs": [],
   "source": [
    "#print_bool(data, var_bool)"
   ]
  },
  {
   "cell_type": "code",
   "execution_count": 54,
   "metadata": {},
   "outputs": [],
   "source": [
    "d = {'t': True, 'f': False}"
   ]
  },
  {
   "cell_type": "code",
   "execution_count": 55,
   "metadata": {},
   "outputs": [],
   "source": [
    "for col in var_bool:\n",
    "    data[col] = data[col].map(d)"
   ]
  },
  {
   "cell_type": "markdown",
   "metadata": {},
   "source": [
    "# Variables with outliers"
   ]
  },
  {
   "cell_type": "markdown",
   "metadata": {},
   "source": [
    "## *minimum_nights* et *maximum_nights*"
   ]
  },
  {
   "cell_type": "code",
   "execution_count": 56,
   "metadata": {},
   "outputs": [],
   "source": [
    "def add_row_to_drop(data, variable, condition):\n",
    "    l = []\n",
    "    \n",
    "    for value in condition:\n",
    "        l.append(data[data[variable] == value].index[0])\n",
    "    \n",
    "    return l"
   ]
  },
  {
   "cell_type": "code",
   "execution_count": 57,
   "metadata": {},
   "outputs": [],
   "source": [
    "condition = [100000000, 1125, 1000]\n",
    "row_to_drop.extend(add_row_to_drop(data, \"minimum_nights\", condition))"
   ]
  },
  {
   "cell_type": "markdown",
   "metadata": {},
   "source": [
    "On constate des \"paliers\" pour les valeurs 30, 60, 90 et 365. Est ce qu'il y a un rapport avec les variables \"availibility_xx\". Si c'est le cas, on risque d'avoir un problème de multicolinéarité et il faudra surement faire une selection parmi ces variables."
   ]
  },
  {
   "cell_type": "code",
   "execution_count": 58,
   "metadata": {},
   "outputs": [],
   "source": [
    "condition = [100000, 10000, 9999]\n",
    "row_to_drop.extend(add_row_to_drop(data, \"maximum_nights\", condition))"
   ]
  },
  {
   "cell_type": "code",
   "execution_count": 59,
   "metadata": {},
   "outputs": [],
   "source": [
    "var_quant.extend([\"maximum_nights\", \"minimum_nights\"])"
   ]
  },
  {
   "cell_type": "code",
   "execution_count": 60,
   "metadata": {},
   "outputs": [],
   "source": [
    "#px.box(data, y=\"maximum_nights\", points=\"all\", template = template).show()"
   ]
  },
  {
   "cell_type": "code",
   "execution_count": 61,
   "metadata": {},
   "outputs": [],
   "source": [
    "#data_float.iplot(kind='box', filename='cufflinks/box-plots', world_readable=True,\n",
    "#               columns = ['minimum_nights_avg_ntm', 'maximum_nights_avg_ntm'])"
   ]
  },
  {
   "cell_type": "markdown",
   "metadata": {},
   "source": [
    "## *minimum_nights_avg_ntm* and *maximum_nights_avg_ntm*"
   ]
  },
  {
   "cell_type": "markdown",
   "metadata": {},
   "source": [
    "D'après cette source (https://eprints.ucm.es/57354/1/TFM_Rentalbility_PriscillaToscano_VF_160919.pdf)  \n",
    "minimum_nights_avg_ntm = Minimum Nights in Avg from last Twelve Month, ce qui me parait etrange"
   ]
  },
  {
   "cell_type": "code",
   "execution_count": 62,
   "metadata": {},
   "outputs": [],
   "source": [
    "condition = [100000000, 1125, 1000]\n",
    "row_to_drop.extend(add_row_to_drop(data, \"minimum_nights_avg_ntm\", condition))"
   ]
  },
  {
   "cell_type": "code",
   "execution_count": 63,
   "metadata": {},
   "outputs": [],
   "source": [
    "condition = [2147483647, 100000, 10000, 9999, 2000, 1825]\n",
    "row_to_drop.extend(add_row_to_drop(data, \"maximum_nights_avg_ntm\", condition))"
   ]
  },
  {
   "cell_type": "markdown",
   "metadata": {},
   "source": [
    "## *city*"
   ]
  },
  {
   "cell_type": "code",
   "execution_count": 64,
   "metadata": {},
   "outputs": [],
   "source": [
    "row_to_drop.append(data[data[\"city\"] == \"旧金山\"])"
   ]
  },
  {
   "cell_type": "markdown",
   "metadata": {},
   "source": [
    "# TODO"
   ]
  },
  {
   "cell_type": "code",
   "execution_count": 65,
   "metadata": {},
   "outputs": [
    {
     "data": {
      "text/plain": [
       "0    {TV,\"Cable TV\",Internet,Wifi,Kitchen,\"Pets liv...\n",
       "1    {Internet,Wifi,Kitchen,Breakfast,\"Free street ...\n",
       "2    {Internet,Wifi,Kitchen,Heating,\"Family/kid fri...\n",
       "3    {TV,Internet,Wifi,Kitchen,\"Free street parking...\n",
       "4    {TV,Internet,Wifi,Kitchen,\"Free street parking...\n",
       "Name: amenities, dtype: object"
      ]
     },
     "execution_count": 65,
     "metadata": {},
     "output_type": "execute_result"
    }
   ],
   "source": [
    "data['amenities'].head()"
   ]
  },
  {
   "cell_type": "code",
   "execution_count": 66,
   "metadata": {},
   "outputs": [
    {
     "data": {
      "text/plain": [
       "0     ['email', 'phone', 'facebook', 'reviews', 'kba']\n",
       "1    ['email', 'phone', 'reviews', 'jumio', 'govern...\n",
       "2    ['email', 'phone', 'reviews', 'kba', 'work_ema...\n",
       "3    ['email', 'phone', 'reviews', 'jumio', 'govern...\n",
       "4    ['email', 'phone', 'reviews', 'jumio', 'govern...\n",
       "Name: host_verifications, dtype: object"
      ]
     },
     "execution_count": 66,
     "metadata": {},
     "output_type": "execute_result"
    }
   ],
   "source": [
    "data['host_verifications'].head()"
   ]
  },
  {
   "cell_type": "code",
   "execution_count": 67,
   "metadata": {},
   "outputs": [],
   "source": [
    "var_TODO.extend([\"amenities\", 'host_verifications'])"
   ]
  },
  {
   "cell_type": "markdown",
   "metadata": {},
   "source": [
    "Est ce qu'on traite cette variable comme du texte ou comme des catégories ?"
   ]
  },
  {
   "cell_type": "code",
   "execution_count": 68,
   "metadata": {
    "scrolled": false
   },
   "outputs": [],
   "source": [
    "#data[\"host_id\"].value_counts()"
   ]
  },
  {
   "cell_type": "markdown",
   "metadata": {},
   "source": [
    "Do we need the *host_id* knowing that we already have a lot of information aout the host? Is is really necessary or will it be redundant? "
   ]
  },
  {
   "cell_type": "code",
   "execution_count": 69,
   "metadata": {},
   "outputs": [],
   "source": [
    "#data.iplot(kind='box', filename='cufflinks/box-plots', world_readable=True,\n",
    "#               columns = ['calculated_host_listings_count','calculated_host_listings_count_entire_homes',\n",
    "#               'calculated_host_listings_count_private_rooms','calculated_host_listings_count_shared_rooms'])"
   ]
  },
  {
   "cell_type": "markdown",
   "metadata": {},
   "source": [
    "*calculated_host_listings_count* correspond au nombre de logements différents par host. Je pense qu'il faut garder les grandes valeurs.  \n",
    "Par contre, est ce qu'on a besoin des 4 variables? Ou seulement la 1ere suffit (et permet d'éviter d'éventuelles colinéaritées dans les données)?"
   ]
  },
  {
   "cell_type": "code",
   "execution_count": 70,
   "metadata": {},
   "outputs": [],
   "source": [
    "# px.histogram(data_int, x=\"calculated_host_listings_count\", marginal=\"rug\", template = template).show()"
   ]
  },
  {
   "cell_type": "markdown",
   "metadata": {},
   "source": [
    "On peut donc observer que peu de personnes possèdent une grande partie des logements Airbnb de San Francisco. Je pense que ces valeurs \"abbérentes\" sont intéressantes à étudier."
   ]
  },
  {
   "cell_type": "code",
   "execution_count": 71,
   "metadata": {},
   "outputs": [],
   "source": [
    "var_TODO.extend([\"host_id\", 'calculated_host_listings_count','calculated_host_listings_count_entire_homes',\n",
    "               'calculated_host_listings_count_private_rooms','calculated_host_listings_count_shared_rooms'])"
   ]
  },
  {
   "cell_type": "code",
   "execution_count": 72,
   "metadata": {},
   "outputs": [],
   "source": [
    "tmp = data[\"host_listings_count\"] - data[\"host_total_listings_count\"]"
   ]
  },
  {
   "cell_type": "code",
   "execution_count": 73,
   "metadata": {},
   "outputs": [
    {
     "name": "stdout",
     "output_type": "stream",
     "text": [
      "(8111,)\n",
      "(8111,)\n",
      "(8111,)\n",
      "count    8103.0\n",
      "mean        0.0\n",
      "std         0.0\n",
      "min         0.0\n",
      "25%         0.0\n",
      "50%         0.0\n",
      "75%         0.0\n",
      "max         0.0\n",
      "dtype: float64\n"
     ]
    }
   ],
   "source": [
    "print(data[\"host_listings_count\"].shape)\n",
    "print(data[\"host_total_listings_count\"].shape)\n",
    "print(tmp.shape)\n",
    "print(tmp.describe())"
   ]
  },
  {
   "cell_type": "markdown",
   "metadata": {},
   "source": [
    "On constate que les colonnes *host_listings_count* et *host_total_listings_count*  sont identiques. On peut donc supprimer l'une des 2.  \n",
    "On peut aussi ce demander si on garde *host_listings_count* et *calculated_host_listings_count*. Est ce redondant de garder les 2?"
   ]
  },
  {
   "cell_type": "code",
   "execution_count": 74,
   "metadata": {},
   "outputs": [],
   "source": [
    "var_TODO.extend([\"host_total_listings_count\", \"host_listings_count\"])\n",
    "#col_to_drop.append(\"host_total_listings_count\")\n",
    "#to_int.append(\"host_listings_count\")"
   ]
  },
  {
   "cell_type": "markdown",
   "metadata": {},
   "source": [
    "According to the \"New York City Airbnb Dataset\" column description\n",
    "\n",
    "availability_365 : number of days when listing is available for booking"
   ]
  },
  {
   "cell_type": "code",
   "execution_count": 75,
   "metadata": {},
   "outputs": [],
   "source": [
    "#data_int.iplot(kind='box', filename='cufflinks/box-plots', world_readable=True,\n",
    "#               columns = ['availability_30', 'availability_60', 'availability_90', 'availability_365'])"
   ]
  },
  {
   "cell_type": "code",
   "execution_count": 76,
   "metadata": {},
   "outputs": [
    {
     "data": {
      "text/html": [
       "<div>\n",
       "<style scoped>\n",
       "    .dataframe tbody tr th:only-of-type {\n",
       "        vertical-align: middle;\n",
       "    }\n",
       "\n",
       "    .dataframe tbody tr th {\n",
       "        vertical-align: top;\n",
       "    }\n",
       "\n",
       "    .dataframe thead th {\n",
       "        text-align: right;\n",
       "    }\n",
       "</style>\n",
       "<table border=\"1\" class=\"dataframe\">\n",
       "  <thead>\n",
       "    <tr style=\"text-align: right;\">\n",
       "      <th></th>\n",
       "      <th>availability_30</th>\n",
       "      <th>availability_60</th>\n",
       "      <th>availability_90</th>\n",
       "      <th>availability_365</th>\n",
       "    </tr>\n",
       "  </thead>\n",
       "  <tbody>\n",
       "    <tr>\n",
       "      <th>0</th>\n",
       "      <td>3</td>\n",
       "      <td>8</td>\n",
       "      <td>16</td>\n",
       "      <td>85</td>\n",
       "    </tr>\n",
       "    <tr>\n",
       "      <th>1</th>\n",
       "      <td>5</td>\n",
       "      <td>32</td>\n",
       "      <td>62</td>\n",
       "      <td>62</td>\n",
       "    </tr>\n",
       "    <tr>\n",
       "      <th>2</th>\n",
       "      <td>0</td>\n",
       "      <td>0</td>\n",
       "      <td>0</td>\n",
       "      <td>0</td>\n",
       "    </tr>\n",
       "    <tr>\n",
       "      <th>3</th>\n",
       "      <td>30</td>\n",
       "      <td>60</td>\n",
       "      <td>90</td>\n",
       "      <td>365</td>\n",
       "    </tr>\n",
       "    <tr>\n",
       "      <th>4</th>\n",
       "      <td>30</td>\n",
       "      <td>60</td>\n",
       "      <td>90</td>\n",
       "      <td>365</td>\n",
       "    </tr>\n",
       "  </tbody>\n",
       "</table>\n",
       "</div>"
      ],
      "text/plain": [
       "   availability_30  availability_60  availability_90  availability_365\n",
       "0                3                8               16                85\n",
       "1                5               32               62                62\n",
       "2                0                0                0                 0\n",
       "3               30               60               90               365\n",
       "4               30               60               90               365"
      ]
     },
     "execution_count": 76,
     "metadata": {},
     "output_type": "execute_result"
    }
   ],
   "source": [
    "data[['availability_30', 'availability_60', 'availability_90', 'availability_365']].head()"
   ]
  },
  {
   "cell_type": "markdown",
   "metadata": {},
   "source": [
    "Do we keep everything or *availability_365* is enough? I suggest we only keep *availability_365* for now."
   ]
  },
  {
   "cell_type": "code",
   "execution_count": 77,
   "metadata": {},
   "outputs": [],
   "source": [
    "var_TODO.extend(['availability_30', 'availability_60', 'availability_90', 'availability_365'])"
   ]
  },
  {
   "cell_type": "markdown",
   "metadata": {},
   "source": [
    "The distributions of *number_of_reviews* et *number_of_reviews_ltm* are very similar.  \n",
    "Do we keep both? Do we apply later a log transformation to be closer to a gaussian distribution?\n",
    "(LTM = Last Twelve Months)"
   ]
  },
  {
   "cell_type": "code",
   "execution_count": 78,
   "metadata": {
    "scrolled": false
   },
   "outputs": [],
   "source": [
    "# px.histogram(data_int, x=\"number_of_reviews\", marginal=\"box\", template = template).show()\n",
    "# marginal can be 'rug', 'box', 'violin'                         "
   ]
  },
  {
   "cell_type": "code",
   "execution_count": 79,
   "metadata": {},
   "outputs": [],
   "source": [
    "#px.histogram(data_int, x=\"number_of_reviews_ltm\", marginal=\"box\", template = template).show()"
   ]
  },
  {
   "cell_type": "code",
   "execution_count": 80,
   "metadata": {},
   "outputs": [],
   "source": [
    "var_TODO.extend([\"number_of_reviews\", \"number_of_reviews_ltm\"])"
   ]
  },
  {
   "cell_type": "markdown",
   "metadata": {},
   "source": [
    "## Colonnes *latitude* et *longitude* "
   ]
  },
  {
   "cell_type": "markdown",
   "metadata": {},
   "source": [
    "Il faudra réflechir à comment représenter voir si on garde ces données. Si oui, il faudra trouver comment les préparer."
   ]
  },
  {
   "cell_type": "code",
   "execution_count": 81,
   "metadata": {},
   "outputs": [],
   "source": [
    "var_TODO.extend([\"latitude\", \"longitude\"])"
   ]
  },
  {
   "cell_type": "markdown",
   "metadata": {},
   "source": [
    "## Colonnes *market* et *license*"
   ]
  },
  {
   "cell_type": "code",
   "execution_count": 82,
   "metadata": {
    "scrolled": true
   },
   "outputs": [
    {
     "data": {
      "text/plain": [
       "San Francisco    8089\n",
       "D.C.                1\n",
       "Name: market, dtype: int64"
      ]
     },
     "execution_count": 82,
     "metadata": {},
     "output_type": "execute_result"
    }
   ],
   "source": [
    "data['market'].value_counts()"
   ]
  },
  {
   "cell_type": "code",
   "execution_count": 83,
   "metadata": {},
   "outputs": [],
   "source": [
    "var_TODO.append('market')"
   ]
  },
  {
   "cell_type": "markdown",
   "metadata": {},
   "source": [
    "Est ce qu'on garde la ligne D.C. ?"
   ]
  },
  {
   "cell_type": "code",
   "execution_count": 84,
   "metadata": {},
   "outputs": [
    {
     "data": {
      "text/plain": [
       "City registration pending      797\n",
       "License not needed per OSTR    474\n",
       "City Registration Pending       83\n",
       "1083521                         32\n",
       "1078479                         29\n",
       "city registration pending       27\n",
       "365804                          24\n",
       "933345                          22\n",
       "382559                          18\n",
       "1003249                         16\n",
       "428539                          14\n",
       "Licensed Hotel/B&B              14\n",
       "CITY REGISTRATION PENDING       14\n",
       "1031137                         13\n",
       "BAN-1030905                     12\n",
       "1080289                         12\n",
       "421763                          10\n",
       "FY 2017-18                      10\n",
       "394267                          10\n",
       "STR-0001234                     10\n",
       "STR-0001690                      8\n",
       "STR-0001537                      8\n",
       "1105659                          7\n",
       "1008731                          7\n",
       "390024                           7\n",
       "STR-0000478                      6\n",
       "1013041                          6\n",
       "STR-0003223                      6\n",
       "STR-0003189                      6\n",
       "STR-0002816                      5\n",
       "                              ... \n",
       "STR-0002977                      1\n",
       "1066725                          1\n",
       "1088881                          1\n",
       "str-0000722                      1\n",
       "STR-0002956                      1\n",
       "STR-0000729                      1\n",
       "STR-0001733                      1\n",
       "STR-0000485                      1\n",
       "STR-0003683                      1\n",
       "STR-0002449                      1\n",
       "STR-0002272                      1\n",
       "STR-0003663                      1\n",
       "str-0001850                      1\n",
       "STR-0001939                      1\n",
       "STR-0000272                      1\n",
       "Str-0001598                      1\n",
       "STR-0003427                      1\n",
       "STR-0001196                      1\n",
       "STR-0002644                      1\n",
       "STR-0000109                      1\n",
       "STR-0002348                      1\n",
       "STR-0003512                      1\n",
       "STR-0341850                      1\n",
       "STR-0003157                      1\n",
       "STR-0001801                      1\n",
       "STR-0002673                      1\n",
       "STR-0000165                      1\n",
       "STR-000456                       1\n",
       "STR-0002693                      1\n",
       "City Regstration Pending         1\n",
       "Name: license, Length: 2554, dtype: int64"
      ]
     },
     "execution_count": 84,
     "metadata": {},
     "output_type": "execute_result"
    }
   ],
   "source": [
    "data['license'].value_counts()"
   ]
  },
  {
   "cell_type": "markdown",
   "metadata": {},
   "source": [
    "Est ce qu'on considere cette variable comme etant catégorique ou on l'enleve?"
   ]
  },
  {
   "cell_type": "code",
   "execution_count": 85,
   "metadata": {},
   "outputs": [],
   "source": [
    "var_TODO.append('license')"
   ]
  },
  {
   "cell_type": "markdown",
   "metadata": {},
   "source": [
    "## Colonnes *neighbourhood* et *neighbourhood_cleansed*"
   ]
  },
  {
   "cell_type": "code",
   "execution_count": 86,
   "metadata": {},
   "outputs": [
    {
     "data": {
      "text/html": [
       "<div>\n",
       "<style scoped>\n",
       "    .dataframe tbody tr th:only-of-type {\n",
       "        vertical-align: middle;\n",
       "    }\n",
       "\n",
       "    .dataframe tbody tr th {\n",
       "        vertical-align: top;\n",
       "    }\n",
       "\n",
       "    .dataframe thead th {\n",
       "        text-align: right;\n",
       "    }\n",
       "</style>\n",
       "<table border=\"1\" class=\"dataframe\">\n",
       "  <thead>\n",
       "    <tr style=\"text-align: right;\">\n",
       "      <th></th>\n",
       "      <th>neighbourhood</th>\n",
       "      <th>neighbourhood_cleansed</th>\n",
       "      <th>host_neighbourhood</th>\n",
       "    </tr>\n",
       "  </thead>\n",
       "  <tbody>\n",
       "    <tr>\n",
       "      <th>0</th>\n",
       "      <td>Duboce Triangle</td>\n",
       "      <td>Western Addition</td>\n",
       "      <td>Duboce Triangle</td>\n",
       "    </tr>\n",
       "    <tr>\n",
       "      <th>1</th>\n",
       "      <td>Inner Sunset</td>\n",
       "      <td>Inner Sunset</td>\n",
       "      <td>Inner Sunset</td>\n",
       "    </tr>\n",
       "    <tr>\n",
       "      <th>2</th>\n",
       "      <td>Bernal Heights</td>\n",
       "      <td>Bernal Heights</td>\n",
       "      <td>Bernal Heights</td>\n",
       "    </tr>\n",
       "    <tr>\n",
       "      <th>3</th>\n",
       "      <td>Cole Valley</td>\n",
       "      <td>Haight Ashbury</td>\n",
       "      <td>Cole Valley</td>\n",
       "    </tr>\n",
       "    <tr>\n",
       "      <th>4</th>\n",
       "      <td>Cole Valley</td>\n",
       "      <td>Haight Ashbury</td>\n",
       "      <td>Cole Valley</td>\n",
       "    </tr>\n",
       "  </tbody>\n",
       "</table>\n",
       "</div>"
      ],
      "text/plain": [
       "     neighbourhood neighbourhood_cleansed host_neighbourhood\n",
       "0  Duboce Triangle       Western Addition    Duboce Triangle\n",
       "1     Inner Sunset           Inner Sunset       Inner Sunset\n",
       "2   Bernal Heights         Bernal Heights     Bernal Heights\n",
       "3      Cole Valley         Haight Ashbury        Cole Valley\n",
       "4      Cole Valley         Haight Ashbury        Cole Valley"
      ]
     },
     "execution_count": 86,
     "metadata": {},
     "output_type": "execute_result"
    }
   ],
   "source": [
    "data[['neighbourhood', 'neighbourhood_cleansed', 'host_neighbourhood']].head()"
   ]
  },
  {
   "cell_type": "markdown",
   "metadata": {},
   "source": [
    "La variable *neighbourhood_cleansed* a l'air d'être une version prétraitée de *neighbourhood*. NOus pouvons donc seulement garder *neighbourhood_cleansed*.  \n",
    "Est ce qu'on traite cette colonne comme du texte ou comme une variable catégorique?"
   ]
  },
  {
   "cell_type": "code",
   "execution_count": 87,
   "metadata": {},
   "outputs": [],
   "source": [
    "var_text.append('neighbourhood_cleansed')"
   ]
  },
  {
   "cell_type": "code",
   "execution_count": 88,
   "metadata": {},
   "outputs": [],
   "source": [
    "var_to_drop.append('neighbourhood')"
   ]
  },
  {
   "cell_type": "code",
   "execution_count": 89,
   "metadata": {},
   "outputs": [],
   "source": [
    "var_TODO.extend( ['host_response_time', 'host_location', 'host_neighbourhood', 'calendar_updated'] )"
   ]
  },
  {
   "cell_type": "markdown",
   "metadata": {},
   "source": [
    " \n"
   ]
  },
  {
   "cell_type": "markdown",
   "metadata": {},
   "source": [
    " \n"
   ]
  },
  {
   "cell_type": "markdown",
   "metadata": {},
   "source": [
    " \n"
   ]
  },
  {
   "cell_type": "markdown",
   "metadata": {},
   "source": [
    " "
   ]
  },
  {
   "cell_type": "markdown",
   "metadata": {},
   "source": [
    " "
   ]
  },
  {
   "cell_type": "markdown",
   "metadata": {},
   "source": [
    " "
   ]
  },
  {
   "cell_type": "markdown",
   "metadata": {},
   "source": [
    " "
   ]
  },
  {
   "cell_type": "markdown",
   "metadata": {},
   "source": [
    " "
   ]
  },
  {
   "cell_type": "code",
   "execution_count": 90,
   "metadata": {},
   "outputs": [],
   "source": [
    "control = var_quant + var_cat + var_bool + var_text + var_date + var_to_drop + var_TODO + var_cible"
   ]
  },
  {
   "cell_type": "code",
   "execution_count": 94,
   "metadata": {},
   "outputs": [
    {
     "name": "stdout",
     "output_type": "stream",
     "text": [
      "106\n",
      "106\n",
      "106\n"
     ]
    }
   ],
   "source": [
    "print(len(control))\n",
    "print(len(set(control)))\n",
    "print(len(data.columns))"
   ]
  },
  {
   "cell_type": "code",
   "execution_count": null,
   "metadata": {},
   "outputs": [],
   "source": []
  },
  {
   "cell_type": "markdown",
   "metadata": {},
   "source": [
    " \n"
   ]
  },
  {
   "cell_type": "markdown",
   "metadata": {},
   "source": [
    " \n"
   ]
  },
  {
   "cell_type": "markdown",
   "metadata": {},
   "source": [
    " \n"
   ]
  },
  {
   "cell_type": "markdown",
   "metadata": {},
   "source": [
    " "
   ]
  },
  {
   "cell_type": "markdown",
   "metadata": {},
   "source": [
    " "
   ]
  },
  {
   "cell_type": "markdown",
   "metadata": {},
   "source": [
    " "
   ]
  },
  {
   "cell_type": "markdown",
   "metadata": {},
   "source": [
    " "
   ]
  },
  {
   "cell_type": "markdown",
   "metadata": {},
   "source": [
    " "
   ]
  },
  {
   "cell_type": "markdown",
   "metadata": {},
   "source": [
    "# <span style=\"color: red\">DON'T EXECUTE BELOW THIS</span> "
   ]
  },
  {
   "cell_type": "markdown",
   "metadata": {},
   "source": [
    "# Exploration des colonnes de type *int*"
   ]
  },
  {
   "cell_type": "code",
   "execution_count": null,
   "metadata": {},
   "outputs": [],
   "source": [
    "data_int = data.select_dtypes(include='int64')"
   ]
  },
  {
   "cell_type": "code",
   "execution_count": null,
   "metadata": {},
   "outputs": [],
   "source": [
    "data_int.head()"
   ]
  },
  {
   "cell_type": "code",
   "execution_count": null,
   "metadata": {},
   "outputs": [],
   "source": [
    "# Histogram of all columns\n",
    "# data_int.iplot(kind='box', filename='cufflinks/box-plots', world_readable=True)"
   ]
  },
  {
   "cell_type": "code",
   "execution_count": null,
   "metadata": {
    "scrolled": true
   },
   "outputs": [],
   "source": [
    "data_int.columns"
   ]
  },
  {
   "cell_type": "markdown",
   "metadata": {},
   "source": [
    "## Colonnes *Id* et *host_id*"
   ]
  },
  {
   "cell_type": "code",
   "execution_count": null,
   "metadata": {},
   "outputs": [],
   "source": [
    "data_int.shape"
   ]
  },
  {
   "cell_type": "code",
   "execution_count": null,
   "metadata": {},
   "outputs": [],
   "source": [
    "data_int[\"id\"].nunique()"
   ]
  },
  {
   "cell_type": "code",
   "execution_count": null,
   "metadata": {
    "scrolled": false
   },
   "outputs": [],
   "source": [
    "data_int[\"host_id\"].value_counts()"
   ]
  },
  {
   "cell_type": "markdown",
   "metadata": {},
   "source": [
    "On ne retrouve pas 2 fois le même logement, par contre on trouve plusieurs fois les mêmes hotes. La variable *id_host* peut être intéressante à étudier. Par contre, je pense qu'il n'y a pas trop d'interet à garder la variable *id*."
   ]
  },
  {
   "cell_type": "code",
   "execution_count": null,
   "metadata": {},
   "outputs": [],
   "source": [
    "col_to_drop.append(\"id\")"
   ]
  },
  {
   "cell_type": "markdown",
   "metadata": {},
   "source": [
    "## Colonnes *Min/Max nights*"
   ]
  },
  {
   "cell_type": "code",
   "execution_count": null,
   "metadata": {},
   "outputs": [],
   "source": [
    "#data_int.iplot(kind='box', filename='cufflinks/box-plots', world_readable=True,\n",
    "#               columns = ['minimum_nights', 'maximum_nights', 'minimum_minimum_nights', \n",
    "#                          'maximum_minimum_nights', 'minimum_maximum_nights', 'maximum_maximum_nights'])"
   ]
  },
  {
   "cell_type": "markdown",
   "metadata": {},
   "source": [
    "Je ne comprends vraiment pas les colonnes \n",
    "* *minimum_minimum_nights*\n",
    "* *maximum_minimum_nights*\n",
    "* *minimum_maximum_nights*\n",
    "* *maximum_maximum_nights*  \n",
    "\n",
    "Je propose qu'on les enleve car en plus les valeurs sont ridiculement grandes  "
   ]
  },
  {
   "cell_type": "code",
   "execution_count": null,
   "metadata": {},
   "outputs": [],
   "source": [
    "col_to_drop.extend(['minimum_minimum_nights', 'maximum_minimum_nights', \n",
    "                    'minimum_maximum_nights', 'maximum_maximum_nights'])"
   ]
  },
  {
   "cell_type": "markdown",
   "metadata": {},
   "source": [
    "### Colonne *minimum-nights*"
   ]
  },
  {
   "cell_type": "code",
   "execution_count": null,
   "metadata": {},
   "outputs": [],
   "source": [
    "#px.box(data_int, y=\"minimum_nights\", points=\"all\", template = template).show()"
   ]
  },
  {
   "cell_type": "markdown",
   "metadata": {},
   "source": [
    "On peut supprimer les 3 plus grandes valeures car elles ont l'air abbérentes"
   ]
  },
  {
   "cell_type": "code",
   "execution_count": null,
   "metadata": {},
   "outputs": [],
   "source": [
    "row_to_drop.extend([data_int[data_int[\"minimum_nights\"] == 100000000].index[0],\n",
    "                    data_int[data_int[\"minimum_nights\"] == 1125].index[0],\n",
    "                    data_int[data_int[\"minimum_nights\"] == 1000].index[0]])"
   ]
  },
  {
   "cell_type": "code",
   "execution_count": null,
   "metadata": {},
   "outputs": [],
   "source": [
    "data_int.drop(data_int[data_int[\"minimum_nights\"] == 100000000].index, inplace=True)\n",
    "data_int.drop(data_int[data_int[\"minimum_nights\"] == 1125].index, inplace=True)\n",
    "data_int.drop(data_int[data_int[\"minimum_nights\"] == 1000].index, inplace=True)"
   ]
  },
  {
   "cell_type": "markdown",
   "metadata": {},
   "source": [
    "* On constate maintenant une distribution plus \"propre\"\n",
    "* On constate des \"paliers\" pour les valeurs 30, 60, 90 et 365. Est ce qu'il y a un rapport avec les variables \"availibility_xx\". Si c'est le cas, on risque d'avoir un problème de multicolinéarité et il faudra surement faire une selection parmi ces variables."
   ]
  },
  {
   "cell_type": "markdown",
   "metadata": {},
   "source": [
    "### Colonne *maximum_night*"
   ]
  },
  {
   "cell_type": "code",
   "execution_count": null,
   "metadata": {},
   "outputs": [],
   "source": [
    "#px.box(data_int, y=\"maximum_nights\", points=\"all\", template = template).show()"
   ]
  },
  {
   "cell_type": "markdown",
   "metadata": {},
   "source": [
    "On peut supprimer les 4 plus grandes valeures car elles ont l'air abbérentes. Cela nous permet d'avoir des distributions plus \"propres\"."
   ]
  },
  {
   "cell_type": "code",
   "execution_count": null,
   "metadata": {},
   "outputs": [],
   "source": [
    "row_to_drop.extend([data_int[data_int[\"maximum_nights\"] == 100000].index[0],\n",
    "                    data_int[data_int[\"maximum_nights\"] == 10000].index[0],\n",
    "                    data_int[data_int[\"maximum_nights\"] == 9999].index[0]])"
   ]
  },
  {
   "cell_type": "code",
   "execution_count": null,
   "metadata": {},
   "outputs": [],
   "source": [
    "data_int.drop(data_int[data_int[\"maximum_nights\"] == 100000].index, inplace=True)\n",
    "data_int.drop(data_int[data_int[\"maximum_nights\"] == 10000].index, inplace=True)\n",
    "data_int.drop(data_int[data_int[\"maximum_nights\"] == 9999].index, inplace=True)"
   ]
  },
  {
   "cell_type": "markdown",
   "metadata": {},
   "source": [
    "## Colonne *accommodates*"
   ]
  },
  {
   "cell_type": "code",
   "execution_count": null,
   "metadata": {},
   "outputs": [],
   "source": [
    "#px.histogram(data_int, x=\"accommodates\", template = template).show()"
   ]
  },
  {
   "cell_type": "markdown",
   "metadata": {},
   "source": [
    "RAS"
   ]
  },
  {
   "cell_type": "markdown",
   "metadata": {},
   "source": [
    "## Colonne *guests_included*"
   ]
  },
  {
   "cell_type": "code",
   "execution_count": null,
   "metadata": {},
   "outputs": [],
   "source": [
    "#px.histogram(data_int, x=\"guests_included\", template = template).show()"
   ]
  },
  {
   "cell_type": "markdown",
   "metadata": {},
   "source": [
    "RAS"
   ]
  },
  {
   "cell_type": "markdown",
   "metadata": {},
   "source": [
    "## Colonnes *availability_xx*"
   ]
  },
  {
   "cell_type": "markdown",
   "metadata": {},
   "source": [
    "D'après la description de la colonne du \"New York City Airbnb Dataset\"\n",
    "\n",
    "availability_365 : number of days when listing is available for booking"
   ]
  },
  {
   "cell_type": "code",
   "execution_count": null,
   "metadata": {},
   "outputs": [],
   "source": [
    "#data_int.iplot(kind='box', filename='cufflinks/box-plots', world_readable=True,\n",
    "#               columns = ['availability_30', 'availability_60', 'availability_90', 'availability_365'])"
   ]
  },
  {
   "cell_type": "code",
   "execution_count": null,
   "metadata": {},
   "outputs": [],
   "source": [
    "data_int[['availability_30', 'availability_60', 'availability_90', 'availability_365']].head()"
   ]
  },
  {
   "cell_type": "markdown",
   "metadata": {},
   "source": [
    "Je ne sais pas si on doit tous les garder ou si availability_365 suffit"
   ]
  },
  {
   "cell_type": "markdown",
   "metadata": {},
   "source": [
    "## Colonnes *number_of_reviews* et *number_of_reviews_ltm*"
   ]
  },
  {
   "cell_type": "markdown",
   "metadata": {},
   "source": [
    "LTM = Last Twelve Months "
   ]
  },
  {
   "cell_type": "code",
   "execution_count": null,
   "metadata": {
    "scrolled": false
   },
   "outputs": [],
   "source": [
    "# px.histogram(data_int, x=\"number_of_reviews\", marginal=\"box\", template = template).show()\n",
    "# marginal can be 'rug', 'box', 'violin'                         "
   ]
  },
  {
   "cell_type": "markdown",
   "metadata": {},
   "source": [
    "On observe un gros pic à 0. Est ceque c'est vraiment grave?"
   ]
  },
  {
   "cell_type": "code",
   "execution_count": null,
   "metadata": {},
   "outputs": [],
   "source": [
    "tmp = data_int.copy()\n",
    "tmp[\"number_of_reviews\"] = np.log(tmp[\"number_of_reviews\"] + 1)\n",
    "#px.histogram(tmp, x=\"number_of_reviews\", marginal=\"box\").show()"
   ]
  },
  {
   "cell_type": "markdown",
   "metadata": {},
   "source": [
    "La transformation log permet d'avoir une distribution plus proche d'une gaussienne, mais est ce qu'on en a vraiment besoin?"
   ]
  },
  {
   "cell_type": "code",
   "execution_count": null,
   "metadata": {},
   "outputs": [],
   "source": [
    "#px.histogram(data_int, x=\"number_of_reviews_ltm\", marginal=\"box\", template = template).show()"
   ]
  },
  {
   "cell_type": "markdown",
   "metadata": {},
   "source": [
    "La distribution est similaire à la précédente.  \n",
    "Après, on peut encore se poser la question : est ce pertinent de garder *number_of_reviews* et *number_of_reviews_ltm*?"
   ]
  },
  {
   "cell_type": "markdown",
   "metadata": {},
   "source": [
    "## Colonnes *calculated_host_listings_x*"
   ]
  },
  {
   "cell_type": "code",
   "execution_count": null,
   "metadata": {},
   "outputs": [],
   "source": [
    "#data_int.iplot(kind='box', filename='cufflinks/box-plots', world_readable=True,\n",
    "#               columns = ['calculated_host_listings_count','calculated_host_listings_count_entire_homes',\n",
    "#               'calculated_host_listings_count_private_rooms','calculated_host_listings_count_shared_rooms'])"
   ]
  },
  {
   "cell_type": "markdown",
   "metadata": {},
   "source": [
    "*calculated_host_listings_count* correspond au nombre de logements différents par host. Je pense qu'il faut garder les grandes valeurs.  \n",
    "Par contre, est ce qu'on a besoin des 4 variables? Ou seulement la 1ere suffit (et permet d'éviter d'éventuelles colinéaritées dans les données)?"
   ]
  },
  {
   "cell_type": "code",
   "execution_count": null,
   "metadata": {},
   "outputs": [],
   "source": [
    "# px.histogram(data_int, x=\"calculated_host_listings_count\", marginal=\"rug\", template = template).show()"
   ]
  },
  {
   "cell_type": "markdown",
   "metadata": {},
   "source": [
    "On peut donc observer que peu de personnes possèdent une grande partie des logements Airbnb de San Francisco. Je pense que ces valeurs \"abbérentes\" sont intéressantes à étudier."
   ]
  },
  {
   "cell_type": "markdown",
   "metadata": {},
   "source": [
    "# Exploration des colonnes de type *float*"
   ]
  },
  {
   "cell_type": "code",
   "execution_count": null,
   "metadata": {},
   "outputs": [],
   "source": [
    "data_float = data.select_dtypes(include='float64')"
   ]
  },
  {
   "cell_type": "code",
   "execution_count": null,
   "metadata": {
    "scrolled": true
   },
   "outputs": [],
   "source": [
    "data_float.head()"
   ]
  },
  {
   "cell_type": "markdown",
   "metadata": {},
   "source": [
    "Beaucoup de colonnes ont l'air d'être des entiers castés en float. Il faudrait les retransformer en entier."
   ]
  },
  {
   "cell_type": "code",
   "execution_count": null,
   "metadata": {},
   "outputs": [],
   "source": [
    "to_int = []"
   ]
  },
  {
   "cell_type": "code",
   "execution_count": null,
   "metadata": {},
   "outputs": [],
   "source": [
    "# Histogram of all columns\n",
    "# data_float.iplot(kind='box', filename='cufflinks/box-plots', world_readable=True)"
   ]
  },
  {
   "cell_type": "code",
   "execution_count": null,
   "metadata": {
    "scrolled": true
   },
   "outputs": [],
   "source": [
    "data_float.columns"
   ]
  },
  {
   "cell_type": "markdown",
   "metadata": {},
   "source": [
    "## Colonnes à supprimer"
   ]
  },
  {
   "cell_type": "markdown",
   "metadata": {},
   "source": [
    "*scrape_id* fait référence à la récolte des données, ce n'a donc pas de rapport avec notre problème. Nous pouvons donc supprimer cette colonne."
   ]
  },
  {
   "cell_type": "code",
   "execution_count": null,
   "metadata": {},
   "outputs": [],
   "source": [
    "data_float.shape"
   ]
  },
  {
   "cell_type": "code",
   "execution_count": null,
   "metadata": {},
   "outputs": [],
   "source": [
    "print(data_float[\"thumbnail_url\"].isna().sum())\n",
    "print(data_float[\"medium_url\"].isna().sum())\n",
    "print(data_float[\"xl_picture_url\"].isna().sum())\n",
    "print(data_float[\"host_acceptance_rate\"].isna().sum())\n",
    "print(data_float[\"neighbourhood_group_cleansed\"].isna().sum())"
   ]
  },
  {
   "cell_type": "markdown",
   "metadata": {},
   "source": [
    "Les colonnes *thumbnail_url*, *medium_url*, *xl_picture_url*, *host_acceptance_rate* et *neighbourhood_group_cleansed* ne contiennent que des NAN. On peut donc les retirer."
   ]
  },
  {
   "cell_type": "code",
   "execution_count": null,
   "metadata": {},
   "outputs": [],
   "source": [
    "col_to_drop.extend([\"scrape_id\", \"thumbnail_url\", \"medium_url\", \"xl_picture_url\",\n",
    "                 \"host_acceptance_rate\", \"neighbourhood_group_cleansed\"])"
   ]
  },
  {
   "cell_type": "code",
   "execution_count": null,
   "metadata": {},
   "outputs": [],
   "source": [
    "data_float = data_float.drop([\"scrape_id\", \"thumbnail_url\", \"medium_url\", \"xl_picture_url\",\n",
    "                 \"host_acceptance_rate\", \"neighbourhood_group_cleansed\"], axis=1)\n",
    "data_float.head()"
   ]
  },
  {
   "cell_type": "code",
   "execution_count": null,
   "metadata": {},
   "outputs": [],
   "source": [
    "data_float.columns"
   ]
  },
  {
   "cell_type": "code",
   "execution_count": null,
   "metadata": {},
   "outputs": [],
   "source": [
    "# px.histogram(data_int, x=\"calculated_host_listings_count\", marginal=\"rug\", template = template).show()"
   ]
  },
  {
   "cell_type": "code",
   "execution_count": null,
   "metadata": {
    "scrolled": false
   },
   "outputs": [],
   "source": [
    "# px.histogram(data_float, x=\"host_listings_count\", marginal=\"rug\", template = template).show()"
   ]
  },
  {
   "cell_type": "code",
   "execution_count": null,
   "metadata": {},
   "outputs": [],
   "source": [
    "# px.histogram(data_float, x=\"host_total_listings_count\", marginal=\"rug\", template = template).show()"
   ]
  },
  {
   "cell_type": "code",
   "execution_count": null,
   "metadata": {},
   "outputs": [],
   "source": [
    "tmp = data_float[\"host_listings_count\"] - data_float[\"host_total_listings_count\"]"
   ]
  },
  {
   "cell_type": "code",
   "execution_count": null,
   "metadata": {},
   "outputs": [],
   "source": [
    "print(data_float[\"host_listings_count\"].shape)\n",
    "print(data_float[\"host_total_listings_count\"].shape)\n",
    "print(tmp.shape)\n",
    "print(tmp.describe())"
   ]
  },
  {
   "cell_type": "markdown",
   "metadata": {},
   "source": [
    "On constate que les colonnes *host_listings_count* et *host_total_listings_count*  sont identiques. On peut donc supprimer l'une des 2.  \n",
    "On peut aussi ce demander si on garde *host_listings_count* et *calculated_host_listings_count*. Est ce redondant de garder les 2?"
   ]
  },
  {
   "cell_type": "code",
   "execution_count": null,
   "metadata": {},
   "outputs": [],
   "source": [
    "col_to_drop.append(\"host_total_listings_count\")\n",
    "to_int.append(\"host_listings_count\")"
   ]
  },
  {
   "cell_type": "markdown",
   "metadata": {},
   "source": [
    "## Colonne *square_feet*"
   ]
  },
  {
   "cell_type": "code",
   "execution_count": null,
   "metadata": {},
   "outputs": [],
   "source": [
    "tot = data_float[\"square_feet\"].shape\n",
    "nb = data_float[\"square_feet\"].isna().sum()\n",
    "\n",
    "print(\"Nombre de valeurs ayant une superficie : \"\n",
    "      + str((tot - nb)[0]) )\n",
    "\n",
    "print(\"Cela représente \" + str(( (100*(tot - nb))/nb )[0]) + \"% de nos données\")"
   ]
  },
  {
   "cell_type": "markdown",
   "metadata": {},
   "source": [
    "Il va falloir réflechir à comment traiter ces valeurs manquantes (dans le notebook suivant)"
   ]
  },
  {
   "cell_type": "code",
   "execution_count": null,
   "metadata": {},
   "outputs": [],
   "source": [
    "to_int.append(\"square_feet\")"
   ]
  },
  {
   "cell_type": "markdown",
   "metadata": {},
   "source": [
    "## Colonnes *reviews_score_xxx*"
   ]
  },
  {
   "cell_type": "markdown",
   "metadata": {},
   "source": [
    "Le but de notre projet est de prédire la note obtenue pour un logement. Pour cela, il faut choisir quelle note nous allons essayer de prédire.  \n",
    "Nous pouvons fixer **review_score_rating** comme etant la variable à predire.  \n",
    "Pour eviter les problèmes de *data leakage*, nous pouvons supposer que nous allons prédire **review_score_rating** sans regarder les autres variables *review_score_xxx*."
   ]
  },
  {
   "cell_type": "code",
   "execution_count": null,
   "metadata": {},
   "outputs": [],
   "source": [
    "col_to_drop.extend(['review_scores_accuracy', 'review_scores_cleanliness',\n",
    "                    'review_scores_checkin', 'review_scores_communication',\n",
    "                    'review_scores_location', 'review_scores_value', 'reviews_per_month'])"
   ]
  },
  {
   "cell_type": "markdown",
   "metadata": {},
   "source": [
    "## Colonnes *bathrooms*, *bedrooms* et *beds*"
   ]
  },
  {
   "cell_type": "code",
   "execution_count": null,
   "metadata": {},
   "outputs": [],
   "source": [
    "#data_float.iplot(kind='box', filename='cufflinks/box-plots', world_readable=True,\n",
    "#               columns = ['bathrooms', 'bedrooms', 'beds'])"
   ]
  },
  {
   "cell_type": "markdown",
   "metadata": {},
   "source": [
    "RAS"
   ]
  },
  {
   "cell_type": "code",
   "execution_count": null,
   "metadata": {},
   "outputs": [],
   "source": [
    "to_int.extend(['bathrooms', 'bedrooms', 'beds'])"
   ]
  },
  {
   "cell_type": "markdown",
   "metadata": {},
   "source": [
    "## Colonnes *minimum_nights_avg_ntm* et *maximum_nights_avg_ntm*"
   ]
  },
  {
   "cell_type": "markdown",
   "metadata": {},
   "source": [
    "D'après cette source (https://eprints.ucm.es/57354/1/TFM_Rentalbility_PriscillaToscano_VF_160919.pdf)  \n",
    "minimum_nights_avg_ntm = Minimum Nights in Avg from last Twelve Month, ce qui me parait etrange"
   ]
  },
  {
   "cell_type": "code",
   "execution_count": null,
   "metadata": {},
   "outputs": [],
   "source": [
    "to_int.extend(['minimum_nights_avg_ntm', 'maximum_nights_avg_ntm'])"
   ]
  },
  {
   "cell_type": "code",
   "execution_count": null,
   "metadata": {},
   "outputs": [],
   "source": [
    "#data_float.iplot(kind='box', filename='cufflinks/box-plots', world_readable=True,\n",
    "#               columns = ['minimum_nights_avg_ntm', 'maximum_nights_avg_ntm'])"
   ]
  },
  {
   "cell_type": "code",
   "execution_count": null,
   "metadata": {},
   "outputs": [],
   "source": [
    "# px.histogram(data_float, x=\"minimum_nights_avg_ntm\", marginal=\"rug\", template = template).show()"
   ]
  },
  {
   "cell_type": "code",
   "execution_count": null,
   "metadata": {},
   "outputs": [],
   "source": [
    "row_to_drop.extend([data_float[data_float[\"minimum_nights_avg_ntm\"] == 100000000.0].index[0],\n",
    "                    data_float[data_float[\"minimum_nights_avg_ntm\"] == 1125].index[0],\n",
    "                    data_float[data_float[\"minimum_nights_avg_ntm\"] == 1000].index[0]])"
   ]
  },
  {
   "cell_type": "code",
   "execution_count": null,
   "metadata": {},
   "outputs": [],
   "source": [
    "data_float.drop(data_float[data_float[\"minimum_nights_avg_ntm\"] == 100000000.0].index, inplace=True)\n",
    "data_float.drop(data_float[data_float[\"minimum_nights_avg_ntm\"] == 1000].index, inplace=True)\n",
    "data_float.drop(data_float[data_float[\"minimum_nights_avg_ntm\"] == 1125].index, inplace=True)"
   ]
  },
  {
   "cell_type": "code",
   "execution_count": null,
   "metadata": {},
   "outputs": [],
   "source": [
    "#px.histogram(data_float, x=\"maximum_nights_avg_ntm\", marginal=\"rug\", template = template).show()"
   ]
  },
  {
   "cell_type": "code",
   "execution_count": null,
   "metadata": {},
   "outputs": [],
   "source": [
    "row_to_drop.extend([data_float[data_float[\"maximum_nights_avg_ntm\"] == 2147483647.0].index[0],\n",
    "                    data_float[data_float[\"maximum_nights_avg_ntm\"] == 100000.0].index[0],\n",
    "                    data_float[data_float[\"maximum_nights_avg_ntm\"] == 10000.0].index[0],\n",
    "                    data_float[data_float[\"maximum_nights_avg_ntm\"] == 9999.0].index[0],\n",
    "                    data_float[data_float[\"maximum_nights_avg_ntm\"] == 2000.0].index[0],\n",
    "                    data_float[data_float[\"maximum_nights_avg_ntm\"] == 1825.0].index[0]])"
   ]
  },
  {
   "cell_type": "code",
   "execution_count": null,
   "metadata": {},
   "outputs": [],
   "source": [
    "data_float.drop(data_float[data_float[\"maximum_nights_avg_ntm\"] == 2147483647.0].index, inplace=True)\n",
    "data_float.drop(data_float[data_float[\"maximum_nights_avg_ntm\"] == 100000.0].index, inplace=True)\n",
    "data_float.drop(data_float[data_float[\"maximum_nights_avg_ntm\"] == 10000.0].index, inplace=True)\n",
    "data_float.drop(data_float[data_float[\"maximum_nights_avg_ntm\"] == 9999.0].index, inplace=True)\n",
    "data_float.drop(data_float[data_float[\"maximum_nights_avg_ntm\"] == 2000.0].index, inplace=True)\n",
    "data_float.drop(data_float[data_float[\"maximum_nights_avg_ntm\"] == 1825.0].index, inplace=True)"
   ]
  },
  {
   "cell_type": "markdown",
   "metadata": {},
   "source": [
    "## Colonnes *latitude* et *longitude* "
   ]
  },
  {
   "cell_type": "markdown",
   "metadata": {},
   "source": [
    "Il faudra réflechir à comment représenter voir si on garde ces données. Si oui, il faudra trouver comment les préparer."
   ]
  },
  {
   "cell_type": "markdown",
   "metadata": {},
   "source": [
    "# Colonnes de type *Obj*"
   ]
  },
  {
   "cell_type": "code",
   "execution_count": null,
   "metadata": {},
   "outputs": [],
   "source": [
    "data_object = data.select_dtypes(include='object')"
   ]
  },
  {
   "cell_type": "code",
   "execution_count": null,
   "metadata": {},
   "outputs": [],
   "source": [
    "data_object.head()"
   ]
  },
  {
   "cell_type": "code",
   "execution_count": null,
   "metadata": {},
   "outputs": [],
   "source": [
    "data_object.columns"
   ]
  },
  {
   "cell_type": "markdown",
   "metadata": {},
   "source": [
    "La variable *last_scraped* n'est pas pertinente dans notre étude. Dans cette étude, nous allons aussi supprimer les variables contenant seulement des *url*."
   ]
  },
  {
   "cell_type": "code",
   "execution_count": null,
   "metadata": {},
   "outputs": [],
   "source": [
    "col_to_drop.extend(['listing_url', 'last_scraped', 'picture_url', 'host_url', 'calendar_last_scraped',\n",
    "                    'host_thumbnail_url', 'host_picture_url'])"
   ]
  },
  {
   "cell_type": "code",
   "execution_count": null,
   "metadata": {},
   "outputs": [],
   "source": [
    "data_object = data_object.drop(['listing_url', 'last_scraped', 'picture_url',\n",
    "                                'host_url', 'calendar_last_scraped'], axis=1)"
   ]
  },
  {
   "cell_type": "markdown",
   "metadata": {},
   "source": [
    "## TODO\n",
    "* Bien caster les dates et les booléens\n",
    "* Trouver les colonnes \"inutiles\" ou constantes\n",
    "* Discrétiser les variables (en faisant attention au leakage)\n",
    "* Voir comment traiter les données textuelles"
   ]
  },
  {
   "cell_type": "code",
   "execution_count": null,
   "metadata": {},
   "outputs": [],
   "source": [
    "data_object.columns"
   ]
  },
  {
   "cell_type": "code",
   "execution_count": null,
   "metadata": {},
   "outputs": [],
   "source": [
    "var_text = []\n",
    "var_text.extend(['name', 'summary', 'space', 'description', 'neighborhood_overview', 'notes',\n",
    "                'transit', 'access', 'interaction', 'house_rules', 'zipcode'])"
   ]
  },
  {
   "cell_type": "markdown",
   "metadata": {},
   "source": [
    "## Colonne *experienced_offered*"
   ]
  },
  {
   "cell_type": "code",
   "execution_count": null,
   "metadata": {},
   "outputs": [],
   "source": [
    "print(data_object.shape)\n",
    "(data_object['experiences_offered'] == \"none\").sum()"
   ]
  },
  {
   "cell_type": "code",
   "execution_count": null,
   "metadata": {},
   "outputs": [],
   "source": [
    "col_to_drop.append('experiences_offered')\n",
    "data_object = data_object.drop(['experiences_offered'], axis=1)"
   ]
  },
  {
   "cell_type": "markdown",
   "metadata": {},
   "source": [
    "La colonne *experiences_offered* contient seulement des \"nones\". Nous pouvons donc retirer cette colonne."
   ]
  },
  {
   "cell_type": "markdown",
   "metadata": {},
   "source": [
    "## Les colonnes *host_xxx*"
   ]
  },
  {
   "cell_type": "code",
   "execution_count": null,
   "metadata": {},
   "outputs": [],
   "source": [
    "col_to_drop.append('host_name')"
   ]
  },
  {
   "cell_type": "markdown",
   "metadata": {},
   "source": [
    "Cette variable n'a pas l'air pertinente dans notre étude"
   ]
  },
  {
   "cell_type": "code",
   "execution_count": null,
   "metadata": {},
   "outputs": [],
   "source": [
    "data_object['host_since'].head()"
   ]
  },
  {
   "cell_type": "code",
   "execution_count": null,
   "metadata": {},
   "outputs": [],
   "source": [
    "data_object['host_since'] = data_object['host_since'].astype('datetime64[ns]')"
   ]
  },
  {
   "cell_type": "code",
   "execution_count": null,
   "metadata": {},
   "outputs": [],
   "source": [
    "data_object['host_location'].value_counts()"
   ]
  },
  {
   "cell_type": "code",
   "execution_count": null,
   "metadata": {},
   "outputs": [],
   "source": [
    "data_object['host_about'].head()"
   ]
  },
  {
   "cell_type": "code",
   "execution_count": null,
   "metadata": {},
   "outputs": [],
   "source": [
    "data_object['host_response_time'].value_counts()"
   ]
  },
  {
   "cell_type": "code",
   "execution_count": null,
   "metadata": {},
   "outputs": [],
   "source": [
    "to_cat.append('host_response_time')"
   ]
  },
  {
   "cell_type": "code",
   "execution_count": null,
   "metadata": {},
   "outputs": [],
   "source": [
    "data_object['host_neighbourhood'].value_counts()"
   ]
  },
  {
   "cell_type": "markdown",
   "metadata": {},
   "source": [
    "Il y a beaucoup de valeurs, il faut voir si on categorise tous les quartiers ou si on le traite comme etant du texte.  \n",
    "On peut aussi se demander si cette variable est necessaire en plus de la ville des hotes."
   ]
  },
  {
   "cell_type": "markdown",
   "metadata": {},
   "source": [
    "# Analyse actuelle"
   ]
  },
  {
   "cell_type": "code",
   "execution_count": null,
   "metadata": {
    "scrolled": false
   },
   "outputs": [],
   "source": [
    "print(['host_name', 'host_since',\n",
    "       'host_location', 'host_about', 'host_response_time',\n",
    "       'host_response_rate', 'host_is_superhost', 'host_thumbnail_url',\n",
    "       'host_picture_url', 'host_neighbourhood', 'host_verifications',\n",
    "       'host_has_profile_pic', 'host_identity_verified'])"
   ]
  },
  {
   "cell_type": "code",
   "execution_count": null,
   "metadata": {},
   "outputs": [],
   "source": [
    "data_object['host_verifications'].head()"
   ]
  },
  {
   "cell_type": "markdown",
   "metadata": {},
   "source": [
    "A mon avis, il va falloir faire des catégories 'email', 'phone', ..."
   ]
  },
  {
   "cell_type": "code",
   "execution_count": null,
   "metadata": {},
   "outputs": [],
   "source": [
    "data_object['host_identity_verified']"
   ]
  },
  {
   "cell_type": "code",
   "execution_count": null,
   "metadata": {},
   "outputs": [],
   "source": []
  },
  {
   "cell_type": "code",
   "execution_count": null,
   "metadata": {},
   "outputs": [],
   "source": []
  },
  {
   "cell_type": "code",
   "execution_count": null,
   "metadata": {},
   "outputs": [],
   "source": []
  },
  {
   "cell_type": "markdown",
   "metadata": {},
   "source": [
    "## Colonnes *neighbourhood* et *neighbourhood_cleansed*"
   ]
  },
  {
   "cell_type": "code",
   "execution_count": null,
   "metadata": {},
   "outputs": [],
   "source": [
    "data_object[['neighbourhood', 'neighbourhood_cleansed']].head()"
   ]
  },
  {
   "cell_type": "markdown",
   "metadata": {},
   "source": [
    "La variable *neighbourhood_cleansed* a l'air d'être une version prétraitée de *neighbourhood*. NOus pouvons donc seulement garder *neighbourhood_cleansed*.  \n",
    "Est ce qu'on traite cette colonne comme du texte ou comme une variable catégorique?"
   ]
  },
  {
   "cell_type": "code",
   "execution_count": null,
   "metadata": {},
   "outputs": [],
   "source": [
    "var_text.append('neighbourhood_cleansed')"
   ]
  },
  {
   "cell_type": "code",
   "execution_count": null,
   "metadata": {},
   "outputs": [],
   "source": [
    "col_to_drop.append('neighbourhood_cleansed')\n",
    "data_object = data_object.drop(['neighbourhood_cleansed'], axis=1)"
   ]
  },
  {
   "cell_type": "markdown",
   "metadata": {},
   "source": [
    "## Colonnes *state*, *country* et *country_code*"
   ]
  },
  {
   "cell_type": "code",
   "execution_count": null,
   "metadata": {},
   "outputs": [],
   "source": [
    "print(data_object['state'].value_counts())\n",
    "print(data_object['country_code'].nunique())\n",
    "print(data_object['country'].nunique())\n",
    "print(data_object['has_availability'].nunique())\n",
    "print(data_object['jurisdiction_names'].nunique())\n",
    "print(data_object['is_business_travel_ready'].nunique())"
   ]
  },
  {
   "cell_type": "markdown",
   "metadata": {},
   "source": [
    "Toutes les lignes ont la même valeur. On peut donc supprimer cette variable."
   ]
  },
  {
   "cell_type": "markdown",
   "metadata": {},
   "source": [
    "De même, les variables *has_availibility*, *jurisdiction_names* ne prend qu'une valeur"
   ]
  },
  {
   "cell_type": "code",
   "execution_count": null,
   "metadata": {},
   "outputs": [],
   "source": [
    "col_to_drop.extend(['state', 'country_code', 'has_availability', 'jurisdiction_names', 'is_business_travel_ready'])\n",
    "data_object = data_object.drop(['state', 'country_code',\n",
    "                                'has_availability', 'jurisdiction_names', 'is_business_travel_ready'], axis=1)"
   ]
  },
  {
   "cell_type": "markdown",
   "metadata": {},
   "source": [
    "## Colonnes *city* et *smart_location*"
   ]
  },
  {
   "cell_type": "code",
   "execution_count": null,
   "metadata": {},
   "outputs": [],
   "source": [
    "data_object['city'].value_counts()"
   ]
  },
  {
   "cell_type": "code",
   "execution_count": null,
   "metadata": {},
   "outputs": [],
   "source": [
    "data_object['smart_location'].value_counts()"
   ]
  },
  {
   "cell_type": "code",
   "execution_count": null,
   "metadata": {},
   "outputs": [],
   "source": [
    "to_cat = []\n",
    "to_cat.append('city')"
   ]
  },
  {
   "cell_type": "markdown",
   "metadata": {},
   "source": [
    "Est ce qu'on a vraiment besoin des 2 variables ?  \n",
    "On peut garder la variable *city* pour l'instant. On peut éventuellement retirer la ligne écrite en chinois."
   ]
  },
  {
   "cell_type": "markdown",
   "metadata": {},
   "source": [
    "## Colonne *market*"
   ]
  },
  {
   "cell_type": "code",
   "execution_count": null,
   "metadata": {},
   "outputs": [],
   "source": [
    "data_object['market'].value_counts()"
   ]
  },
  {
   "cell_type": "markdown",
   "metadata": {},
   "source": [
    "Est ce qu'on garde la ligne D.C. ?"
   ]
  },
  {
   "cell_type": "markdown",
   "metadata": {},
   "source": [
    "## Colonnes de booléens (*is_location_exact*, )"
   ]
  },
  {
   "cell_type": "code",
   "execution_count": null,
   "metadata": {},
   "outputs": [],
   "source": [
    "to_bool = []\n",
    "d = {'t': True, 'f': False}"
   ]
  },
  {
   "cell_type": "code",
   "execution_count": null,
   "metadata": {},
   "outputs": [],
   "source": [
    "print(data_object['is_location_exact'].value_counts())\n",
    "print(\"\\n\")\n",
    "print(data_object['requires_license'].value_counts())\n",
    "print(\"\\n\")\n",
    "print(data_object['instant_bookable'].value_counts())\n",
    "print(\"\\n\")\n",
    "print(data_object['require_guest_profile_picture'].value_counts())\n",
    "print(\"\\n\")\n",
    "print(data_object['require_guest_phone_verification'].value_counts())\n",
    "\n",
    "print(\"\\n\")\n",
    "print(data_object['host_is_superhost'].value_counts())\n",
    "\n",
    "print(\"\\n\")\n",
    "print(data_object['host_has_profile_pic'].value_counts())\n",
    "\n",
    "print(\"\\n\")\n",
    "print(data_object['host_identity_verified'].value_counts())"
   ]
  },
  {
   "cell_type": "code",
   "execution_count": null,
   "metadata": {},
   "outputs": [],
   "source": [
    "to_bool.extend(['is_location_exact', 'requires_license', 'instant_bookable',\n",
    "                'require_guest_profile_picture', 'require_guest_phone_verification', 'host_is_superhost',\n",
    "               'host_has_profile_pic', 'host_identity_verified'])"
   ]
  },
  {
   "cell_type": "code",
   "execution_count": null,
   "metadata": {},
   "outputs": [],
   "source": [
    "data_object['is_location_exact'] = data_object['is_location_exact'].map(d)\n",
    "data_object['requires_license'] = data_object['requires_license'].map(d)\n",
    "data_object['instant_bookable'] = data_object['instant_bookable'].map(d)\n",
    "data_object['require_guest_profile_picture'] = data_object['require_guest_profile_picture'].map(d)\n",
    "data_object['require_guest_phone_verification'] = data_object['require_guest_phone_verification'].map(d)\n",
    "data_object['host_is_superhost'] = data_object['host_is_superhost'].map(d)\n",
    "data_object['host_has_profile_pic'] = data_object['host_has_profile_pic'].map(d)\n",
    "data_object['host_identity_verified'] = data_object['host_identity_verified'].map(d)"
   ]
  },
  {
   "cell_type": "markdown",
   "metadata": {},
   "source": [
    "## Variables catégoriques (*room_type*, *property_type*"
   ]
  },
  {
   "cell_type": "code",
   "execution_count": null,
   "metadata": {},
   "outputs": [],
   "source": [
    "print(data_object['property_type'].value_counts())\n",
    "print(\"\\n\")\n",
    "print(data_object['room_type'].value_counts())\n",
    "print(\"\\n\")\n",
    "print(data_object['bed_type'].value_counts())\n",
    "print(\"\\n\")\n",
    "print(data_object['cancellation_policy'].value_counts())"
   ]
  },
  {
   "cell_type": "code",
   "execution_count": null,
   "metadata": {},
   "outputs": [],
   "source": [
    "to_cat.extend(['property_type', 'room_type', 'bed_type', 'cancellation_policy'])"
   ]
  },
  {
   "cell_type": "markdown",
   "metadata": {},
   "source": [
    "Il faudrait réduire le nombre de catégories de *property_type*."
   ]
  },
  {
   "cell_type": "markdown",
   "metadata": {},
   "source": [
    "## Colonne *amenities*"
   ]
  },
  {
   "cell_type": "code",
   "execution_count": null,
   "metadata": {},
   "outputs": [],
   "source": [
    "data_object['amenities'].head()"
   ]
  },
  {
   "cell_type": "markdown",
   "metadata": {},
   "source": [
    "Est ce qu'on traite cette variable comme du texte ou comme des catégories ?"
   ]
  },
  {
   "cell_type": "markdown",
   "metadata": {},
   "source": [
    "## Colonnes *xxx_price*"
   ]
  },
  {
   "cell_type": "code",
   "execution_count": null,
   "metadata": {
    "scrolled": true
   },
   "outputs": [],
   "source": [
    "data_object['price'].head()"
   ]
  },
  {
   "cell_type": "code",
   "execution_count": null,
   "metadata": {},
   "outputs": [],
   "source": [
    "data_object['extra_people'].head()"
   ]
  },
  {
   "cell_type": "markdown",
   "metadata": {},
   "source": [
    "On convertit le prix en entier."
   ]
  },
  {
   "cell_type": "code",
   "execution_count": null,
   "metadata": {},
   "outputs": [],
   "source": [
    "data_object['price'] = data_object['price'].map(lambda x: int( x[1: (len(x)-4) ].replace(',', '') ))\n",
    "data_object['extra_people'] = data_object['extra_people'].map(lambda x: int( x[1: (len(x)-4) ].replace(',', '') ))"
   ]
  },
  {
   "cell_type": "markdown",
   "metadata": {},
   "source": [
    "Est ce qu'on garde les autres prix? Je suis d'avis de les enlever"
   ]
  },
  {
   "cell_type": "markdown",
   "metadata": {},
   "source": [
    "## Colonne *security_deposit* et *cleanning_fee*"
   ]
  },
  {
   "cell_type": "code",
   "execution_count": null,
   "metadata": {},
   "outputs": [],
   "source": [
    "data_object['security_deposit'].head()"
   ]
  },
  {
   "cell_type": "code",
   "execution_count": null,
   "metadata": {},
   "outputs": [],
   "source": [
    "data_object['cleaning_fee'].head()"
   ]
  },
  {
   "cell_type": "code",
   "execution_count": null,
   "metadata": {},
   "outputs": [],
   "source": [
    "def convert(x):\n",
    "    #print(x)\n",
    "    #print(x.isna())\n",
    "    if x != x:        # test si x == NAN\n",
    "        return x\n",
    "    else:\n",
    "        return int( x[1 : (len(x)-4) ].replace(',', '') )"
   ]
  },
  {
   "cell_type": "code",
   "execution_count": null,
   "metadata": {},
   "outputs": [],
   "source": [
    "data_object['security_deposit'] = data_object['security_deposit'].map(lambda x: convert(x))\n",
    "data_object['cleaning_fee'] = data_object['cleaning_fee'].map(lambda x: convert(x))"
   ]
  },
  {
   "cell_type": "markdown",
   "metadata": {},
   "source": [
    "## Colonne *calendar_updated*"
   ]
  },
  {
   "cell_type": "code",
   "execution_count": null,
   "metadata": {},
   "outputs": [],
   "source": [
    "data_object['calendar_updated'].head()"
   ]
  },
  {
   "cell_type": "markdown",
   "metadata": {},
   "source": [
    "Je sais pas comment traiter cette variable"
   ]
  },
  {
   "cell_type": "markdown",
   "metadata": {},
   "source": [
    "## Colonnes contenant des dates (*first_review*, *last_review*)"
   ]
  },
  {
   "cell_type": "code",
   "execution_count": null,
   "metadata": {},
   "outputs": [],
   "source": [
    "data_object['first_review'].head()"
   ]
  },
  {
   "cell_type": "code",
   "execution_count": null,
   "metadata": {},
   "outputs": [],
   "source": [
    "data_object['last_review'].head()"
   ]
  },
  {
   "cell_type": "code",
   "execution_count": null,
   "metadata": {},
   "outputs": [],
   "source": [
    "data_object['first_review'] = data_object['first_review'].astype('datetime64[ns]')\n",
    "data_object['last_review'] = data_object['last_review'].astype('datetime64[ns]') "
   ]
  },
  {
   "cell_type": "markdown",
   "metadata": {},
   "source": [
    "## Colonne *license*"
   ]
  },
  {
   "cell_type": "code",
   "execution_count": null,
   "metadata": {},
   "outputs": [],
   "source": [
    "data_object['license'].value_counts()"
   ]
  },
  {
   "cell_type": "markdown",
   "metadata": {},
   "source": [
    "Est ce qu'on considere cette variable comme etant catégorique ou on l'enleve?"
   ]
  },
  {
   "cell_type": "code",
   "execution_count": null,
   "metadata": {},
   "outputs": [],
   "source": []
  },
  {
   "cell_type": "code",
   "execution_count": null,
   "metadata": {},
   "outputs": [],
   "source": []
  }
 ],
 "metadata": {
  "kernelspec": {
   "display_name": "Python 3",
   "language": "python",
   "name": "python3"
  },
  "language_info": {
   "codemirror_mode": {
    "name": "ipython",
    "version": 3
   },
   "file_extension": ".py",
   "mimetype": "text/x-python",
   "name": "python",
   "nbconvert_exporter": "python",
   "pygments_lexer": "ipython3",
   "version": "3.7.3"
  }
 },
 "nbformat": 4,
 "nbformat_minor": 2
}
