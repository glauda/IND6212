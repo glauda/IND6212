{
 "cells": [
  {
   "cell_type": "markdown",
   "metadata": {},
   "source": [
    "# Import packages and data "
   ]
  },
  {
   "cell_type": "code",
   "execution_count": 1,
   "metadata": {},
   "outputs": [],
   "source": [
    "# Packages for data manipulation\n",
    "import numpy as np\n",
    "import pandas as pd"
   ]
  },
  {
   "cell_type": "code",
   "execution_count": 2,
   "metadata": {},
   "outputs": [
    {
     "data": {
      "text/html": [
       "        <script type=\"text/javascript\">\n",
       "        window.PlotlyConfig = {MathJaxConfig: 'local'};\n",
       "        if (window.MathJax) {MathJax.Hub.Config({SVG: {font: \"STIX-Web\"}});}\n",
       "        if (typeof require !== 'undefined') {\n",
       "        require.undef(\"plotly\");\n",
       "        requirejs.config({\n",
       "            paths: {\n",
       "                'plotly': ['https://cdn.plot.ly/plotly-latest.min']\n",
       "            }\n",
       "        });\n",
       "        require(['plotly'], function(Plotly) {\n",
       "            window._Plotly = Plotly;\n",
       "        });\n",
       "        }\n",
       "        </script>\n",
       "        "
      ]
     },
     "metadata": {},
     "output_type": "display_data"
    }
   ],
   "source": [
    "# Packages for dataviz\n",
    "import plotly.express as px\n",
    "import plotly.tools as tls\n",
    "import cufflinks as cf\n",
    "\n",
    "# offline configuration of cufflinks\n",
    "cf.go_offline()"
   ]
  },
  {
   "cell_type": "code",
   "execution_count": 3,
   "metadata": {},
   "outputs": [],
   "source": [
    "template = \"plotly_dark\""
   ]
  },
  {
   "cell_type": "code",
   "execution_count": 4,
   "metadata": {},
   "outputs": [],
   "source": [
    "# Machine learning packages\n",
    "#from sklearn import preprocessing, metrics"
   ]
  },
  {
   "cell_type": "code",
   "execution_count": 5,
   "metadata": {},
   "outputs": [],
   "source": [
    "# Load the data\n",
    "data = pd.read_csv('../data/raw.csv')"
   ]
  },
  {
   "cell_type": "markdown",
   "metadata": {},
   "source": [
    "# Quick look at the dataset"
   ]
  },
  {
   "cell_type": "code",
   "execution_count": 6,
   "metadata": {},
   "outputs": [
    {
     "data": {
      "text/html": [
       "<div>\n",
       "<style scoped>\n",
       "    .dataframe tbody tr th:only-of-type {\n",
       "        vertical-align: middle;\n",
       "    }\n",
       "\n",
       "    .dataframe tbody tr th {\n",
       "        vertical-align: top;\n",
       "    }\n",
       "\n",
       "    .dataframe thead th {\n",
       "        text-align: right;\n",
       "    }\n",
       "</style>\n",
       "<table border=\"1\" class=\"dataframe\">\n",
       "  <thead>\n",
       "    <tr style=\"text-align: right;\">\n",
       "      <th></th>\n",
       "      <th>id</th>\n",
       "      <th>listing_url</th>\n",
       "      <th>scrape_id</th>\n",
       "      <th>last_scraped</th>\n",
       "      <th>name</th>\n",
       "      <th>summary</th>\n",
       "      <th>space</th>\n",
       "      <th>description</th>\n",
       "      <th>experiences_offered</th>\n",
       "      <th>neighborhood_overview</th>\n",
       "      <th>...</th>\n",
       "      <th>instant_bookable</th>\n",
       "      <th>is_business_travel_ready</th>\n",
       "      <th>cancellation_policy</th>\n",
       "      <th>require_guest_profile_picture</th>\n",
       "      <th>require_guest_phone_verification</th>\n",
       "      <th>calculated_host_listings_count</th>\n",
       "      <th>calculated_host_listings_count_entire_homes</th>\n",
       "      <th>calculated_host_listings_count_private_rooms</th>\n",
       "      <th>calculated_host_listings_count_shared_rooms</th>\n",
       "      <th>reviews_per_month</th>\n",
       "    </tr>\n",
       "  </thead>\n",
       "  <tbody>\n",
       "    <tr>\n",
       "      <th>0</th>\n",
       "      <td>958</td>\n",
       "      <td>https://www.airbnb.com/rooms/958</td>\n",
       "      <td>2.019100e+13</td>\n",
       "      <td>10/14/19</td>\n",
       "      <td>Bright, Modern Garden Unit - 1BR/1B</td>\n",
       "      <td>New update: the house next door is under const...</td>\n",
       "      <td>Newly remodeled, modern, and bright garden uni...</td>\n",
       "      <td>New update: the house next door is under const...</td>\n",
       "      <td>none</td>\n",
       "      <td>*Quiet cul de sac in friendly neighborhood *St...</td>\n",
       "      <td>...</td>\n",
       "      <td>f</td>\n",
       "      <td>f</td>\n",
       "      <td>moderate</td>\n",
       "      <td>f</td>\n",
       "      <td>f</td>\n",
       "      <td>1</td>\n",
       "      <td>1</td>\n",
       "      <td>0</td>\n",
       "      <td>0</td>\n",
       "      <td>1.74</td>\n",
       "    </tr>\n",
       "    <tr>\n",
       "      <th>1</th>\n",
       "      <td>3850</td>\n",
       "      <td>https://www.airbnb.com/rooms/3850</td>\n",
       "      <td>2.019100e+13</td>\n",
       "      <td>10/14/19</td>\n",
       "      <td>Charming room for two</td>\n",
       "      <td>Your own private room plus access to a shared ...</td>\n",
       "      <td>This room can fit two people. Nobody else will...</td>\n",
       "      <td>Your own private room plus access to a shared ...</td>\n",
       "      <td>none</td>\n",
       "      <td>This is a quiet, safe neighborhood on a substa...</td>\n",
       "      <td>...</td>\n",
       "      <td>f</td>\n",
       "      <td>f</td>\n",
       "      <td>strict_14_with_grace_period</td>\n",
       "      <td>f</td>\n",
       "      <td>f</td>\n",
       "      <td>3</td>\n",
       "      <td>0</td>\n",
       "      <td>3</td>\n",
       "      <td>0</td>\n",
       "      <td>1.28</td>\n",
       "    </tr>\n",
       "    <tr>\n",
       "      <th>2</th>\n",
       "      <td>5858</td>\n",
       "      <td>https://www.airbnb.com/rooms/5858</td>\n",
       "      <td>2.019100e+13</td>\n",
       "      <td>10/14/19</td>\n",
       "      <td>Creative Sanctuary</td>\n",
       "      <td>NaN</td>\n",
       "      <td>We live in a large Victorian house on a quiet ...</td>\n",
       "      <td>We live in a large Victorian house on a quiet ...</td>\n",
       "      <td>none</td>\n",
       "      <td>I love how our neighborhood feels quiet but is...</td>\n",
       "      <td>...</td>\n",
       "      <td>f</td>\n",
       "      <td>f</td>\n",
       "      <td>strict_14_with_grace_period</td>\n",
       "      <td>f</td>\n",
       "      <td>f</td>\n",
       "      <td>1</td>\n",
       "      <td>1</td>\n",
       "      <td>0</td>\n",
       "      <td>0</td>\n",
       "      <td>0.87</td>\n",
       "    </tr>\n",
       "    <tr>\n",
       "      <th>3</th>\n",
       "      <td>7918</td>\n",
       "      <td>https://www.airbnb.com/rooms/7918</td>\n",
       "      <td>2.019100e+13</td>\n",
       "      <td>10/14/19</td>\n",
       "      <td>A Friendly Room - UCSF/USF - San Francisco</td>\n",
       "      <td>Nice and good public transportation.  7 minute...</td>\n",
       "      <td>Settle down, S.F. resident, student, hospital,...</td>\n",
       "      <td>Nice and good public transportation.  7 minute...</td>\n",
       "      <td>none</td>\n",
       "      <td>Shopping old town, restaurants, McDonald, Whol...</td>\n",
       "      <td>...</td>\n",
       "      <td>f</td>\n",
       "      <td>f</td>\n",
       "      <td>strict_14_with_grace_period</td>\n",
       "      <td>f</td>\n",
       "      <td>f</td>\n",
       "      <td>9</td>\n",
       "      <td>0</td>\n",
       "      <td>9</td>\n",
       "      <td>0</td>\n",
       "      <td>0.15</td>\n",
       "    </tr>\n",
       "    <tr>\n",
       "      <th>4</th>\n",
       "      <td>8142</td>\n",
       "      <td>https://www.airbnb.com/rooms/8142</td>\n",
       "      <td>2.019100e+13</td>\n",
       "      <td>10/14/19</td>\n",
       "      <td>Friendly Room Apt. Style -UCSF/USF - San Franc...</td>\n",
       "      <td>Nice and good public transportation.  7 minute...</td>\n",
       "      <td>Settle down, S.F. resident, student, hospital,...</td>\n",
       "      <td>Nice and good public transportation.  7 minute...</td>\n",
       "      <td>none</td>\n",
       "      <td>NaN</td>\n",
       "      <td>...</td>\n",
       "      <td>f</td>\n",
       "      <td>f</td>\n",
       "      <td>strict_14_with_grace_period</td>\n",
       "      <td>f</td>\n",
       "      <td>f</td>\n",
       "      <td>9</td>\n",
       "      <td>0</td>\n",
       "      <td>9</td>\n",
       "      <td>0</td>\n",
       "      <td>0.13</td>\n",
       "    </tr>\n",
       "  </tbody>\n",
       "</table>\n",
       "<p>5 rows × 106 columns</p>\n",
       "</div>"
      ],
      "text/plain": [
       "     id                        listing_url     scrape_id last_scraped  \\\n",
       "0   958   https://www.airbnb.com/rooms/958  2.019100e+13     10/14/19   \n",
       "1  3850  https://www.airbnb.com/rooms/3850  2.019100e+13     10/14/19   \n",
       "2  5858  https://www.airbnb.com/rooms/5858  2.019100e+13     10/14/19   \n",
       "3  7918  https://www.airbnb.com/rooms/7918  2.019100e+13     10/14/19   \n",
       "4  8142  https://www.airbnb.com/rooms/8142  2.019100e+13     10/14/19   \n",
       "\n",
       "                                                name  \\\n",
       "0                Bright, Modern Garden Unit - 1BR/1B   \n",
       "1                              Charming room for two   \n",
       "2                                 Creative Sanctuary   \n",
       "3         A Friendly Room - UCSF/USF - San Francisco   \n",
       "4  Friendly Room Apt. Style -UCSF/USF - San Franc...   \n",
       "\n",
       "                                             summary  \\\n",
       "0  New update: the house next door is under const...   \n",
       "1  Your own private room plus access to a shared ...   \n",
       "2                                                NaN   \n",
       "3  Nice and good public transportation.  7 minute...   \n",
       "4  Nice and good public transportation.  7 minute...   \n",
       "\n",
       "                                               space  \\\n",
       "0  Newly remodeled, modern, and bright garden uni...   \n",
       "1  This room can fit two people. Nobody else will...   \n",
       "2  We live in a large Victorian house on a quiet ...   \n",
       "3  Settle down, S.F. resident, student, hospital,...   \n",
       "4  Settle down, S.F. resident, student, hospital,...   \n",
       "\n",
       "                                         description experiences_offered  \\\n",
       "0  New update: the house next door is under const...                none   \n",
       "1  Your own private room plus access to a shared ...                none   \n",
       "2  We live in a large Victorian house on a quiet ...                none   \n",
       "3  Nice and good public transportation.  7 minute...                none   \n",
       "4  Nice and good public transportation.  7 minute...                none   \n",
       "\n",
       "                               neighborhood_overview  ... instant_bookable  \\\n",
       "0  *Quiet cul de sac in friendly neighborhood *St...  ...                f   \n",
       "1  This is a quiet, safe neighborhood on a substa...  ...                f   \n",
       "2  I love how our neighborhood feels quiet but is...  ...                f   \n",
       "3  Shopping old town, restaurants, McDonald, Whol...  ...                f   \n",
       "4                                                NaN  ...                f   \n",
       "\n",
       "  is_business_travel_ready          cancellation_policy  \\\n",
       "0                        f                     moderate   \n",
       "1                        f  strict_14_with_grace_period   \n",
       "2                        f  strict_14_with_grace_period   \n",
       "3                        f  strict_14_with_grace_period   \n",
       "4                        f  strict_14_with_grace_period   \n",
       "\n",
       "  require_guest_profile_picture require_guest_phone_verification  \\\n",
       "0                             f                                f   \n",
       "1                             f                                f   \n",
       "2                             f                                f   \n",
       "3                             f                                f   \n",
       "4                             f                                f   \n",
       "\n",
       "   calculated_host_listings_count  \\\n",
       "0                               1   \n",
       "1                               3   \n",
       "2                               1   \n",
       "3                               9   \n",
       "4                               9   \n",
       "\n",
       "   calculated_host_listings_count_entire_homes  \\\n",
       "0                                            1   \n",
       "1                                            0   \n",
       "2                                            1   \n",
       "3                                            0   \n",
       "4                                            0   \n",
       "\n",
       "  calculated_host_listings_count_private_rooms  \\\n",
       "0                                            0   \n",
       "1                                            3   \n",
       "2                                            0   \n",
       "3                                            9   \n",
       "4                                            9   \n",
       "\n",
       "   calculated_host_listings_count_shared_rooms  reviews_per_month  \n",
       "0                                            0               1.74  \n",
       "1                                            0               1.28  \n",
       "2                                            0               0.87  \n",
       "3                                            0               0.15  \n",
       "4                                            0               0.13  \n",
       "\n",
       "[5 rows x 106 columns]"
      ]
     },
     "execution_count": 6,
     "metadata": {},
     "output_type": "execute_result"
    }
   ],
   "source": [
    "data.head()"
   ]
  },
  {
   "cell_type": "code",
   "execution_count": 7,
   "metadata": {},
   "outputs": [
    {
     "name": "stdout",
     "output_type": "stream",
     "text": [
      "id                                                int64\n",
      "listing_url                                      object\n",
      "scrape_id                                       float64\n",
      "last_scraped                                     object\n",
      "name                                             object\n",
      "summary                                          object\n",
      "space                                            object\n",
      "description                                      object\n",
      "experiences_offered                              object\n",
      "neighborhood_overview                            object\n",
      "notes                                            object\n",
      "transit                                          object\n",
      "access                                           object\n",
      "interaction                                      object\n",
      "house_rules                                      object\n",
      "thumbnail_url                                   float64\n",
      "medium_url                                      float64\n",
      "picture_url                                      object\n",
      "xl_picture_url                                  float64\n",
      "host_id                                           int64\n",
      "host_url                                         object\n",
      "host_name                                        object\n",
      "host_since                                       object\n",
      "host_location                                    object\n",
      "host_about                                       object\n",
      "host_response_time                               object\n",
      "host_response_rate                               object\n",
      "host_acceptance_rate                            float64\n",
      "host_is_superhost                                object\n",
      "host_thumbnail_url                               object\n",
      "                                                 ...   \n",
      "has_availability                                 object\n",
      "availability_30                                   int64\n",
      "availability_60                                   int64\n",
      "availability_90                                   int64\n",
      "availability_365                                  int64\n",
      "calendar_last_scraped                            object\n",
      "number_of_reviews                                 int64\n",
      "number_of_reviews_ltm                             int64\n",
      "first_review                                     object\n",
      "last_review                                      object\n",
      "review_scores_rating                            float64\n",
      "review_scores_accuracy                          float64\n",
      "review_scores_cleanliness                       float64\n",
      "review_scores_checkin                           float64\n",
      "review_scores_communication                     float64\n",
      "review_scores_location                          float64\n",
      "review_scores_value                             float64\n",
      "requires_license                                 object\n",
      "license                                          object\n",
      "jurisdiction_names                               object\n",
      "instant_bookable                                 object\n",
      "is_business_travel_ready                         object\n",
      "cancellation_policy                              object\n",
      "require_guest_profile_picture                    object\n",
      "require_guest_phone_verification                 object\n",
      "calculated_host_listings_count                    int64\n",
      "calculated_host_listings_count_entire_homes       int64\n",
      "calculated_host_listings_count_private_rooms      int64\n",
      "calculated_host_listings_count_shared_rooms       int64\n",
      "reviews_per_month                               float64\n",
      "Length: 106, dtype: object\n",
      "\n",
      "\n",
      "object     62\n",
      "float64    24\n",
      "int64      20\n",
      "dtype: int64\n"
     ]
    }
   ],
   "source": [
    "#data.columns\n",
    "print(data.dtypes)\n",
    "print(\"\\n\")\n",
    "print(data.dtypes.value_counts())"
   ]
  },
  {
   "cell_type": "markdown",
   "metadata": {},
   "source": [
    "Since there are many columns, we will look at the data type by type."
   ]
  },
  {
   "cell_type": "markdown",
   "metadata": {},
   "source": [
    "## TODO"
   ]
  },
  {
   "cell_type": "markdown",
   "metadata": {},
   "source": [
    "* En regardant rapidement les colonnes sur kaggle, on constate que certaines ont l'air de contenir qu'une seule valeur (par exemple \"country_code\" = US). Il faut donc les supprimer.\n",
    "* Il faut recoder les booléens qui sont considéré comme des string."
   ]
  },
  {
   "cell_type": "markdown",
   "metadata": {},
   "source": [
    "## Morceaux de documentation sur la description des colonnes\n",
    "* https://rstudio-pubs-static.s3.amazonaws.com/365075_ec9ebe4da4cc465ba9beaef25cda6bad.html\n",
    "* https://www.kaggle.com/dgomonov/new-york-city-airbnb-open-data"
   ]
  },
  {
   "cell_type": "code",
   "execution_count": 8,
   "metadata": {},
   "outputs": [],
   "source": [
    "col_to_drop = []\n",
    "row_to_drop = []"
   ]
  },
  {
   "cell_type": "markdown",
   "metadata": {},
   "source": [
    "# Exploration des colonnes de type *int*"
   ]
  },
  {
   "cell_type": "code",
   "execution_count": 9,
   "metadata": {},
   "outputs": [],
   "source": [
    "data_int = data.select_dtypes(include='int64')"
   ]
  },
  {
   "cell_type": "code",
   "execution_count": 10,
   "metadata": {},
   "outputs": [
    {
     "data": {
      "text/html": [
       "<div>\n",
       "<style scoped>\n",
       "    .dataframe tbody tr th:only-of-type {\n",
       "        vertical-align: middle;\n",
       "    }\n",
       "\n",
       "    .dataframe tbody tr th {\n",
       "        vertical-align: top;\n",
       "    }\n",
       "\n",
       "    .dataframe thead th {\n",
       "        text-align: right;\n",
       "    }\n",
       "</style>\n",
       "<table border=\"1\" class=\"dataframe\">\n",
       "  <thead>\n",
       "    <tr style=\"text-align: right;\">\n",
       "      <th></th>\n",
       "      <th>id</th>\n",
       "      <th>host_id</th>\n",
       "      <th>accommodates</th>\n",
       "      <th>guests_included</th>\n",
       "      <th>minimum_nights</th>\n",
       "      <th>maximum_nights</th>\n",
       "      <th>minimum_minimum_nights</th>\n",
       "      <th>maximum_minimum_nights</th>\n",
       "      <th>minimum_maximum_nights</th>\n",
       "      <th>maximum_maximum_nights</th>\n",
       "      <th>availability_30</th>\n",
       "      <th>availability_60</th>\n",
       "      <th>availability_90</th>\n",
       "      <th>availability_365</th>\n",
       "      <th>number_of_reviews</th>\n",
       "      <th>number_of_reviews_ltm</th>\n",
       "      <th>calculated_host_listings_count</th>\n",
       "      <th>calculated_host_listings_count_entire_homes</th>\n",
       "      <th>calculated_host_listings_count_private_rooms</th>\n",
       "      <th>calculated_host_listings_count_shared_rooms</th>\n",
       "    </tr>\n",
       "  </thead>\n",
       "  <tbody>\n",
       "    <tr>\n",
       "      <th>0</th>\n",
       "      <td>958</td>\n",
       "      <td>1169</td>\n",
       "      <td>3</td>\n",
       "      <td>2</td>\n",
       "      <td>1</td>\n",
       "      <td>30</td>\n",
       "      <td>1</td>\n",
       "      <td>1</td>\n",
       "      <td>30</td>\n",
       "      <td>30</td>\n",
       "      <td>3</td>\n",
       "      <td>8</td>\n",
       "      <td>16</td>\n",
       "      <td>85</td>\n",
       "      <td>217</td>\n",
       "      <td>52</td>\n",
       "      <td>1</td>\n",
       "      <td>1</td>\n",
       "      <td>0</td>\n",
       "      <td>0</td>\n",
       "    </tr>\n",
       "    <tr>\n",
       "      <th>1</th>\n",
       "      <td>3850</td>\n",
       "      <td>4921</td>\n",
       "      <td>2</td>\n",
       "      <td>2</td>\n",
       "      <td>1</td>\n",
       "      <td>5</td>\n",
       "      <td>1</td>\n",
       "      <td>1</td>\n",
       "      <td>5</td>\n",
       "      <td>5</td>\n",
       "      <td>5</td>\n",
       "      <td>32</td>\n",
       "      <td>62</td>\n",
       "      <td>62</td>\n",
       "      <td>160</td>\n",
       "      <td>36</td>\n",
       "      <td>3</td>\n",
       "      <td>0</td>\n",
       "      <td>3</td>\n",
       "      <td>0</td>\n",
       "    </tr>\n",
       "    <tr>\n",
       "      <th>2</th>\n",
       "      <td>5858</td>\n",
       "      <td>8904</td>\n",
       "      <td>5</td>\n",
       "      <td>2</td>\n",
       "      <td>30</td>\n",
       "      <td>60</td>\n",
       "      <td>30</td>\n",
       "      <td>30</td>\n",
       "      <td>60</td>\n",
       "      <td>60</td>\n",
       "      <td>0</td>\n",
       "      <td>0</td>\n",
       "      <td>0</td>\n",
       "      <td>0</td>\n",
       "      <td>111</td>\n",
       "      <td>0</td>\n",
       "      <td>1</td>\n",
       "      <td>1</td>\n",
       "      <td>0</td>\n",
       "      <td>0</td>\n",
       "    </tr>\n",
       "    <tr>\n",
       "      <th>3</th>\n",
       "      <td>7918</td>\n",
       "      <td>21994</td>\n",
       "      <td>2</td>\n",
       "      <td>1</td>\n",
       "      <td>32</td>\n",
       "      <td>60</td>\n",
       "      <td>32</td>\n",
       "      <td>32</td>\n",
       "      <td>60</td>\n",
       "      <td>60</td>\n",
       "      <td>30</td>\n",
       "      <td>60</td>\n",
       "      <td>90</td>\n",
       "      <td>365</td>\n",
       "      <td>18</td>\n",
       "      <td>1</td>\n",
       "      <td>9</td>\n",
       "      <td>0</td>\n",
       "      <td>9</td>\n",
       "      <td>0</td>\n",
       "    </tr>\n",
       "    <tr>\n",
       "      <th>4</th>\n",
       "      <td>8142</td>\n",
       "      <td>21994</td>\n",
       "      <td>2</td>\n",
       "      <td>1</td>\n",
       "      <td>32</td>\n",
       "      <td>90</td>\n",
       "      <td>32</td>\n",
       "      <td>32</td>\n",
       "      <td>90</td>\n",
       "      <td>90</td>\n",
       "      <td>30</td>\n",
       "      <td>60</td>\n",
       "      <td>90</td>\n",
       "      <td>365</td>\n",
       "      <td>8</td>\n",
       "      <td>0</td>\n",
       "      <td>9</td>\n",
       "      <td>0</td>\n",
       "      <td>9</td>\n",
       "      <td>0</td>\n",
       "    </tr>\n",
       "  </tbody>\n",
       "</table>\n",
       "</div>"
      ],
      "text/plain": [
       "     id  host_id  accommodates  guests_included  minimum_nights  \\\n",
       "0   958     1169             3                2               1   \n",
       "1  3850     4921             2                2               1   \n",
       "2  5858     8904             5                2              30   \n",
       "3  7918    21994             2                1              32   \n",
       "4  8142    21994             2                1              32   \n",
       "\n",
       "   maximum_nights  minimum_minimum_nights  maximum_minimum_nights  \\\n",
       "0              30                       1                       1   \n",
       "1               5                       1                       1   \n",
       "2              60                      30                      30   \n",
       "3              60                      32                      32   \n",
       "4              90                      32                      32   \n",
       "\n",
       "   minimum_maximum_nights  maximum_maximum_nights  availability_30  \\\n",
       "0                      30                      30                3   \n",
       "1                       5                       5                5   \n",
       "2                      60                      60                0   \n",
       "3                      60                      60               30   \n",
       "4                      90                      90               30   \n",
       "\n",
       "   availability_60  availability_90  availability_365  number_of_reviews  \\\n",
       "0                8               16                85                217   \n",
       "1               32               62                62                160   \n",
       "2                0                0                 0                111   \n",
       "3               60               90               365                 18   \n",
       "4               60               90               365                  8   \n",
       "\n",
       "   number_of_reviews_ltm  calculated_host_listings_count  \\\n",
       "0                     52                               1   \n",
       "1                     36                               3   \n",
       "2                      0                               1   \n",
       "3                      1                               9   \n",
       "4                      0                               9   \n",
       "\n",
       "   calculated_host_listings_count_entire_homes  \\\n",
       "0                                            1   \n",
       "1                                            0   \n",
       "2                                            1   \n",
       "3                                            0   \n",
       "4                                            0   \n",
       "\n",
       "   calculated_host_listings_count_private_rooms  \\\n",
       "0                                             0   \n",
       "1                                             3   \n",
       "2                                             0   \n",
       "3                                             9   \n",
       "4                                             9   \n",
       "\n",
       "   calculated_host_listings_count_shared_rooms  \n",
       "0                                            0  \n",
       "1                                            0  \n",
       "2                                            0  \n",
       "3                                            0  \n",
       "4                                            0  "
      ]
     },
     "execution_count": 10,
     "metadata": {},
     "output_type": "execute_result"
    }
   ],
   "source": [
    "data_int.head()"
   ]
  },
  {
   "cell_type": "code",
   "execution_count": 11,
   "metadata": {},
   "outputs": [],
   "source": [
    "# Histogram of all columns\n",
    "# data_int.iplot(kind='box', filename='cufflinks/box-plots', world_readable=True)"
   ]
  },
  {
   "cell_type": "code",
   "execution_count": 12,
   "metadata": {
    "scrolled": true
   },
   "outputs": [
    {
     "data": {
      "text/plain": [
       "Index(['id', 'host_id', 'accommodates', 'guests_included', 'minimum_nights',\n",
       "       'maximum_nights', 'minimum_minimum_nights', 'maximum_minimum_nights',\n",
       "       'minimum_maximum_nights', 'maximum_maximum_nights', 'availability_30',\n",
       "       'availability_60', 'availability_90', 'availability_365',\n",
       "       'number_of_reviews', 'number_of_reviews_ltm',\n",
       "       'calculated_host_listings_count',\n",
       "       'calculated_host_listings_count_entire_homes',\n",
       "       'calculated_host_listings_count_private_rooms',\n",
       "       'calculated_host_listings_count_shared_rooms'],\n",
       "      dtype='object')"
      ]
     },
     "execution_count": 12,
     "metadata": {},
     "output_type": "execute_result"
    }
   ],
   "source": [
    "data_int.columns"
   ]
  },
  {
   "cell_type": "markdown",
   "metadata": {},
   "source": [
    "## Colonnes *Id* et *host_id*"
   ]
  },
  {
   "cell_type": "code",
   "execution_count": 13,
   "metadata": {},
   "outputs": [
    {
     "data": {
      "text/plain": [
       "(8111, 20)"
      ]
     },
     "execution_count": 13,
     "metadata": {},
     "output_type": "execute_result"
    }
   ],
   "source": [
    "data_int.shape"
   ]
  },
  {
   "cell_type": "code",
   "execution_count": 14,
   "metadata": {},
   "outputs": [
    {
     "data": {
      "text/plain": [
       "8111"
      ]
     },
     "execution_count": 14,
     "metadata": {},
     "output_type": "execute_result"
    }
   ],
   "source": [
    "data_int[\"id\"].nunique()"
   ]
  },
  {
   "cell_type": "code",
   "execution_count": 15,
   "metadata": {
    "scrolled": false
   },
   "outputs": [
    {
     "data": {
      "text/plain": [
       "48005494     248\n",
       "219930816    178\n",
       "107434423    170\n",
       "4430421      102\n",
       "70722023      44\n",
       "117141107     43\n",
       "173206762     43\n",
       "38836         41\n",
       "262211596     40\n",
       "103340667     37\n",
       "64646820      37\n",
       "141944806     36\n",
       "55782784      36\n",
       "47514427      35\n",
       "267895362     35\n",
       "1682188       35\n",
       "263502162     34\n",
       "20678148      32\n",
       "17042045      31\n",
       "6346492       29\n",
       "13832870      28\n",
       "112282150     27\n",
       "24157036      27\n",
       "173416916     27\n",
       "91333416      26\n",
       "30283594      26\n",
       "1892430       26\n",
       "22931450      25\n",
       "1479964       25\n",
       "1257432       21\n",
       "            ... \n",
       "750320         1\n",
       "2198311        1\n",
       "170361642      1\n",
       "10274243       1\n",
       "1590094        1\n",
       "11218165       1\n",
       "627552         1\n",
       "14654989       1\n",
       "223730525      1\n",
       "156562268      1\n",
       "21337159       1\n",
       "424793         1\n",
       "136644372      1\n",
       "701268         1\n",
       "951122         1\n",
       "12192591       1\n",
       "8577866        1\n",
       "582450         1\n",
       "244771655      1\n",
       "4422469        1\n",
       "1125797        1\n",
       "234376095      1\n",
       "29959736       1\n",
       "77013822       1\n",
       "334653         1\n",
       "13103932       1\n",
       "300837042      1\n",
       "4335499        1\n",
       "1182515        1\n",
       "1281984        1\n",
       "Name: host_id, Length: 4303, dtype: int64"
      ]
     },
     "execution_count": 15,
     "metadata": {},
     "output_type": "execute_result"
    }
   ],
   "source": [
    "data_int[\"host_id\"].value_counts()"
   ]
  },
  {
   "cell_type": "markdown",
   "metadata": {},
   "source": [
    "On ne retrouve pas 2 fois le même logement, par contre on trouve plusieurs fois les mêmes hotes. La variable *id_host* peut être intéressante à étudier. Par contre, je pense qu'il n'y a pas trop d'interet à garder la variable *id*."
   ]
  },
  {
   "cell_type": "code",
   "execution_count": 16,
   "metadata": {},
   "outputs": [],
   "source": [
    "col_to_drop.append(\"id\")"
   ]
  },
  {
   "cell_type": "markdown",
   "metadata": {},
   "source": [
    "## Colonnes *Min/Max nights*"
   ]
  },
  {
   "cell_type": "code",
   "execution_count": 17,
   "metadata": {},
   "outputs": [],
   "source": [
    "#data_int.iplot(kind='box', filename='cufflinks/box-plots', world_readable=True,\n",
    "#               columns = ['minimum_nights', 'maximum_nights', 'minimum_minimum_nights', \n",
    "#                          'maximum_minimum_nights', 'minimum_maximum_nights', 'maximum_maximum_nights'])"
   ]
  },
  {
   "cell_type": "markdown",
   "metadata": {},
   "source": [
    "Je ne comprends vraiment pas les colonnes \n",
    "* *minimum_minimum_nights*\n",
    "* *maximum_minimum_nights*\n",
    "* *minimum_maximum_nights*\n",
    "* *maximum_maximum_nights*  \n",
    "\n",
    "Je propose qu'on les enleve car en plus les valeurs sont ridiculement grandes  "
   ]
  },
  {
   "cell_type": "code",
   "execution_count": 18,
   "metadata": {},
   "outputs": [],
   "source": [
    "col_to_drop.extend(['minimum_minimum_nights', 'maximum_minimum_nights', \n",
    "                    'minimum_maximum_nights', 'maximum_maximum_nights'])"
   ]
  },
  {
   "cell_type": "markdown",
   "metadata": {},
   "source": [
    "### Colonne *minimum-nights*"
   ]
  },
  {
   "cell_type": "code",
   "execution_count": 19,
   "metadata": {},
   "outputs": [],
   "source": [
    "#px.box(data_int, y=\"minimum_nights\", points=\"all\", template = template).show()"
   ]
  },
  {
   "cell_type": "markdown",
   "metadata": {},
   "source": [
    "On peut supprimer les 3 plus grandes valeures car elles ont l'air abbérentes"
   ]
  },
  {
   "cell_type": "code",
   "execution_count": 20,
   "metadata": {},
   "outputs": [],
   "source": [
    "row_to_drop.extend([data_int[data_int[\"minimum_nights\"] == 100000000].index[0],\n",
    "                    data_int[data_int[\"minimum_nights\"] == 1125].index[0],\n",
    "                    data_int[data_int[\"minimum_nights\"] == 1000].index[0]])"
   ]
  },
  {
   "cell_type": "code",
   "execution_count": 21,
   "metadata": {},
   "outputs": [],
   "source": [
    "data_int.drop(data_int[data_int[\"minimum_nights\"] == 100000000].index, inplace=True)\n",
    "data_int.drop(data_int[data_int[\"minimum_nights\"] == 1125].index, inplace=True)\n",
    "data_int.drop(data_int[data_int[\"minimum_nights\"] == 1000].index, inplace=True)"
   ]
  },
  {
   "cell_type": "markdown",
   "metadata": {},
   "source": [
    "* On constate maintenant une distribution plus \"propre\"\n",
    "* On constate des \"paliers\" pour les valeurs 30, 60, 90 et 365. Est ce qu'il y a un rapport avec les variables \"availibility_xx\". Si c'est le cas, on risque d'avoir un problème de multicolinéarité et il faudra surement faire une selection parmi ces variables."
   ]
  },
  {
   "cell_type": "markdown",
   "metadata": {},
   "source": [
    "### Colonne *maximum_night*"
   ]
  },
  {
   "cell_type": "code",
   "execution_count": 22,
   "metadata": {},
   "outputs": [],
   "source": [
    "#px.box(data_int, y=\"maximum_nights\", points=\"all\", template = template).show()"
   ]
  },
  {
   "cell_type": "markdown",
   "metadata": {},
   "source": [
    "On peut supprimer les 4 plus grandes valeures car elles ont l'air abbérentes. Cela nous permet d'avoir des distributions plus \"propres\"."
   ]
  },
  {
   "cell_type": "code",
   "execution_count": 23,
   "metadata": {},
   "outputs": [],
   "source": [
    "row_to_drop.extend([data_int[data_int[\"maximum_nights\"] == 100000].index[0],\n",
    "                    data_int[data_int[\"maximum_nights\"] == 10000].index[0],\n",
    "                    data_int[data_int[\"maximum_nights\"] == 9999].index[0]])"
   ]
  },
  {
   "cell_type": "code",
   "execution_count": 24,
   "metadata": {},
   "outputs": [],
   "source": [
    "data_int.drop(data_int[data_int[\"maximum_nights\"] == 100000].index, inplace=True)\n",
    "data_int.drop(data_int[data_int[\"maximum_nights\"] == 10000].index, inplace=True)\n",
    "data_int.drop(data_int[data_int[\"maximum_nights\"] == 9999].index, inplace=True)"
   ]
  },
  {
   "cell_type": "markdown",
   "metadata": {},
   "source": [
    "## Colonne *accommodates*"
   ]
  },
  {
   "cell_type": "code",
   "execution_count": 25,
   "metadata": {},
   "outputs": [],
   "source": [
    "#px.histogram(data_int, x=\"accommodates\", template = template).show()"
   ]
  },
  {
   "cell_type": "markdown",
   "metadata": {},
   "source": [
    "RAS"
   ]
  },
  {
   "cell_type": "markdown",
   "metadata": {},
   "source": [
    "## Colonne *guests_included*"
   ]
  },
  {
   "cell_type": "code",
   "execution_count": 26,
   "metadata": {},
   "outputs": [],
   "source": [
    "#px.histogram(data_int, x=\"guests_included\", template = template).show()"
   ]
  },
  {
   "cell_type": "markdown",
   "metadata": {},
   "source": [
    "RAS"
   ]
  },
  {
   "cell_type": "markdown",
   "metadata": {},
   "source": [
    "## Colonnes *availability_xx*"
   ]
  },
  {
   "cell_type": "markdown",
   "metadata": {},
   "source": [
    "D'après la description de la colonne du \"New York City Airbnb Dataset\"\n",
    "\n",
    "availability_365 : number of days when listing is available for booking"
   ]
  },
  {
   "cell_type": "code",
   "execution_count": 27,
   "metadata": {},
   "outputs": [],
   "source": [
    "#data_int.iplot(kind='box', filename='cufflinks/box-plots', world_readable=True,\n",
    "#               columns = ['availability_30', 'availability_60', 'availability_90', 'availability_365'])"
   ]
  },
  {
   "cell_type": "code",
   "execution_count": 28,
   "metadata": {},
   "outputs": [
    {
     "data": {
      "text/html": [
       "<div>\n",
       "<style scoped>\n",
       "    .dataframe tbody tr th:only-of-type {\n",
       "        vertical-align: middle;\n",
       "    }\n",
       "\n",
       "    .dataframe tbody tr th {\n",
       "        vertical-align: top;\n",
       "    }\n",
       "\n",
       "    .dataframe thead th {\n",
       "        text-align: right;\n",
       "    }\n",
       "</style>\n",
       "<table border=\"1\" class=\"dataframe\">\n",
       "  <thead>\n",
       "    <tr style=\"text-align: right;\">\n",
       "      <th></th>\n",
       "      <th>availability_30</th>\n",
       "      <th>availability_60</th>\n",
       "      <th>availability_90</th>\n",
       "      <th>availability_365</th>\n",
       "    </tr>\n",
       "  </thead>\n",
       "  <tbody>\n",
       "    <tr>\n",
       "      <th>0</th>\n",
       "      <td>3</td>\n",
       "      <td>8</td>\n",
       "      <td>16</td>\n",
       "      <td>85</td>\n",
       "    </tr>\n",
       "    <tr>\n",
       "      <th>1</th>\n",
       "      <td>5</td>\n",
       "      <td>32</td>\n",
       "      <td>62</td>\n",
       "      <td>62</td>\n",
       "    </tr>\n",
       "    <tr>\n",
       "      <th>2</th>\n",
       "      <td>0</td>\n",
       "      <td>0</td>\n",
       "      <td>0</td>\n",
       "      <td>0</td>\n",
       "    </tr>\n",
       "    <tr>\n",
       "      <th>3</th>\n",
       "      <td>30</td>\n",
       "      <td>60</td>\n",
       "      <td>90</td>\n",
       "      <td>365</td>\n",
       "    </tr>\n",
       "    <tr>\n",
       "      <th>4</th>\n",
       "      <td>30</td>\n",
       "      <td>60</td>\n",
       "      <td>90</td>\n",
       "      <td>365</td>\n",
       "    </tr>\n",
       "  </tbody>\n",
       "</table>\n",
       "</div>"
      ],
      "text/plain": [
       "   availability_30  availability_60  availability_90  availability_365\n",
       "0                3                8               16                85\n",
       "1                5               32               62                62\n",
       "2                0                0                0                 0\n",
       "3               30               60               90               365\n",
       "4               30               60               90               365"
      ]
     },
     "execution_count": 28,
     "metadata": {},
     "output_type": "execute_result"
    }
   ],
   "source": [
    "data_int[['availability_30', 'availability_60', 'availability_90', 'availability_365']].head()"
   ]
  },
  {
   "cell_type": "markdown",
   "metadata": {},
   "source": [
    "Je ne sais pas si on doit tous les garder ou si availability_365 suffit"
   ]
  },
  {
   "cell_type": "markdown",
   "metadata": {},
   "source": [
    "## Colonnes *number_of_reviews* et *number_of_reviews_ltm*"
   ]
  },
  {
   "cell_type": "markdown",
   "metadata": {},
   "source": [
    "LTM = Last Twelve Months "
   ]
  },
  {
   "cell_type": "code",
   "execution_count": 29,
   "metadata": {
    "scrolled": false
   },
   "outputs": [],
   "source": [
    "# px.histogram(data_int, x=\"number_of_reviews\", marginal=\"box\", template = template).show()\n",
    "# marginal can be 'rug', 'box', 'violin'                         "
   ]
  },
  {
   "cell_type": "markdown",
   "metadata": {},
   "source": [
    "On observe un gros pic à 0. Est ceque c'est vraiment grave?"
   ]
  },
  {
   "cell_type": "code",
   "execution_count": 30,
   "metadata": {},
   "outputs": [],
   "source": [
    "tmp = data_int.copy()\n",
    "tmp[\"number_of_reviews\"] = np.log(tmp[\"number_of_reviews\"] + 1)\n",
    "#px.histogram(tmp, x=\"number_of_reviews\", marginal=\"box\").show()"
   ]
  },
  {
   "cell_type": "markdown",
   "metadata": {},
   "source": [
    "La transformation log permet d'avoir une distribution plus proche d'une gaussienne, mais est ce qu'on en a vraiment besoin?"
   ]
  },
  {
   "cell_type": "code",
   "execution_count": 31,
   "metadata": {},
   "outputs": [],
   "source": [
    "#px.histogram(data_int, x=\"number_of_reviews_ltm\", marginal=\"box\", template = template).show()"
   ]
  },
  {
   "cell_type": "markdown",
   "metadata": {},
   "source": [
    "La distribution est similaire à la précédente.  \n",
    "Après, on peut encore se poser la question : est ce pertinent de garder *number_of_reviews* et *number_of_reviews_ltm*?"
   ]
  },
  {
   "cell_type": "markdown",
   "metadata": {},
   "source": [
    "## Colonnes *calculated_host_listings_x*"
   ]
  },
  {
   "cell_type": "code",
   "execution_count": 32,
   "metadata": {},
   "outputs": [],
   "source": [
    "#data_int.iplot(kind='box', filename='cufflinks/box-plots', world_readable=True,\n",
    "#               columns = ['calculated_host_listings_count','calculated_host_listings_count_entire_homes',\n",
    "#               'calculated_host_listings_count_private_rooms','calculated_host_listings_count_shared_rooms'])"
   ]
  },
  {
   "cell_type": "markdown",
   "metadata": {},
   "source": [
    "*calculated_host_listings_count* correspond au nombre de logements différents par host. Je pense qu'il faut garder les grandes valeurs.  \n",
    "Par contre, est ce qu'on a besoin des 4 variables? Ou seulement la 1ere suffit (et permet d'éviter d'éventuelles colinéaritées dans les données)?"
   ]
  },
  {
   "cell_type": "code",
   "execution_count": 33,
   "metadata": {},
   "outputs": [],
   "source": [
    "# px.histogram(data_int, x=\"calculated_host_listings_count\", marginal=\"rug\", template = template).show()"
   ]
  },
  {
   "cell_type": "markdown",
   "metadata": {},
   "source": [
    "On peut donc observer que peu de personnes possèdent une grande partie des logements Airbnb de San Francisco. Je pense que ces valeurs \"abbérentes\" sont intéressantes à étudier."
   ]
  },
  {
   "cell_type": "markdown",
   "metadata": {},
   "source": [
    "# Exploration des colonnes de type *float*"
   ]
  },
  {
   "cell_type": "code",
   "execution_count": 34,
   "metadata": {},
   "outputs": [],
   "source": [
    "data_float = data.select_dtypes(include='float64')"
   ]
  },
  {
   "cell_type": "code",
   "execution_count": 35,
   "metadata": {
    "scrolled": true
   },
   "outputs": [
    {
     "data": {
      "text/html": [
       "<div>\n",
       "<style scoped>\n",
       "    .dataframe tbody tr th:only-of-type {\n",
       "        vertical-align: middle;\n",
       "    }\n",
       "\n",
       "    .dataframe tbody tr th {\n",
       "        vertical-align: top;\n",
       "    }\n",
       "\n",
       "    .dataframe thead th {\n",
       "        text-align: right;\n",
       "    }\n",
       "</style>\n",
       "<table border=\"1\" class=\"dataframe\">\n",
       "  <thead>\n",
       "    <tr style=\"text-align: right;\">\n",
       "      <th></th>\n",
       "      <th>scrape_id</th>\n",
       "      <th>thumbnail_url</th>\n",
       "      <th>medium_url</th>\n",
       "      <th>xl_picture_url</th>\n",
       "      <th>host_acceptance_rate</th>\n",
       "      <th>host_listings_count</th>\n",
       "      <th>host_total_listings_count</th>\n",
       "      <th>neighbourhood_group_cleansed</th>\n",
       "      <th>latitude</th>\n",
       "      <th>longitude</th>\n",
       "      <th>...</th>\n",
       "      <th>minimum_nights_avg_ntm</th>\n",
       "      <th>maximum_nights_avg_ntm</th>\n",
       "      <th>review_scores_rating</th>\n",
       "      <th>review_scores_accuracy</th>\n",
       "      <th>review_scores_cleanliness</th>\n",
       "      <th>review_scores_checkin</th>\n",
       "      <th>review_scores_communication</th>\n",
       "      <th>review_scores_location</th>\n",
       "      <th>review_scores_value</th>\n",
       "      <th>reviews_per_month</th>\n",
       "    </tr>\n",
       "  </thead>\n",
       "  <tbody>\n",
       "    <tr>\n",
       "      <th>0</th>\n",
       "      <td>2.019100e+13</td>\n",
       "      <td>NaN</td>\n",
       "      <td>NaN</td>\n",
       "      <td>NaN</td>\n",
       "      <td>NaN</td>\n",
       "      <td>1.0</td>\n",
       "      <td>1.0</td>\n",
       "      <td>NaN</td>\n",
       "      <td>37.76931</td>\n",
       "      <td>-122.43386</td>\n",
       "      <td>...</td>\n",
       "      <td>1.0</td>\n",
       "      <td>30.0</td>\n",
       "      <td>97.0</td>\n",
       "      <td>10.0</td>\n",
       "      <td>10.0</td>\n",
       "      <td>10.0</td>\n",
       "      <td>10.0</td>\n",
       "      <td>10.0</td>\n",
       "      <td>9.0</td>\n",
       "      <td>1.74</td>\n",
       "    </tr>\n",
       "    <tr>\n",
       "      <th>1</th>\n",
       "      <td>2.019100e+13</td>\n",
       "      <td>NaN</td>\n",
       "      <td>NaN</td>\n",
       "      <td>NaN</td>\n",
       "      <td>NaN</td>\n",
       "      <td>2.0</td>\n",
       "      <td>2.0</td>\n",
       "      <td>NaN</td>\n",
       "      <td>37.75402</td>\n",
       "      <td>-122.45805</td>\n",
       "      <td>...</td>\n",
       "      <td>1.0</td>\n",
       "      <td>5.0</td>\n",
       "      <td>94.0</td>\n",
       "      <td>10.0</td>\n",
       "      <td>10.0</td>\n",
       "      <td>10.0</td>\n",
       "      <td>10.0</td>\n",
       "      <td>10.0</td>\n",
       "      <td>10.0</td>\n",
       "      <td>1.28</td>\n",
       "    </tr>\n",
       "    <tr>\n",
       "      <th>2</th>\n",
       "      <td>2.019100e+13</td>\n",
       "      <td>NaN</td>\n",
       "      <td>NaN</td>\n",
       "      <td>NaN</td>\n",
       "      <td>NaN</td>\n",
       "      <td>2.0</td>\n",
       "      <td>2.0</td>\n",
       "      <td>NaN</td>\n",
       "      <td>37.74511</td>\n",
       "      <td>-122.42102</td>\n",
       "      <td>...</td>\n",
       "      <td>30.0</td>\n",
       "      <td>60.0</td>\n",
       "      <td>98.0</td>\n",
       "      <td>10.0</td>\n",
       "      <td>10.0</td>\n",
       "      <td>10.0</td>\n",
       "      <td>10.0</td>\n",
       "      <td>10.0</td>\n",
       "      <td>9.0</td>\n",
       "      <td>0.87</td>\n",
       "    </tr>\n",
       "    <tr>\n",
       "      <th>3</th>\n",
       "      <td>2.019100e+13</td>\n",
       "      <td>NaN</td>\n",
       "      <td>NaN</td>\n",
       "      <td>NaN</td>\n",
       "      <td>NaN</td>\n",
       "      <td>10.0</td>\n",
       "      <td>10.0</td>\n",
       "      <td>NaN</td>\n",
       "      <td>37.76669</td>\n",
       "      <td>-122.45250</td>\n",
       "      <td>...</td>\n",
       "      <td>32.0</td>\n",
       "      <td>60.0</td>\n",
       "      <td>86.0</td>\n",
       "      <td>8.0</td>\n",
       "      <td>8.0</td>\n",
       "      <td>9.0</td>\n",
       "      <td>9.0</td>\n",
       "      <td>9.0</td>\n",
       "      <td>8.0</td>\n",
       "      <td>0.15</td>\n",
       "    </tr>\n",
       "    <tr>\n",
       "      <th>4</th>\n",
       "      <td>2.019100e+13</td>\n",
       "      <td>NaN</td>\n",
       "      <td>NaN</td>\n",
       "      <td>NaN</td>\n",
       "      <td>NaN</td>\n",
       "      <td>10.0</td>\n",
       "      <td>10.0</td>\n",
       "      <td>NaN</td>\n",
       "      <td>37.76487</td>\n",
       "      <td>-122.45183</td>\n",
       "      <td>...</td>\n",
       "      <td>32.0</td>\n",
       "      <td>90.0</td>\n",
       "      <td>93.0</td>\n",
       "      <td>9.0</td>\n",
       "      <td>9.0</td>\n",
       "      <td>10.0</td>\n",
       "      <td>10.0</td>\n",
       "      <td>9.0</td>\n",
       "      <td>9.0</td>\n",
       "      <td>0.13</td>\n",
       "    </tr>\n",
       "  </tbody>\n",
       "</table>\n",
       "<p>5 rows × 24 columns</p>\n",
       "</div>"
      ],
      "text/plain": [
       "      scrape_id  thumbnail_url  medium_url  xl_picture_url  \\\n",
       "0  2.019100e+13            NaN         NaN             NaN   \n",
       "1  2.019100e+13            NaN         NaN             NaN   \n",
       "2  2.019100e+13            NaN         NaN             NaN   \n",
       "3  2.019100e+13            NaN         NaN             NaN   \n",
       "4  2.019100e+13            NaN         NaN             NaN   \n",
       "\n",
       "   host_acceptance_rate  host_listings_count  host_total_listings_count  \\\n",
       "0                   NaN                  1.0                        1.0   \n",
       "1                   NaN                  2.0                        2.0   \n",
       "2                   NaN                  2.0                        2.0   \n",
       "3                   NaN                 10.0                       10.0   \n",
       "4                   NaN                 10.0                       10.0   \n",
       "\n",
       "   neighbourhood_group_cleansed  latitude  longitude  ...  \\\n",
       "0                           NaN  37.76931 -122.43386  ...   \n",
       "1                           NaN  37.75402 -122.45805  ...   \n",
       "2                           NaN  37.74511 -122.42102  ...   \n",
       "3                           NaN  37.76669 -122.45250  ...   \n",
       "4                           NaN  37.76487 -122.45183  ...   \n",
       "\n",
       "   minimum_nights_avg_ntm  maximum_nights_avg_ntm  review_scores_rating  \\\n",
       "0                     1.0                    30.0                  97.0   \n",
       "1                     1.0                     5.0                  94.0   \n",
       "2                    30.0                    60.0                  98.0   \n",
       "3                    32.0                    60.0                  86.0   \n",
       "4                    32.0                    90.0                  93.0   \n",
       "\n",
       "   review_scores_accuracy  review_scores_cleanliness  review_scores_checkin  \\\n",
       "0                    10.0                       10.0                   10.0   \n",
       "1                    10.0                       10.0                   10.0   \n",
       "2                    10.0                       10.0                   10.0   \n",
       "3                     8.0                        8.0                    9.0   \n",
       "4                     9.0                        9.0                   10.0   \n",
       "\n",
       "   review_scores_communication  review_scores_location  review_scores_value  \\\n",
       "0                         10.0                    10.0                  9.0   \n",
       "1                         10.0                    10.0                 10.0   \n",
       "2                         10.0                    10.0                  9.0   \n",
       "3                          9.0                     9.0                  8.0   \n",
       "4                         10.0                     9.0                  9.0   \n",
       "\n",
       "   reviews_per_month  \n",
       "0               1.74  \n",
       "1               1.28  \n",
       "2               0.87  \n",
       "3               0.15  \n",
       "4               0.13  \n",
       "\n",
       "[5 rows x 24 columns]"
      ]
     },
     "execution_count": 35,
     "metadata": {},
     "output_type": "execute_result"
    }
   ],
   "source": [
    "data_float.head()"
   ]
  },
  {
   "cell_type": "markdown",
   "metadata": {},
   "source": [
    "Beaucoup de colonnes ont l'air d'être des entiers castés en float. Il faudrait les retransformer en entier."
   ]
  },
  {
   "cell_type": "code",
   "execution_count": 36,
   "metadata": {},
   "outputs": [],
   "source": [
    "to_int = []"
   ]
  },
  {
   "cell_type": "code",
   "execution_count": 37,
   "metadata": {},
   "outputs": [],
   "source": [
    "# Histogram of all columns\n",
    "# data_float.iplot(kind='box', filename='cufflinks/box-plots', world_readable=True)"
   ]
  },
  {
   "cell_type": "code",
   "execution_count": 38,
   "metadata": {
    "scrolled": true
   },
   "outputs": [
    {
     "data": {
      "text/plain": [
       "Index(['scrape_id', 'thumbnail_url', 'medium_url', 'xl_picture_url',\n",
       "       'host_acceptance_rate', 'host_listings_count',\n",
       "       'host_total_listings_count', 'neighbourhood_group_cleansed', 'latitude',\n",
       "       'longitude', 'bathrooms', 'bedrooms', 'beds', 'square_feet',\n",
       "       'minimum_nights_avg_ntm', 'maximum_nights_avg_ntm',\n",
       "       'review_scores_rating', 'review_scores_accuracy',\n",
       "       'review_scores_cleanliness', 'review_scores_checkin',\n",
       "       'review_scores_communication', 'review_scores_location',\n",
       "       'review_scores_value', 'reviews_per_month'],\n",
       "      dtype='object')"
      ]
     },
     "execution_count": 38,
     "metadata": {},
     "output_type": "execute_result"
    }
   ],
   "source": [
    "data_float.columns"
   ]
  },
  {
   "cell_type": "markdown",
   "metadata": {},
   "source": [
    "## Colonnes à supprimer"
   ]
  },
  {
   "cell_type": "markdown",
   "metadata": {},
   "source": [
    "*scrape_id* fait référence à la récolte des données, ce n'a donc pas de rapport avec notre problème. Nous pouvons donc supprimer cette colonne."
   ]
  },
  {
   "cell_type": "code",
   "execution_count": 39,
   "metadata": {},
   "outputs": [
    {
     "data": {
      "text/plain": [
       "(8111, 24)"
      ]
     },
     "execution_count": 39,
     "metadata": {},
     "output_type": "execute_result"
    }
   ],
   "source": [
    "data_float.shape"
   ]
  },
  {
   "cell_type": "code",
   "execution_count": 40,
   "metadata": {},
   "outputs": [
    {
     "name": "stdout",
     "output_type": "stream",
     "text": [
      "8111\n",
      "8111\n",
      "8111\n",
      "8111\n",
      "8111\n"
     ]
    }
   ],
   "source": [
    "print(data_float[\"thumbnail_url\"].isna().sum())\n",
    "print(data_float[\"medium_url\"].isna().sum())\n",
    "print(data_float[\"xl_picture_url\"].isna().sum())\n",
    "print(data_float[\"host_acceptance_rate\"].isna().sum())\n",
    "print(data_float[\"neighbourhood_group_cleansed\"].isna().sum())"
   ]
  },
  {
   "cell_type": "markdown",
   "metadata": {},
   "source": [
    "Les colonnes *thumbnail_url*, *medium_url*, *xl_picture_url*, *host_acceptance_rate* et *neighbourhood_group_cleansed* ne contiennent que des NAN. On peut donc les retirer."
   ]
  },
  {
   "cell_type": "code",
   "execution_count": 41,
   "metadata": {},
   "outputs": [],
   "source": [
    "col_to_drop.extend([\"scrape_id\", \"thumbnail_url\", \"medium_url\", \"xl_picture_url\",\n",
    "                 \"host_acceptance_rate\", \"neighbourhood_group_cleansed\"])"
   ]
  },
  {
   "cell_type": "code",
   "execution_count": 42,
   "metadata": {},
   "outputs": [
    {
     "data": {
      "text/html": [
       "<div>\n",
       "<style scoped>\n",
       "    .dataframe tbody tr th:only-of-type {\n",
       "        vertical-align: middle;\n",
       "    }\n",
       "\n",
       "    .dataframe tbody tr th {\n",
       "        vertical-align: top;\n",
       "    }\n",
       "\n",
       "    .dataframe thead th {\n",
       "        text-align: right;\n",
       "    }\n",
       "</style>\n",
       "<table border=\"1\" class=\"dataframe\">\n",
       "  <thead>\n",
       "    <tr style=\"text-align: right;\">\n",
       "      <th></th>\n",
       "      <th>host_listings_count</th>\n",
       "      <th>host_total_listings_count</th>\n",
       "      <th>latitude</th>\n",
       "      <th>longitude</th>\n",
       "      <th>bathrooms</th>\n",
       "      <th>bedrooms</th>\n",
       "      <th>beds</th>\n",
       "      <th>square_feet</th>\n",
       "      <th>minimum_nights_avg_ntm</th>\n",
       "      <th>maximum_nights_avg_ntm</th>\n",
       "      <th>review_scores_rating</th>\n",
       "      <th>review_scores_accuracy</th>\n",
       "      <th>review_scores_cleanliness</th>\n",
       "      <th>review_scores_checkin</th>\n",
       "      <th>review_scores_communication</th>\n",
       "      <th>review_scores_location</th>\n",
       "      <th>review_scores_value</th>\n",
       "      <th>reviews_per_month</th>\n",
       "    </tr>\n",
       "  </thead>\n",
       "  <tbody>\n",
       "    <tr>\n",
       "      <th>0</th>\n",
       "      <td>1.0</td>\n",
       "      <td>1.0</td>\n",
       "      <td>37.76931</td>\n",
       "      <td>-122.43386</td>\n",
       "      <td>1.0</td>\n",
       "      <td>1.0</td>\n",
       "      <td>2.0</td>\n",
       "      <td>NaN</td>\n",
       "      <td>1.0</td>\n",
       "      <td>30.0</td>\n",
       "      <td>97.0</td>\n",
       "      <td>10.0</td>\n",
       "      <td>10.0</td>\n",
       "      <td>10.0</td>\n",
       "      <td>10.0</td>\n",
       "      <td>10.0</td>\n",
       "      <td>9.0</td>\n",
       "      <td>1.74</td>\n",
       "    </tr>\n",
       "    <tr>\n",
       "      <th>1</th>\n",
       "      <td>2.0</td>\n",
       "      <td>2.0</td>\n",
       "      <td>37.75402</td>\n",
       "      <td>-122.45805</td>\n",
       "      <td>1.0</td>\n",
       "      <td>1.0</td>\n",
       "      <td>1.0</td>\n",
       "      <td>NaN</td>\n",
       "      <td>1.0</td>\n",
       "      <td>5.0</td>\n",
       "      <td>94.0</td>\n",
       "      <td>10.0</td>\n",
       "      <td>10.0</td>\n",
       "      <td>10.0</td>\n",
       "      <td>10.0</td>\n",
       "      <td>10.0</td>\n",
       "      <td>10.0</td>\n",
       "      <td>1.28</td>\n",
       "    </tr>\n",
       "    <tr>\n",
       "      <th>2</th>\n",
       "      <td>2.0</td>\n",
       "      <td>2.0</td>\n",
       "      <td>37.74511</td>\n",
       "      <td>-122.42102</td>\n",
       "      <td>1.0</td>\n",
       "      <td>2.0</td>\n",
       "      <td>3.0</td>\n",
       "      <td>NaN</td>\n",
       "      <td>30.0</td>\n",
       "      <td>60.0</td>\n",
       "      <td>98.0</td>\n",
       "      <td>10.0</td>\n",
       "      <td>10.0</td>\n",
       "      <td>10.0</td>\n",
       "      <td>10.0</td>\n",
       "      <td>10.0</td>\n",
       "      <td>9.0</td>\n",
       "      <td>0.87</td>\n",
       "    </tr>\n",
       "    <tr>\n",
       "      <th>3</th>\n",
       "      <td>10.0</td>\n",
       "      <td>10.0</td>\n",
       "      <td>37.76669</td>\n",
       "      <td>-122.45250</td>\n",
       "      <td>4.0</td>\n",
       "      <td>1.0</td>\n",
       "      <td>1.0</td>\n",
       "      <td>NaN</td>\n",
       "      <td>32.0</td>\n",
       "      <td>60.0</td>\n",
       "      <td>86.0</td>\n",
       "      <td>8.0</td>\n",
       "      <td>8.0</td>\n",
       "      <td>9.0</td>\n",
       "      <td>9.0</td>\n",
       "      <td>9.0</td>\n",
       "      <td>8.0</td>\n",
       "      <td>0.15</td>\n",
       "    </tr>\n",
       "    <tr>\n",
       "      <th>4</th>\n",
       "      <td>10.0</td>\n",
       "      <td>10.0</td>\n",
       "      <td>37.76487</td>\n",
       "      <td>-122.45183</td>\n",
       "      <td>4.0</td>\n",
       "      <td>1.0</td>\n",
       "      <td>1.0</td>\n",
       "      <td>NaN</td>\n",
       "      <td>32.0</td>\n",
       "      <td>90.0</td>\n",
       "      <td>93.0</td>\n",
       "      <td>9.0</td>\n",
       "      <td>9.0</td>\n",
       "      <td>10.0</td>\n",
       "      <td>10.0</td>\n",
       "      <td>9.0</td>\n",
       "      <td>9.0</td>\n",
       "      <td>0.13</td>\n",
       "    </tr>\n",
       "  </tbody>\n",
       "</table>\n",
       "</div>"
      ],
      "text/plain": [
       "   host_listings_count  host_total_listings_count  latitude  longitude  \\\n",
       "0                  1.0                        1.0  37.76931 -122.43386   \n",
       "1                  2.0                        2.0  37.75402 -122.45805   \n",
       "2                  2.0                        2.0  37.74511 -122.42102   \n",
       "3                 10.0                       10.0  37.76669 -122.45250   \n",
       "4                 10.0                       10.0  37.76487 -122.45183   \n",
       "\n",
       "   bathrooms  bedrooms  beds  square_feet  minimum_nights_avg_ntm  \\\n",
       "0        1.0       1.0   2.0          NaN                     1.0   \n",
       "1        1.0       1.0   1.0          NaN                     1.0   \n",
       "2        1.0       2.0   3.0          NaN                    30.0   \n",
       "3        4.0       1.0   1.0          NaN                    32.0   \n",
       "4        4.0       1.0   1.0          NaN                    32.0   \n",
       "\n",
       "   maximum_nights_avg_ntm  review_scores_rating  review_scores_accuracy  \\\n",
       "0                    30.0                  97.0                    10.0   \n",
       "1                     5.0                  94.0                    10.0   \n",
       "2                    60.0                  98.0                    10.0   \n",
       "3                    60.0                  86.0                     8.0   \n",
       "4                    90.0                  93.0                     9.0   \n",
       "\n",
       "   review_scores_cleanliness  review_scores_checkin  \\\n",
       "0                       10.0                   10.0   \n",
       "1                       10.0                   10.0   \n",
       "2                       10.0                   10.0   \n",
       "3                        8.0                    9.0   \n",
       "4                        9.0                   10.0   \n",
       "\n",
       "   review_scores_communication  review_scores_location  review_scores_value  \\\n",
       "0                         10.0                    10.0                  9.0   \n",
       "1                         10.0                    10.0                 10.0   \n",
       "2                         10.0                    10.0                  9.0   \n",
       "3                          9.0                     9.0                  8.0   \n",
       "4                         10.0                     9.0                  9.0   \n",
       "\n",
       "   reviews_per_month  \n",
       "0               1.74  \n",
       "1               1.28  \n",
       "2               0.87  \n",
       "3               0.15  \n",
       "4               0.13  "
      ]
     },
     "execution_count": 42,
     "metadata": {},
     "output_type": "execute_result"
    }
   ],
   "source": [
    "data_float = data_float.drop([\"scrape_id\", \"thumbnail_url\", \"medium_url\", \"xl_picture_url\",\n",
    "                 \"host_acceptance_rate\", \"neighbourhood_group_cleansed\"], axis=1)\n",
    "data_float.head()"
   ]
  },
  {
   "cell_type": "code",
   "execution_count": 43,
   "metadata": {},
   "outputs": [
    {
     "data": {
      "text/plain": [
       "Index(['host_listings_count', 'host_total_listings_count', 'latitude',\n",
       "       'longitude', 'bathrooms', 'bedrooms', 'beds', 'square_feet',\n",
       "       'minimum_nights_avg_ntm', 'maximum_nights_avg_ntm',\n",
       "       'review_scores_rating', 'review_scores_accuracy',\n",
       "       'review_scores_cleanliness', 'review_scores_checkin',\n",
       "       'review_scores_communication', 'review_scores_location',\n",
       "       'review_scores_value', 'reviews_per_month'],\n",
       "      dtype='object')"
      ]
     },
     "execution_count": 43,
     "metadata": {},
     "output_type": "execute_result"
    }
   ],
   "source": [
    "data_float.columns"
   ]
  },
  {
   "cell_type": "code",
   "execution_count": 44,
   "metadata": {},
   "outputs": [],
   "source": [
    "# px.histogram(data_int, x=\"calculated_host_listings_count\", marginal=\"rug\", template = template).show()"
   ]
  },
  {
   "cell_type": "code",
   "execution_count": 45,
   "metadata": {
    "scrolled": false
   },
   "outputs": [],
   "source": [
    "# px.histogram(data_float, x=\"host_listings_count\", marginal=\"rug\", template = template).show()"
   ]
  },
  {
   "cell_type": "code",
   "execution_count": 46,
   "metadata": {},
   "outputs": [],
   "source": [
    "# px.histogram(data_float, x=\"host_total_listings_count\", marginal=\"rug\", template = template).show()"
   ]
  },
  {
   "cell_type": "code",
   "execution_count": 47,
   "metadata": {},
   "outputs": [],
   "source": [
    "tmp = data_float[\"host_listings_count\"] - data_float[\"host_total_listings_count\"]"
   ]
  },
  {
   "cell_type": "code",
   "execution_count": 48,
   "metadata": {},
   "outputs": [
    {
     "name": "stdout",
     "output_type": "stream",
     "text": [
      "(8111,)\n",
      "(8111,)\n",
      "(8111,)\n",
      "count    8103.0\n",
      "mean        0.0\n",
      "std         0.0\n",
      "min         0.0\n",
      "25%         0.0\n",
      "50%         0.0\n",
      "75%         0.0\n",
      "max         0.0\n",
      "dtype: float64\n"
     ]
    }
   ],
   "source": [
    "print(data_float[\"host_listings_count\"].shape)\n",
    "print(data_float[\"host_total_listings_count\"].shape)\n",
    "print(tmp.shape)\n",
    "print(tmp.describe())"
   ]
  },
  {
   "cell_type": "markdown",
   "metadata": {},
   "source": [
    "On constate que les colonnes *host_listings_count* et *host_total_listings_count*  sont identiques. On peut donc supprimer l'une des 2.  \n",
    "On peut aussi ce demander si on garde *host_listings_count* et *calculated_host_listings_count*. Est ce redondant de garder les 2?"
   ]
  },
  {
   "cell_type": "code",
   "execution_count": 49,
   "metadata": {},
   "outputs": [],
   "source": [
    "col_to_drop.append(\"host_total_listings_count\")\n",
    "to_int.append(\"host_listings_count\")"
   ]
  },
  {
   "cell_type": "markdown",
   "metadata": {},
   "source": [
    "## Colonne *square_feet*"
   ]
  },
  {
   "cell_type": "code",
   "execution_count": 50,
   "metadata": {},
   "outputs": [
    {
     "name": "stdout",
     "output_type": "stream",
     "text": [
      "Nombre de valeurs ayant une superficie : 124\n",
      "Cela représente 1.5525228496306498% de nos données\n"
     ]
    }
   ],
   "source": [
    "tot = data_float[\"square_feet\"].shape\n",
    "nb = data_float[\"square_feet\"].isna().sum()\n",
    "\n",
    "print(\"Nombre de valeurs ayant une superficie : \"\n",
    "      + str((tot - nb)[0]) )\n",
    "\n",
    "print(\"Cela représente \" + str(( (100*(tot - nb))/nb )[0]) + \"% de nos données\")"
   ]
  },
  {
   "cell_type": "markdown",
   "metadata": {},
   "source": [
    "Il va falloir réflechir à comment traiter ces valeurs manquantes (dans le notebook suivant)"
   ]
  },
  {
   "cell_type": "code",
   "execution_count": 51,
   "metadata": {},
   "outputs": [],
   "source": [
    "to_int.append(\"square_feet\")"
   ]
  },
  {
   "cell_type": "markdown",
   "metadata": {},
   "source": [
    "## Colonnes *reviews_score_xxx*"
   ]
  },
  {
   "cell_type": "markdown",
   "metadata": {},
   "source": [
    "Le but de notre projet est de prédire la note obtenue pour un logement. Pour cela, il faut choisir quelle note nous allons essayer de prédire.  \n",
    "Nous pouvons fixer **review_score_rating** comme etant la variable à predire.  \n",
    "Pour eviter les problèmes de *data leakage*, nous pouvons supposer que nous allons prédire **review_score_rating** sans regarder les autres variables *review_score_xxx*."
   ]
  },
  {
   "cell_type": "code",
   "execution_count": 52,
   "metadata": {},
   "outputs": [],
   "source": [
    "col_to_drop.extend(['review_scores_accuracy', 'review_scores_cleanliness',\n",
    "                    'review_scores_checkin', 'review_scores_communication',\n",
    "                    'review_scores_location', 'review_scores_value', 'reviews_per_month'])"
   ]
  },
  {
   "cell_type": "markdown",
   "metadata": {},
   "source": [
    "## Colonnes *bathrooms*, *bedrooms* et *beds*"
   ]
  },
  {
   "cell_type": "code",
   "execution_count": 53,
   "metadata": {},
   "outputs": [],
   "source": [
    "#data_float.iplot(kind='box', filename='cufflinks/box-plots', world_readable=True,\n",
    "#               columns = ['bathrooms', 'bedrooms', 'beds'])"
   ]
  },
  {
   "cell_type": "markdown",
   "metadata": {},
   "source": [
    "RAS"
   ]
  },
  {
   "cell_type": "code",
   "execution_count": 54,
   "metadata": {},
   "outputs": [],
   "source": [
    "to_int.extend(['bathrooms', 'bedrooms', 'beds'])"
   ]
  },
  {
   "cell_type": "markdown",
   "metadata": {},
   "source": [
    "## Colonnes *minimum_nights_avg_ntm* et *maximum_nights_avg_ntm*"
   ]
  },
  {
   "cell_type": "markdown",
   "metadata": {},
   "source": [
    "D'après cette source (https://eprints.ucm.es/57354/1/TFM_Rentalbility_PriscillaToscano_VF_160919.pdf)  \n",
    "minimum_nights_avg_ntm = Minimum Nights in Avg from last Twelve Month, ce qui me parait etrange"
   ]
  },
  {
   "cell_type": "code",
   "execution_count": 55,
   "metadata": {},
   "outputs": [],
   "source": [
    "to_int.extend(['minimum_nights_avg_ntm', 'maximum_nights_avg_ntm'])"
   ]
  },
  {
   "cell_type": "code",
   "execution_count": 56,
   "metadata": {},
   "outputs": [],
   "source": [
    "#data_float.iplot(kind='box', filename='cufflinks/box-plots', world_readable=True,\n",
    "#               columns = ['minimum_nights_avg_ntm', 'maximum_nights_avg_ntm'])"
   ]
  },
  {
   "cell_type": "code",
   "execution_count": 57,
   "metadata": {},
   "outputs": [],
   "source": [
    "# px.histogram(data_float, x=\"minimum_nights_avg_ntm\", marginal=\"rug\", template = template).show()"
   ]
  },
  {
   "cell_type": "code",
   "execution_count": 58,
   "metadata": {},
   "outputs": [],
   "source": [
    "row_to_drop.extend([data_float[data_float[\"minimum_nights_avg_ntm\"] == 100000000.0].index[0],\n",
    "                    data_float[data_float[\"minimum_nights_avg_ntm\"] == 1125].index[0],\n",
    "                    data_float[data_float[\"minimum_nights_avg_ntm\"] == 1000].index[0]])"
   ]
  },
  {
   "cell_type": "code",
   "execution_count": 59,
   "metadata": {},
   "outputs": [],
   "source": [
    "data_float.drop(data_float[data_float[\"minimum_nights_avg_ntm\"] == 100000000.0].index, inplace=True)\n",
    "data_float.drop(data_float[data_float[\"minimum_nights_avg_ntm\"] == 1000].index, inplace=True)\n",
    "data_float.drop(data_float[data_float[\"minimum_nights_avg_ntm\"] == 1125].index, inplace=True)"
   ]
  },
  {
   "cell_type": "code",
   "execution_count": 60,
   "metadata": {},
   "outputs": [],
   "source": [
    "#px.histogram(data_float, x=\"maximum_nights_avg_ntm\", marginal=\"rug\", template = template).show()"
   ]
  },
  {
   "cell_type": "code",
   "execution_count": 61,
   "metadata": {},
   "outputs": [],
   "source": [
    "row_to_drop.extend([data_float[data_float[\"maximum_nights_avg_ntm\"] == 2147483647.0].index[0],\n",
    "                    data_float[data_float[\"maximum_nights_avg_ntm\"] == 100000.0].index[0],\n",
    "                    data_float[data_float[\"maximum_nights_avg_ntm\"] == 10000.0].index[0],\n",
    "                    data_float[data_float[\"maximum_nights_avg_ntm\"] == 9999.0].index[0],\n",
    "                    data_float[data_float[\"maximum_nights_avg_ntm\"] == 2000.0].index[0],\n",
    "                    data_float[data_float[\"maximum_nights_avg_ntm\"] == 1825.0].index[0]])"
   ]
  },
  {
   "cell_type": "code",
   "execution_count": 62,
   "metadata": {},
   "outputs": [],
   "source": [
    "data_float.drop(data_float[data_float[\"maximum_nights_avg_ntm\"] == 2147483647.0].index, inplace=True)\n",
    "data_float.drop(data_float[data_float[\"maximum_nights_avg_ntm\"] == 100000.0].index, inplace=True)\n",
    "data_float.drop(data_float[data_float[\"maximum_nights_avg_ntm\"] == 10000.0].index, inplace=True)\n",
    "data_float.drop(data_float[data_float[\"maximum_nights_avg_ntm\"] == 9999.0].index, inplace=True)\n",
    "data_float.drop(data_float[data_float[\"maximum_nights_avg_ntm\"] == 2000.0].index, inplace=True)\n",
    "data_float.drop(data_float[data_float[\"maximum_nights_avg_ntm\"] == 1825.0].index, inplace=True)"
   ]
  },
  {
   "cell_type": "markdown",
   "metadata": {},
   "source": [
    "## Colonnes *latitude* et *longitude* "
   ]
  },
  {
   "cell_type": "markdown",
   "metadata": {},
   "source": [
    "Il faudra réflechir à comment représenter voir si on garde ces données. Si oui, il faudra trouver comment les préparer."
   ]
  },
  {
   "cell_type": "markdown",
   "metadata": {},
   "source": [
    "# Colonnes de type *Obj*"
   ]
  },
  {
   "cell_type": "code",
   "execution_count": 63,
   "metadata": {},
   "outputs": [],
   "source": [
    "data_object = data.select_dtypes(include='object')"
   ]
  },
  {
   "cell_type": "code",
   "execution_count": 64,
   "metadata": {},
   "outputs": [
    {
     "data": {
      "text/html": [
       "<div>\n",
       "<style scoped>\n",
       "    .dataframe tbody tr th:only-of-type {\n",
       "        vertical-align: middle;\n",
       "    }\n",
       "\n",
       "    .dataframe tbody tr th {\n",
       "        vertical-align: top;\n",
       "    }\n",
       "\n",
       "    .dataframe thead th {\n",
       "        text-align: right;\n",
       "    }\n",
       "</style>\n",
       "<table border=\"1\" class=\"dataframe\">\n",
       "  <thead>\n",
       "    <tr style=\"text-align: right;\">\n",
       "      <th></th>\n",
       "      <th>listing_url</th>\n",
       "      <th>last_scraped</th>\n",
       "      <th>name</th>\n",
       "      <th>summary</th>\n",
       "      <th>space</th>\n",
       "      <th>description</th>\n",
       "      <th>experiences_offered</th>\n",
       "      <th>neighborhood_overview</th>\n",
       "      <th>notes</th>\n",
       "      <th>transit</th>\n",
       "      <th>...</th>\n",
       "      <th>first_review</th>\n",
       "      <th>last_review</th>\n",
       "      <th>requires_license</th>\n",
       "      <th>license</th>\n",
       "      <th>jurisdiction_names</th>\n",
       "      <th>instant_bookable</th>\n",
       "      <th>is_business_travel_ready</th>\n",
       "      <th>cancellation_policy</th>\n",
       "      <th>require_guest_profile_picture</th>\n",
       "      <th>require_guest_phone_verification</th>\n",
       "    </tr>\n",
       "  </thead>\n",
       "  <tbody>\n",
       "    <tr>\n",
       "      <th>0</th>\n",
       "      <td>https://www.airbnb.com/rooms/958</td>\n",
       "      <td>10/14/19</td>\n",
       "      <td>Bright, Modern Garden Unit - 1BR/1B</td>\n",
       "      <td>New update: the house next door is under const...</td>\n",
       "      <td>Newly remodeled, modern, and bright garden uni...</td>\n",
       "      <td>New update: the house next door is under const...</td>\n",
       "      <td>none</td>\n",
       "      <td>*Quiet cul de sac in friendly neighborhood *St...</td>\n",
       "      <td>Due to the fact that we have children and a do...</td>\n",
       "      <td>*Public Transportation is 1/2 block away.  *Ce...</td>\n",
       "      <td>...</td>\n",
       "      <td>7/23/09</td>\n",
       "      <td>9/21/19</td>\n",
       "      <td>t</td>\n",
       "      <td>STR-0001256</td>\n",
       "      <td>{\"SAN FRANCISCO\"}</td>\n",
       "      <td>f</td>\n",
       "      <td>f</td>\n",
       "      <td>moderate</td>\n",
       "      <td>f</td>\n",
       "      <td>f</td>\n",
       "    </tr>\n",
       "    <tr>\n",
       "      <th>1</th>\n",
       "      <td>https://www.airbnb.com/rooms/3850</td>\n",
       "      <td>10/14/19</td>\n",
       "      <td>Charming room for two</td>\n",
       "      <td>Your own private room plus access to a shared ...</td>\n",
       "      <td>This room can fit two people. Nobody else will...</td>\n",
       "      <td>Your own private room plus access to a shared ...</td>\n",
       "      <td>none</td>\n",
       "      <td>This is a quiet, safe neighborhood on a substa...</td>\n",
       "      <td>House Rule footnotes: 1.\\tI don’t allow check ...</td>\n",
       "      <td>Public transit service to my house is outstand...</td>\n",
       "      <td>...</td>\n",
       "      <td>7/16/09</td>\n",
       "      <td>9/30/19</td>\n",
       "      <td>t</td>\n",
       "      <td>STR-0000346</td>\n",
       "      <td>{\"SAN FRANCISCO\"}</td>\n",
       "      <td>f</td>\n",
       "      <td>f</td>\n",
       "      <td>strict_14_with_grace_period</td>\n",
       "      <td>f</td>\n",
       "      <td>f</td>\n",
       "    </tr>\n",
       "    <tr>\n",
       "      <th>2</th>\n",
       "      <td>https://www.airbnb.com/rooms/5858</td>\n",
       "      <td>10/14/19</td>\n",
       "      <td>Creative Sanctuary</td>\n",
       "      <td>NaN</td>\n",
       "      <td>We live in a large Victorian house on a quiet ...</td>\n",
       "      <td>We live in a large Victorian house on a quiet ...</td>\n",
       "      <td>none</td>\n",
       "      <td>I love how our neighborhood feels quiet but is...</td>\n",
       "      <td>All the furniture in the house was handmade so...</td>\n",
       "      <td>The train is two blocks away and you can stop ...</td>\n",
       "      <td>...</td>\n",
       "      <td>5/3/09</td>\n",
       "      <td>8/6/17</td>\n",
       "      <td>t</td>\n",
       "      <td>NaN</td>\n",
       "      <td>{\"SAN FRANCISCO\"}</td>\n",
       "      <td>f</td>\n",
       "      <td>f</td>\n",
       "      <td>strict_14_with_grace_period</td>\n",
       "      <td>f</td>\n",
       "      <td>f</td>\n",
       "    </tr>\n",
       "    <tr>\n",
       "      <th>3</th>\n",
       "      <td>https://www.airbnb.com/rooms/7918</td>\n",
       "      <td>10/14/19</td>\n",
       "      <td>A Friendly Room - UCSF/USF - San Francisco</td>\n",
       "      <td>Nice and good public transportation.  7 minute...</td>\n",
       "      <td>Settle down, S.F. resident, student, hospital,...</td>\n",
       "      <td>Nice and good public transportation.  7 minute...</td>\n",
       "      <td>none</td>\n",
       "      <td>Shopping old town, restaurants, McDonald, Whol...</td>\n",
       "      <td>Wi-Fi signal in common areas.   Large eat in k...</td>\n",
       "      <td>N Juda Muni and bus stop.  Street parking.</td>\n",
       "      <td>...</td>\n",
       "      <td>8/31/09</td>\n",
       "      <td>9/10/19</td>\n",
       "      <td>t</td>\n",
       "      <td>NaN</td>\n",
       "      <td>{\"SAN FRANCISCO\"}</td>\n",
       "      <td>f</td>\n",
       "      <td>f</td>\n",
       "      <td>strict_14_with_grace_period</td>\n",
       "      <td>f</td>\n",
       "      <td>f</td>\n",
       "    </tr>\n",
       "    <tr>\n",
       "      <th>4</th>\n",
       "      <td>https://www.airbnb.com/rooms/8142</td>\n",
       "      <td>10/14/19</td>\n",
       "      <td>Friendly Room Apt. Style -UCSF/USF - San Franc...</td>\n",
       "      <td>Nice and good public transportation.  7 minute...</td>\n",
       "      <td>Settle down, S.F. resident, student, hospital,...</td>\n",
       "      <td>Nice and good public transportation.  7 minute...</td>\n",
       "      <td>none</td>\n",
       "      <td>NaN</td>\n",
       "      <td>Wi-Fi signal in common areas.   Large eat in k...</td>\n",
       "      <td>N Juda Muni, Bus and UCSF Shuttle. small shopp...</td>\n",
       "      <td>...</td>\n",
       "      <td>9/8/14</td>\n",
       "      <td>9/12/18</td>\n",
       "      <td>t</td>\n",
       "      <td>NaN</td>\n",
       "      <td>{\"SAN FRANCISCO\"}</td>\n",
       "      <td>f</td>\n",
       "      <td>f</td>\n",
       "      <td>strict_14_with_grace_period</td>\n",
       "      <td>f</td>\n",
       "      <td>f</td>\n",
       "    </tr>\n",
       "  </tbody>\n",
       "</table>\n",
       "<p>5 rows × 62 columns</p>\n",
       "</div>"
      ],
      "text/plain": [
       "                         listing_url last_scraped  \\\n",
       "0   https://www.airbnb.com/rooms/958     10/14/19   \n",
       "1  https://www.airbnb.com/rooms/3850     10/14/19   \n",
       "2  https://www.airbnb.com/rooms/5858     10/14/19   \n",
       "3  https://www.airbnb.com/rooms/7918     10/14/19   \n",
       "4  https://www.airbnb.com/rooms/8142     10/14/19   \n",
       "\n",
       "                                                name  \\\n",
       "0                Bright, Modern Garden Unit - 1BR/1B   \n",
       "1                              Charming room for two   \n",
       "2                                 Creative Sanctuary   \n",
       "3         A Friendly Room - UCSF/USF - San Francisco   \n",
       "4  Friendly Room Apt. Style -UCSF/USF - San Franc...   \n",
       "\n",
       "                                             summary  \\\n",
       "0  New update: the house next door is under const...   \n",
       "1  Your own private room plus access to a shared ...   \n",
       "2                                                NaN   \n",
       "3  Nice and good public transportation.  7 minute...   \n",
       "4  Nice and good public transportation.  7 minute...   \n",
       "\n",
       "                                               space  \\\n",
       "0  Newly remodeled, modern, and bright garden uni...   \n",
       "1  This room can fit two people. Nobody else will...   \n",
       "2  We live in a large Victorian house on a quiet ...   \n",
       "3  Settle down, S.F. resident, student, hospital,...   \n",
       "4  Settle down, S.F. resident, student, hospital,...   \n",
       "\n",
       "                                         description experiences_offered  \\\n",
       "0  New update: the house next door is under const...                none   \n",
       "1  Your own private room plus access to a shared ...                none   \n",
       "2  We live in a large Victorian house on a quiet ...                none   \n",
       "3  Nice and good public transportation.  7 minute...                none   \n",
       "4  Nice and good public transportation.  7 minute...                none   \n",
       "\n",
       "                               neighborhood_overview  \\\n",
       "0  *Quiet cul de sac in friendly neighborhood *St...   \n",
       "1  This is a quiet, safe neighborhood on a substa...   \n",
       "2  I love how our neighborhood feels quiet but is...   \n",
       "3  Shopping old town, restaurants, McDonald, Whol...   \n",
       "4                                                NaN   \n",
       "\n",
       "                                               notes  \\\n",
       "0  Due to the fact that we have children and a do...   \n",
       "1  House Rule footnotes: 1.\\tI don’t allow check ...   \n",
       "2  All the furniture in the house was handmade so...   \n",
       "3  Wi-Fi signal in common areas.   Large eat in k...   \n",
       "4  Wi-Fi signal in common areas.   Large eat in k...   \n",
       "\n",
       "                                             transit  ... first_review  \\\n",
       "0  *Public Transportation is 1/2 block away.  *Ce...  ...      7/23/09   \n",
       "1  Public transit service to my house is outstand...  ...      7/16/09   \n",
       "2  The train is two blocks away and you can stop ...  ...       5/3/09   \n",
       "3         N Juda Muni and bus stop.  Street parking.  ...      8/31/09   \n",
       "4  N Juda Muni, Bus and UCSF Shuttle. small shopp...  ...       9/8/14   \n",
       "\n",
       "  last_review requires_license      license jurisdiction_names  \\\n",
       "0     9/21/19                t  STR-0001256  {\"SAN FRANCISCO\"}   \n",
       "1     9/30/19                t  STR-0000346  {\"SAN FRANCISCO\"}   \n",
       "2      8/6/17                t          NaN  {\"SAN FRANCISCO\"}   \n",
       "3     9/10/19                t          NaN  {\"SAN FRANCISCO\"}   \n",
       "4     9/12/18                t          NaN  {\"SAN FRANCISCO\"}   \n",
       "\n",
       "  instant_bookable is_business_travel_ready          cancellation_policy  \\\n",
       "0                f                        f                     moderate   \n",
       "1                f                        f  strict_14_with_grace_period   \n",
       "2                f                        f  strict_14_with_grace_period   \n",
       "3                f                        f  strict_14_with_grace_period   \n",
       "4                f                        f  strict_14_with_grace_period   \n",
       "\n",
       "  require_guest_profile_picture require_guest_phone_verification  \n",
       "0                             f                                f  \n",
       "1                             f                                f  \n",
       "2                             f                                f  \n",
       "3                             f                                f  \n",
       "4                             f                                f  \n",
       "\n",
       "[5 rows x 62 columns]"
      ]
     },
     "execution_count": 64,
     "metadata": {},
     "output_type": "execute_result"
    }
   ],
   "source": [
    "data_object.head()"
   ]
  },
  {
   "cell_type": "code",
   "execution_count": 65,
   "metadata": {},
   "outputs": [
    {
     "data": {
      "text/plain": [
       "Index(['listing_url', 'last_scraped', 'name', 'summary', 'space',\n",
       "       'description', 'experiences_offered', 'neighborhood_overview', 'notes',\n",
       "       'transit', 'access', 'interaction', 'house_rules', 'picture_url',\n",
       "       'host_url', 'host_name', 'host_since', 'host_location', 'host_about',\n",
       "       'host_response_time', 'host_response_rate', 'host_is_superhost',\n",
       "       'host_thumbnail_url', 'host_picture_url', 'host_neighbourhood',\n",
       "       'host_verifications', 'host_has_profile_pic', 'host_identity_verified',\n",
       "       'street', 'neighbourhood', 'neighbourhood_cleansed', 'city', 'state',\n",
       "       'zipcode', 'market', 'smart_location', 'country_code', 'country',\n",
       "       'is_location_exact', 'property_type', 'room_type', 'bed_type',\n",
       "       'amenities', 'price', 'weekly_price', 'monthly_price',\n",
       "       'security_deposit', 'cleaning_fee', 'extra_people', 'calendar_updated',\n",
       "       'has_availability', 'calendar_last_scraped', 'first_review',\n",
       "       'last_review', 'requires_license', 'license', 'jurisdiction_names',\n",
       "       'instant_bookable', 'is_business_travel_ready', 'cancellation_policy',\n",
       "       'require_guest_profile_picture', 'require_guest_phone_verification'],\n",
       "      dtype='object')"
      ]
     },
     "execution_count": 65,
     "metadata": {},
     "output_type": "execute_result"
    }
   ],
   "source": [
    "data_object.columns"
   ]
  },
  {
   "cell_type": "markdown",
   "metadata": {},
   "source": [
    "La variable *last_scraped* n'est pas pertinente dans notre étude. Dans cette étude, nous allons aussi supprimer les variables contenant seulement des *url*."
   ]
  },
  {
   "cell_type": "code",
   "execution_count": 66,
   "metadata": {},
   "outputs": [],
   "source": [
    "col_to_drop.extend(['listing_url', 'last_scraped', 'picture_url', 'host_url', 'calendar_last_scraped'])"
   ]
  },
  {
   "cell_type": "code",
   "execution_count": 67,
   "metadata": {},
   "outputs": [],
   "source": [
    "data_object = data_object.drop(['listing_url', 'last_scraped', 'picture_url',\n",
    "                                'host_url', 'calendar_last_scraped'], axis=1)"
   ]
  },
  {
   "cell_type": "markdown",
   "metadata": {},
   "source": [
    "## TODO\n",
    "* Bien caster les dates et les booléens\n",
    "* Trouver les colonnes \"inutiles\" ou constantes\n",
    "* Discrétiser les variables (en faisant attention au leakage)\n",
    "* Voir comment traiter les données textuelles"
   ]
  },
  {
   "cell_type": "code",
   "execution_count": 68,
   "metadata": {},
   "outputs": [
    {
     "data": {
      "text/plain": [
       "Index(['name', 'summary', 'space', 'description', 'experiences_offered',\n",
       "       'neighborhood_overview', 'notes', 'transit', 'access', 'interaction',\n",
       "       'house_rules', 'host_name', 'host_since', 'host_location', 'host_about',\n",
       "       'host_response_time', 'host_response_rate', 'host_is_superhost',\n",
       "       'host_thumbnail_url', 'host_picture_url', 'host_neighbourhood',\n",
       "       'host_verifications', 'host_has_profile_pic', 'host_identity_verified',\n",
       "       'street', 'neighbourhood', 'neighbourhood_cleansed', 'city', 'state',\n",
       "       'zipcode', 'market', 'smart_location', 'country_code', 'country',\n",
       "       'is_location_exact', 'property_type', 'room_type', 'bed_type',\n",
       "       'amenities', 'price', 'weekly_price', 'monthly_price',\n",
       "       'security_deposit', 'cleaning_fee', 'extra_people', 'calendar_updated',\n",
       "       'has_availability', 'first_review', 'last_review', 'requires_license',\n",
       "       'license', 'jurisdiction_names', 'instant_bookable',\n",
       "       'is_business_travel_ready', 'cancellation_policy',\n",
       "       'require_guest_profile_picture', 'require_guest_phone_verification'],\n",
       "      dtype='object')"
      ]
     },
     "execution_count": 68,
     "metadata": {},
     "output_type": "execute_result"
    }
   ],
   "source": [
    "data_object.columns"
   ]
  },
  {
   "cell_type": "code",
   "execution_count": 69,
   "metadata": {},
   "outputs": [],
   "source": [
    "var_text = []\n",
    "var_text.extend(['name', 'summary', 'space', 'description', 'neighborhood_overview', 'notes',\n",
    "                'transit', 'access', 'interaction', 'house_rules', 'zipcode'])"
   ]
  },
  {
   "cell_type": "markdown",
   "metadata": {},
   "source": [
    "## Colonne *experienced_offered*"
   ]
  },
  {
   "cell_type": "code",
   "execution_count": 70,
   "metadata": {},
   "outputs": [
    {
     "name": "stdout",
     "output_type": "stream",
     "text": [
      "(8111, 57)\n"
     ]
    },
    {
     "data": {
      "text/plain": [
       "8111"
      ]
     },
     "execution_count": 70,
     "metadata": {},
     "output_type": "execute_result"
    }
   ],
   "source": [
    "print(data_object.shape)\n",
    "(data_object['experiences_offered'] == \"none\").sum()"
   ]
  },
  {
   "cell_type": "code",
   "execution_count": 71,
   "metadata": {},
   "outputs": [],
   "source": [
    "col_to_drop.append('experiences_offered')\n",
    "data_object = data_object.drop(['experiences_offered'], axis=1)"
   ]
  },
  {
   "cell_type": "markdown",
   "metadata": {},
   "source": [
    "La colonne *experiences_offered* contient seulement des \"nones\". Nous pouvons donc retirer cette colonne."
   ]
  },
  {
   "cell_type": "markdown",
   "metadata": {},
   "source": [
    "## Les colonnes *host_xxx*"
   ]
  },
  {
   "cell_type": "markdown",
   "metadata": {},
   "source": [
    "# Analyse actuelle"
   ]
  },
  {
   "cell_type": "code",
   "execution_count": 72,
   "metadata": {
    "scrolled": false
   },
   "outputs": [
    {
     "name": "stdout",
     "output_type": "stream",
     "text": [
      "['host_name', 'host_since', 'host_location', 'host_about', 'host_response_time', 'host_response_rate', 'host_is_superhost', 'host_thumbnail_url', 'host_picture_url', 'host_neighbourhood', 'host_verifications', 'host_has_profile_pic', 'host_identity_verified']\n"
     ]
    }
   ],
   "source": [
    "print(['host_name', 'host_since',\n",
    "       'host_location', 'host_about', 'host_response_time',\n",
    "       'host_response_rate', 'host_is_superhost', 'host_thumbnail_url',\n",
    "       'host_picture_url', 'host_neighbourhood', 'host_verifications',\n",
    "       'host_has_profile_pic', 'host_identity_verified'])"
   ]
  },
  {
   "cell_type": "code",
   "execution_count": 73,
   "metadata": {},
   "outputs": [],
   "source": [
    "col_to_drop.append('host_name')"
   ]
  },
  {
   "cell_type": "markdown",
   "metadata": {},
   "source": [
    "Cette variable n'a pas l'air pertinente dans notre étude"
   ]
  },
  {
   "cell_type": "code",
   "execution_count": 74,
   "metadata": {},
   "outputs": [
    {
     "data": {
      "text/plain": [
       "0    7/31/08\n",
       "1    12/8/08\n",
       "2     3/2/09\n",
       "3    6/17/09\n",
       "4    6/17/09\n",
       "Name: host_since, dtype: object"
      ]
     },
     "execution_count": 74,
     "metadata": {},
     "output_type": "execute_result"
    }
   ],
   "source": [
    "data_object['host_since'].head()"
   ]
  },
  {
   "cell_type": "code",
   "execution_count": 75,
   "metadata": {},
   "outputs": [],
   "source": [
    "data_object['host_since'] = data_object['host_since'].astype('datetime64[ns]')"
   ]
  },
  {
   "cell_type": "code",
   "execution_count": 76,
   "metadata": {},
   "outputs": [
    {
     "data": {
      "text/plain": [
       "San Francisco, California, United States                    6190\n",
       "US                                                           764\n",
       "New York, New York, United States                            224\n",
       "Los Angeles, California, United States                       122\n",
       "California, United States                                     59\n",
       "San Diego, California, United States                          47\n",
       "Calgary, Alberta, Canada                                      44\n",
       "Penn Valley, California, United States                        35\n",
       "Birmingham, Alabama, United States                            34\n",
       "San Anselmo, California, United States                        28\n",
       "Tigard, Oregon, United States                                 27\n",
       "Denver, Colorado, United States                               27\n",
       "Hawthorne, New Jersey, United States                          26\n",
       "Victoria, British Columbia, Canada                            26\n",
       "Irvine, California, United States                             19\n",
       "Miami, Florida, United States                                 17\n",
       "United States                                                 16\n",
       "Reno, Nevada, United States                                   15\n",
       "Daly City, California, United States                          14\n",
       "Berkeley, California, United States                           13\n",
       "New Orleans, Louisiana, United States                         13\n",
       "IT                                                            11\n",
       "Palm Springs, California, United States                       10\n",
       "Alameda, California, United States                            10\n",
       "Palo Alto, California, United States                           8\n",
       "San Jose, California, United States                            8\n",
       "Diamond Bar, California, United States                         7\n",
       "IN                                                             7\n",
       "West Palm Beach, Florida, United States                        6\n",
       "San Rafael, California, United States                          6\n",
       "                                                            ... \n",
       "Orlando, Florida, United States                                1\n",
       "Newport Beach, California, United States                       1\n",
       "Las Vegas, Nevada, United States                               1\n",
       "Vancouver, British Columbia, Canada                            1\n",
       "Antioch, California, United States                             1\n",
       "Princeton, New Jersey, United States                           1\n",
       "Nevada City, California, United States                         1\n",
       " California, United States                                     1\n",
       "Santa Barbara, California, United States                       1\n",
       "Los Altos, California, United States                           1\n",
       "La Rochelle, Aquitaine Limousin Poitou-Charentes, France       1\n",
       "Connecticut                                                    1\n",
       "Chiang Mai, Thailand                                           1\n",
       "Medellín, Antioquia, Colombia                                  1\n",
       "Lake Oswego, Oregon, United States                             1\n",
       "Discovery Bay, California, United States                       1\n",
       "Noe Valley / Bernal Heights / Mission                          1\n",
       "PR                                                             1\n",
       "Union City, California, United States                          1\n",
       "IE                                                             1\n",
       "Danville, California, United States                            1\n",
       "Raleigh, North Carolina, United States                         1\n",
       "Pacific Grove, California, United States                       1\n",
       "San Francisco / Danville / London                              1\n",
       "Portola Valley, California, United States                      1\n",
       "Half Moon Bay, California, United States                       1\n",
       "Concord, California, United States                             1\n",
       "Incline Village, Nevada, United States                         1\n",
       "Mansfield, Connecticut, United States                          1\n",
       "Belvedere Tiburon, California, United States                   1\n",
       "Name: host_location, Length: 176, dtype: int64"
      ]
     },
     "execution_count": 76,
     "metadata": {},
     "output_type": "execute_result"
    }
   ],
   "source": [
    "data_object['host_location'].value_counts()"
   ]
  },
  {
   "cell_type": "code",
   "execution_count": null,
   "metadata": {},
   "outputs": [],
   "source": []
  },
  {
   "cell_type": "code",
   "execution_count": null,
   "metadata": {},
   "outputs": [],
   "source": []
  },
  {
   "cell_type": "markdown",
   "metadata": {},
   "source": [
    "## Colonnes *neighbourhood* et *neighbourhood_cleansed*"
   ]
  },
  {
   "cell_type": "code",
   "execution_count": 77,
   "metadata": {},
   "outputs": [
    {
     "data": {
      "text/html": [
       "<div>\n",
       "<style scoped>\n",
       "    .dataframe tbody tr th:only-of-type {\n",
       "        vertical-align: middle;\n",
       "    }\n",
       "\n",
       "    .dataframe tbody tr th {\n",
       "        vertical-align: top;\n",
       "    }\n",
       "\n",
       "    .dataframe thead th {\n",
       "        text-align: right;\n",
       "    }\n",
       "</style>\n",
       "<table border=\"1\" class=\"dataframe\">\n",
       "  <thead>\n",
       "    <tr style=\"text-align: right;\">\n",
       "      <th></th>\n",
       "      <th>neighbourhood</th>\n",
       "      <th>neighbourhood_cleansed</th>\n",
       "    </tr>\n",
       "  </thead>\n",
       "  <tbody>\n",
       "    <tr>\n",
       "      <th>0</th>\n",
       "      <td>Duboce Triangle</td>\n",
       "      <td>Western Addition</td>\n",
       "    </tr>\n",
       "    <tr>\n",
       "      <th>1</th>\n",
       "      <td>Inner Sunset</td>\n",
       "      <td>Inner Sunset</td>\n",
       "    </tr>\n",
       "    <tr>\n",
       "      <th>2</th>\n",
       "      <td>Bernal Heights</td>\n",
       "      <td>Bernal Heights</td>\n",
       "    </tr>\n",
       "    <tr>\n",
       "      <th>3</th>\n",
       "      <td>Cole Valley</td>\n",
       "      <td>Haight Ashbury</td>\n",
       "    </tr>\n",
       "    <tr>\n",
       "      <th>4</th>\n",
       "      <td>Cole Valley</td>\n",
       "      <td>Haight Ashbury</td>\n",
       "    </tr>\n",
       "  </tbody>\n",
       "</table>\n",
       "</div>"
      ],
      "text/plain": [
       "     neighbourhood neighbourhood_cleansed\n",
       "0  Duboce Triangle       Western Addition\n",
       "1     Inner Sunset           Inner Sunset\n",
       "2   Bernal Heights         Bernal Heights\n",
       "3      Cole Valley         Haight Ashbury\n",
       "4      Cole Valley         Haight Ashbury"
      ]
     },
     "execution_count": 77,
     "metadata": {},
     "output_type": "execute_result"
    }
   ],
   "source": [
    "data_object[['neighbourhood', 'neighbourhood_cleansed']].head()"
   ]
  },
  {
   "cell_type": "markdown",
   "metadata": {},
   "source": [
    "La variable *neighbourhood_cleansed* a l'air d'être une version prétraitée de *neighbourhood*. NOus pouvons donc seulement garder *neighbourhood_cleansed*.  \n",
    "Est ce qu'on traite cette colonne comme du texte ou comme une variable catégorique?"
   ]
  },
  {
   "cell_type": "code",
   "execution_count": 78,
   "metadata": {},
   "outputs": [],
   "source": [
    "var_text.append('neighbourhood_cleansed')"
   ]
  },
  {
   "cell_type": "code",
   "execution_count": 79,
   "metadata": {},
   "outputs": [],
   "source": [
    "col_to_drop.append('neighbourhood_cleansed')\n",
    "data_object = data_object.drop(['neighbourhood_cleansed'], axis=1)"
   ]
  },
  {
   "cell_type": "markdown",
   "metadata": {},
   "source": [
    "## Colonnes *state*, *country* et *country_code*"
   ]
  },
  {
   "cell_type": "code",
   "execution_count": 80,
   "metadata": {},
   "outputs": [
    {
     "name": "stdout",
     "output_type": "stream",
     "text": [
      "CA    8101\n",
      "Ca       3\n",
      "Name: state, dtype: int64\n",
      "1\n",
      "1\n",
      "1\n",
      "1\n",
      "1\n"
     ]
    }
   ],
   "source": [
    "print(data_object['state'].value_counts())\n",
    "print(data_object['country_code'].nunique())\n",
    "print(data_object['country'].nunique())\n",
    "print(data_object['has_availability'].nunique())\n",
    "print(data_object['jurisdiction_names'].nunique())\n",
    "print(data_object['is_business_travel_ready'].nunique())"
   ]
  },
  {
   "cell_type": "markdown",
   "metadata": {},
   "source": [
    "Toutes les lignes ont la même valeur. On peut donc supprimer cette variable."
   ]
  },
  {
   "cell_type": "markdown",
   "metadata": {},
   "source": [
    "De même, les variables *has_availibility*, *jurisdiction_names* ne prend qu'une valeur"
   ]
  },
  {
   "cell_type": "code",
   "execution_count": 81,
   "metadata": {},
   "outputs": [],
   "source": [
    "col_to_drop.extend(['state', 'country_code', 'has_availability', 'jurisdiction_names', 'is_business_travel_ready'])\n",
    "data_object = data_object.drop(['state', 'country_code',\n",
    "                                'has_availability', 'jurisdiction_names', 'is_business_travel_ready'], axis=1)"
   ]
  },
  {
   "cell_type": "markdown",
   "metadata": {},
   "source": [
    "## Colonnes *city* et *smart_location*"
   ]
  },
  {
   "cell_type": "code",
   "execution_count": 82,
   "metadata": {},
   "outputs": [
    {
     "data": {
      "text/plain": [
       "San Francisco                  8059\n",
       "Daly City                        34\n",
       "San Francisco                     3\n",
       "Brisbane                          1\n",
       "San Francisco, Hayes Valley       1\n",
       "San Jose                          1\n",
       "Noe Valley - San Francisco        1\n",
       "旧金山                               1\n",
       "Name: city, dtype: int64"
      ]
     },
     "execution_count": 82,
     "metadata": {},
     "output_type": "execute_result"
    }
   ],
   "source": [
    "data_object['city'].value_counts()"
   ]
  },
  {
   "cell_type": "code",
   "execution_count": 83,
   "metadata": {},
   "outputs": [
    {
     "data": {
      "text/plain": [
       "San Francisco, CA                  8050\n",
       "Daly City, CA                        34\n",
       "CA                                    9\n",
       "San Francisco                         6\n",
       "San Francisco , CA                    3\n",
       "San Francisco, Ca                     3\n",
       "San Jose, CA                          1\n",
       "Brisbane, CA                          1\n",
       "San Francisco, Hayes Valley, CA       1\n",
       "US,                                   1\n",
       "Noe Valley - San Francisco, CA        1\n",
       "旧金山, CA                               1\n",
       "Name: smart_location, dtype: int64"
      ]
     },
     "execution_count": 83,
     "metadata": {},
     "output_type": "execute_result"
    }
   ],
   "source": [
    "data_object['smart_location'].value_counts()"
   ]
  },
  {
   "cell_type": "code",
   "execution_count": 84,
   "metadata": {},
   "outputs": [],
   "source": [
    "to_cat = []\n",
    "to_cat.append('city')"
   ]
  },
  {
   "cell_type": "markdown",
   "metadata": {},
   "source": [
    "Est ce qu'on a vraiment besoin des 2 variables ?  \n",
    "On peut garder la variable *city* pour l'instant. On peut éventuellement retirer la ligne écrite en chinois."
   ]
  },
  {
   "cell_type": "markdown",
   "metadata": {},
   "source": [
    "## Colonne *market*"
   ]
  },
  {
   "cell_type": "code",
   "execution_count": 85,
   "metadata": {},
   "outputs": [
    {
     "data": {
      "text/plain": [
       "San Francisco    8089\n",
       "D.C.                1\n",
       "Name: market, dtype: int64"
      ]
     },
     "execution_count": 85,
     "metadata": {},
     "output_type": "execute_result"
    }
   ],
   "source": [
    "data_object['market'].value_counts()"
   ]
  },
  {
   "cell_type": "markdown",
   "metadata": {},
   "source": [
    "Est ce qu'on garde la ligne D.C. ?"
   ]
  },
  {
   "cell_type": "markdown",
   "metadata": {},
   "source": [
    "## Colonnes de booléens (*is_location_exact*, )"
   ]
  },
  {
   "cell_type": "code",
   "execution_count": 86,
   "metadata": {},
   "outputs": [],
   "source": [
    "to_bool = []\n",
    "d = {'t': True, 'f': False}"
   ]
  },
  {
   "cell_type": "code",
   "execution_count": 87,
   "metadata": {},
   "outputs": [
    {
     "name": "stdout",
     "output_type": "stream",
     "text": [
      "t    6671\n",
      "f    1440\n",
      "Name: is_location_exact, dtype: int64\n",
      "\n",
      "\n",
      "t    8057\n",
      "f      54\n",
      "Name: requires_license, dtype: int64\n",
      "\n",
      "\n",
      "f    4763\n",
      "t    3348\n",
      "Name: instant_bookable, dtype: int64\n",
      "\n",
      "\n",
      "f    7777\n",
      "t     334\n",
      "Name: require_guest_profile_picture, dtype: int64\n",
      "\n",
      "\n",
      "f    7677\n",
      "t     434\n",
      "Name: require_guest_phone_verification, dtype: int64\n"
     ]
    }
   ],
   "source": [
    "print(data_object['is_location_exact'].value_counts())\n",
    "print(\"\\n\")\n",
    "print(data_object['requires_license'].value_counts())\n",
    "print(\"\\n\")\n",
    "print(data_object['instant_bookable'].value_counts())\n",
    "print(\"\\n\")\n",
    "print(data_object['require_guest_profile_picture'].value_counts())\n",
    "print(\"\\n\")\n",
    "print(data_object['require_guest_phone_verification'].value_counts())"
   ]
  },
  {
   "cell_type": "code",
   "execution_count": 88,
   "metadata": {},
   "outputs": [],
   "source": [
    "to_bool.extend(['is_location_exact', 'requires_license', 'instant_bookable',\n",
    "                'require_guest_profile_picture', 'require_guest_phone_verification'])"
   ]
  },
  {
   "cell_type": "code",
   "execution_count": 89,
   "metadata": {},
   "outputs": [],
   "source": [
    "data_object['is_location_exact'] = data_object['is_location_exact'].map(d)\n",
    "data_object['requires_license'] = data_object['requires_license'].map(d)\n",
    "data_object['instant_bookable'] = data_object['instant_bookable'].map(d)\n",
    "data_object['require_guest_profile_picture'] = data_object['require_guest_profile_picture'].map(d)\n",
    "data_object['require_guest_phone_verification'] = data_object['require_guest_phone_verification'].map(d)"
   ]
  },
  {
   "cell_type": "markdown",
   "metadata": {},
   "source": [
    "## Variables catégoriques (*room_type*, *property_type*"
   ]
  },
  {
   "cell_type": "code",
   "execution_count": 90,
   "metadata": {},
   "outputs": [
    {
     "name": "stdout",
     "output_type": "stream",
     "text": [
      "Apartment             3243\n",
      "House                 2314\n",
      "Condominium            892\n",
      "Guest suite            577\n",
      "Boutique hotel         267\n",
      "Hotel                  157\n",
      "Townhouse              142\n",
      "Serviced apartment     121\n",
      "Hostel                  92\n",
      "Loft                    88\n",
      "Bed and breakfast       43\n",
      "Aparthotel              41\n",
      "Guesthouse              41\n",
      "Other                   24\n",
      "Bungalow                17\n",
      "Resort                  14\n",
      "Cottage                 12\n",
      "Villa                   10\n",
      "Castle                   4\n",
      "Cabin                    3\n",
      "Tiny house               3\n",
      "Earth house              2\n",
      "In-law                   1\n",
      "Camper/RV                1\n",
      "Dome house               1\n",
      "Hut                      1\n",
      "Name: property_type, dtype: int64\n",
      "\n",
      "\n",
      "Entire home/apt    4772\n",
      "Private room       2891\n",
      "Shared room         241\n",
      "Hotel room          207\n",
      "Name: room_type, dtype: int64\n",
      "\n",
      "\n",
      "Real Bed         8042\n",
      "Futon              33\n",
      "Pull-out Sofa      19\n",
      "Airbed             11\n",
      "Couch               6\n",
      "Name: bed_type, dtype: int64\n",
      "\n",
      "\n",
      "strict_14_with_grace_period    3601\n",
      "moderate                       2605\n",
      "flexible                       1735\n",
      "strict                          106\n",
      "super_strict_30                  45\n",
      "super_strict_60                  19\n",
      "Name: cancellation_policy, dtype: int64\n"
     ]
    }
   ],
   "source": [
    "print(data_object['property_type'].value_counts())\n",
    "print(\"\\n\")\n",
    "print(data_object['room_type'].value_counts())\n",
    "print(\"\\n\")\n",
    "print(data_object['bed_type'].value_counts())\n",
    "print(\"\\n\")\n",
    "print(data_object['cancellation_policy'].value_counts())"
   ]
  },
  {
   "cell_type": "code",
   "execution_count": 91,
   "metadata": {},
   "outputs": [],
   "source": [
    "to_cat.extend(['property_type', 'room_type', 'bed_type', 'cancellation_policy'])"
   ]
  },
  {
   "cell_type": "markdown",
   "metadata": {},
   "source": [
    "Il faudrait réduire le nombre de catégories de *property_type*."
   ]
  },
  {
   "cell_type": "markdown",
   "metadata": {},
   "source": [
    "## Colonne *amenities*"
   ]
  },
  {
   "cell_type": "code",
   "execution_count": 92,
   "metadata": {},
   "outputs": [
    {
     "data": {
      "text/plain": [
       "0    {TV,\"Cable TV\",Internet,Wifi,Kitchen,\"Pets liv...\n",
       "1    {Internet,Wifi,Kitchen,Breakfast,\"Free street ...\n",
       "2    {Internet,Wifi,Kitchen,Heating,\"Family/kid fri...\n",
       "3    {TV,Internet,Wifi,Kitchen,\"Free street parking...\n",
       "4    {TV,Internet,Wifi,Kitchen,\"Free street parking...\n",
       "Name: amenities, dtype: object"
      ]
     },
     "execution_count": 92,
     "metadata": {},
     "output_type": "execute_result"
    }
   ],
   "source": [
    "data_object['amenities'].head()"
   ]
  },
  {
   "cell_type": "markdown",
   "metadata": {},
   "source": [
    "Est ce qu'on traite cette variable comme du texte ou comme des catégories ?"
   ]
  },
  {
   "cell_type": "markdown",
   "metadata": {},
   "source": [
    "## Colonnes *xxx_price*"
   ]
  },
  {
   "cell_type": "code",
   "execution_count": 93,
   "metadata": {
    "scrolled": true
   },
   "outputs": [
    {
     "data": {
      "text/plain": [
       "0    $170.00 \n",
       "1     $99.00 \n",
       "2    $235.00 \n",
       "3     $65.00 \n",
       "4     $65.00 \n",
       "Name: price, dtype: object"
      ]
     },
     "execution_count": 93,
     "metadata": {},
     "output_type": "execute_result"
    }
   ],
   "source": [
    "data_object['price'].head()"
   ]
  },
  {
   "cell_type": "code",
   "execution_count": 94,
   "metadata": {},
   "outputs": [
    {
     "data": {
      "text/plain": [
       "0    $25.00 \n",
       "1    $20.00 \n",
       "2     $0.00 \n",
       "3    $12.00 \n",
       "4    $12.00 \n",
       "Name: extra_people, dtype: object"
      ]
     },
     "execution_count": 94,
     "metadata": {},
     "output_type": "execute_result"
    }
   ],
   "source": [
    "data_object['extra_people'].head()"
   ]
  },
  {
   "cell_type": "markdown",
   "metadata": {},
   "source": [
    "On convertit le prix en entier."
   ]
  },
  {
   "cell_type": "code",
   "execution_count": 95,
   "metadata": {},
   "outputs": [],
   "source": [
    "data_object['price'] = data_object['price'].map(lambda x: int( x[1: (len(x)-4) ].replace(',', '') ))\n",
    "data_object['extra_people'] = data_object['extra_people'].map(lambda x: int( x[1: (len(x)-4) ].replace(',', '') ))"
   ]
  },
  {
   "cell_type": "markdown",
   "metadata": {},
   "source": [
    "Est ce qu'on garde les autres prix? Je suis d'avis de les enlever"
   ]
  },
  {
   "cell_type": "markdown",
   "metadata": {},
   "source": [
    "## Colonne *security_deposit* et *cleanning_fee*"
   ]
  },
  {
   "cell_type": "code",
   "execution_count": 96,
   "metadata": {},
   "outputs": [
    {
     "data": {
      "text/plain": [
       "0    $100.00 \n",
       "1      $0.00 \n",
       "2         NaN\n",
       "3    $200.00 \n",
       "4    $200.00 \n",
       "Name: security_deposit, dtype: object"
      ]
     },
     "execution_count": 96,
     "metadata": {},
     "output_type": "execute_result"
    }
   ],
   "source": [
    "data_object['security_deposit'].head()"
   ]
  },
  {
   "cell_type": "code",
   "execution_count": 97,
   "metadata": {},
   "outputs": [
    {
     "data": {
      "text/plain": [
       "0    $100.00 \n",
       "1     $10.00 \n",
       "2    $100.00 \n",
       "3     $50.00 \n",
       "4     $50.00 \n",
       "Name: cleaning_fee, dtype: object"
      ]
     },
     "execution_count": 97,
     "metadata": {},
     "output_type": "execute_result"
    }
   ],
   "source": [
    "data_object['cleaning_fee'].head()"
   ]
  },
  {
   "cell_type": "code",
   "execution_count": 98,
   "metadata": {},
   "outputs": [],
   "source": [
    "def convert(x):\n",
    "    #print(x)\n",
    "    #print(x.isna())\n",
    "    if x != x:        # test si x == NAN\n",
    "        return x\n",
    "    else:\n",
    "        return int( x[1 : (len(x)-4) ].replace(',', '') )"
   ]
  },
  {
   "cell_type": "code",
   "execution_count": 99,
   "metadata": {},
   "outputs": [],
   "source": [
    "data_object['security_deposit'] = data_object['security_deposit'].map(lambda x: convert(x))\n",
    "data_object['cleaning_fee'] = data_object['cleaning_fee'].map(lambda x: convert(x))"
   ]
  },
  {
   "cell_type": "markdown",
   "metadata": {},
   "source": [
    "## Colonne *calendar_updated*"
   ]
  },
  {
   "cell_type": "code",
   "execution_count": 100,
   "metadata": {},
   "outputs": [
    {
     "data": {
      "text/plain": [
       "0    2 months ago\n",
       "1      3 days ago\n",
       "2     3 weeks ago\n",
       "3    3 months ago\n",
       "4    3 months ago\n",
       "Name: calendar_updated, dtype: object"
      ]
     },
     "execution_count": 100,
     "metadata": {},
     "output_type": "execute_result"
    }
   ],
   "source": [
    "data_object['calendar_updated'].head()"
   ]
  },
  {
   "cell_type": "markdown",
   "metadata": {},
   "source": [
    "Je sais pas comment traiter cette variable"
   ]
  },
  {
   "cell_type": "markdown",
   "metadata": {},
   "source": [
    "## Colonnes contenant des dates (*first_review*, *last_review*)"
   ]
  },
  {
   "cell_type": "code",
   "execution_count": 101,
   "metadata": {},
   "outputs": [
    {
     "data": {
      "text/plain": [
       "0    7/23/09\n",
       "1    7/16/09\n",
       "2     5/3/09\n",
       "3    8/31/09\n",
       "4     9/8/14\n",
       "Name: first_review, dtype: object"
      ]
     },
     "execution_count": 101,
     "metadata": {},
     "output_type": "execute_result"
    }
   ],
   "source": [
    "data_object['first_review'].head()"
   ]
  },
  {
   "cell_type": "code",
   "execution_count": 102,
   "metadata": {},
   "outputs": [
    {
     "data": {
      "text/plain": [
       "0    9/21/19\n",
       "1    9/30/19\n",
       "2     8/6/17\n",
       "3    9/10/19\n",
       "4    9/12/18\n",
       "Name: last_review, dtype: object"
      ]
     },
     "execution_count": 102,
     "metadata": {},
     "output_type": "execute_result"
    }
   ],
   "source": [
    "data_object['last_review'].head()"
   ]
  },
  {
   "cell_type": "code",
   "execution_count": 103,
   "metadata": {},
   "outputs": [],
   "source": [
    "data_object['first_review'] = data_object['first_review'].astype('datetime64[ns]')\n",
    "data_object['last_review'] = data_object['last_review'].astype('datetime64[ns]') "
   ]
  },
  {
   "cell_type": "markdown",
   "metadata": {},
   "source": [
    "## Colonne *license*"
   ]
  },
  {
   "cell_type": "code",
   "execution_count": 104,
   "metadata": {},
   "outputs": [
    {
     "data": {
      "text/plain": [
       "City registration pending                 797\n",
       "License not needed per OSTR               474\n",
       "City Registration Pending                  83\n",
       "1083521                                    32\n",
       "1078479                                    29\n",
       "city registration pending                  27\n",
       "365804                                     24\n",
       "933345                                     22\n",
       "382559                                     18\n",
       "1003249                                    16\n",
       "Licensed Hotel/B&B                         14\n",
       "428539                                     14\n",
       "CITY REGISTRATION PENDING                  14\n",
       "1031137                                    13\n",
       "1080289                                    12\n",
       "BAN-1030905                                12\n",
       "394267                                     10\n",
       "FY 2017-18                                 10\n",
       "STR-0001234                                10\n",
       "421763                                     10\n",
       "STR-0001537                                 8\n",
       "STR-0001690                                 8\n",
       "390024                                      7\n",
       "1105659                                     7\n",
       "1008731                                     7\n",
       "1013041                                     6\n",
       "STR-0003189                                 6\n",
       "STR-0003223                                 6\n",
       "STR-0000478                                 6\n",
       "1104088                                     5\n",
       "                                         ... \n",
       "STR-0002084                                 1\n",
       "STR-0001829                                 1\n",
       "1087296                                     1\n",
       "STR-0003114                                 1\n",
       "CIty registration pending                   1\n",
       "STR-0003461                                 1\n",
       "STR-0002372                                 1\n",
       "STR-0000301                                 1\n",
       "STR-0003597                                 1\n",
       "City Registration Pending - BAN1024460      1\n",
       "STR-0002564                                 1\n",
       "3713323005                                  1\n",
       "STR-0002352                                 1\n",
       "STR-0000222                                 1\n",
       "STR-0001113                                 1\n",
       "STR-0001940                                 1\n",
       "STR-0003538                                 1\n",
       "STR-0000245                                 1\n",
       "STR-0001822                                 1\n",
       "STR-0000071                                 1\n",
       "STR-0001502                                 1\n",
       "STR-0002952                                 1\n",
       "STR-0001167                                 1\n",
       "STR-0001349                                 1\n",
       "STR-0002686                                 1\n",
       "STR-0003178                                 1\n",
       "STR-0000072                                 1\n",
       "STR-0000035                                 1\n",
       "STR-0003085                                 1\n",
       "STR-0002944                                 1\n",
       "Name: license, Length: 2554, dtype: int64"
      ]
     },
     "execution_count": 104,
     "metadata": {},
     "output_type": "execute_result"
    }
   ],
   "source": [
    "data_object['license'].value_counts()"
   ]
  },
  {
   "cell_type": "markdown",
   "metadata": {},
   "source": [
    "Est ce qu'on considere cette variable comme etant catégorique ou on l'enleve?"
   ]
  },
  {
   "cell_type": "code",
   "execution_count": null,
   "metadata": {},
   "outputs": [],
   "source": []
  },
  {
   "cell_type": "code",
   "execution_count": null,
   "metadata": {},
   "outputs": [],
   "source": []
  }
 ],
 "metadata": {
  "kernelspec": {
   "display_name": "Python 3",
   "language": "python",
   "name": "python3"
  },
  "language_info": {
   "codemirror_mode": {
    "name": "ipython",
    "version": 3
   },
   "file_extension": ".py",
   "mimetype": "text/x-python",
   "name": "python",
   "nbconvert_exporter": "python",
   "pygments_lexer": "ipython3",
   "version": "3.7.3"
  }
 },
 "nbformat": 4,
 "nbformat_minor": 2
}
